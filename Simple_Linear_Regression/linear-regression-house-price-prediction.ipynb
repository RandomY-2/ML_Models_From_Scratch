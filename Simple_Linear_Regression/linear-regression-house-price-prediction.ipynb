{
 "cells": [
  {
   "cell_type": "markdown",
   "metadata": {
    "papermill": {
     "duration": 0.030818,
     "end_time": "2020-12-19T13:21:37.085430",
     "exception": false,
     "start_time": "2020-12-19T13:21:37.054612",
     "status": "completed"
    },
    "tags": []
   },
   "source": [
    "# Introduction\n",
    "\n",
    "In this notebook, I am going to write a single-variable Linear Regression model that predicts the price of a house using its GrLivArea column. Then, the model will be compared to a scikit-learn built-in Linear Regression model to see the performance of our implementation."
   ]
  },
  {
   "cell_type": "code",
   "execution_count": 1,
   "metadata": {
    "_cell_guid": "b1076dfc-b9ad-4769-8c92-a6c4dae69d19",
    "_uuid": "8f2839f25d086af736a60e9eeb907d3b93b6e0e5",
    "execution": {
     "iopub.execute_input": "2020-12-19T13:21:37.153783Z",
     "iopub.status.busy": "2020-12-19T13:21:37.152947Z",
     "iopub.status.idle": "2020-12-19T13:21:37.625543Z",
     "shell.execute_reply": "2020-12-19T13:21:37.624593Z"
    },
    "papermill": {
     "duration": 0.509712,
     "end_time": "2020-12-19T13:21:37.625711",
     "exception": false,
     "start_time": "2020-12-19T13:21:37.115999",
     "status": "completed"
    },
    "tags": []
   },
   "outputs": [
    {
     "name": "stdout",
     "output_type": "stream",
     "text": [
      "/kaggle/input/house-prices-advanced-regression-techniques/sample_submission.csv\n",
      "/kaggle/input/house-prices-advanced-regression-techniques/data_description.txt\n",
      "/kaggle/input/house-prices-advanced-regression-techniques/train.csv\n",
      "/kaggle/input/house-prices-advanced-regression-techniques/test.csv\n"
     ]
    }
   ],
   "source": [
    "# This Python 3 environment comes with many helpful analytics libraries installed\n",
    "# It is defined by the kaggle/python Docker image: https://github.com/kaggle/docker-python\n",
    "# For example, here's several helpful packages to load\n",
    "\n",
    "import numpy as np # linear algebra\n",
    "import pandas as pd # data processing, CSV file I/O (e.g. pd.read_csv)\n",
    "import matplotlib.pyplot as plt\n",
    "import matplotlib.animation as animation\n",
    "from scipy.optimize import minimize\n",
    "\n",
    "# Input data files are available in the read-only \"../input/\" directory\n",
    "# For example, running this (by clicking run or pressing Shift+Enter) will list all files under the input directory\n",
    "\n",
    "import os\n",
    "for dirname, _, filenames in os.walk('/kaggle/input'):\n",
    "    for filename in filenames:\n",
    "        print(os.path.join(dirname, filename))\n",
    "\n",
    "# You can write up to 20GB to the current directory (/kaggle/working/) that gets preserved as output when you create a version using \"Save & Run All\" \n",
    "# You can also write temporary files to /kaggle/temp/, but they won't be saved outside of the current session"
   ]
  },
  {
   "cell_type": "code",
   "execution_count": 2,
   "metadata": {
    "_cell_guid": "79c7e3d0-c299-4dcb-8224-4455121ee9b0",
    "_uuid": "d629ff2d2480ee46fbb7e2d37f6b5fab8052498a",
    "execution": {
     "iopub.execute_input": "2020-12-19T13:21:37.698575Z",
     "iopub.status.busy": "2020-12-19T13:21:37.697743Z",
     "iopub.status.idle": "2020-12-19T13:21:37.744626Z",
     "shell.execute_reply": "2020-12-19T13:21:37.745287Z"
    },
    "papermill": {
     "duration": 0.086121,
     "end_time": "2020-12-19T13:21:37.745457",
     "exception": false,
     "start_time": "2020-12-19T13:21:37.659336",
     "status": "completed"
    },
    "tags": []
   },
   "outputs": [],
   "source": [
    "full_data = pd.read_csv('/kaggle/input/house-prices-advanced-regression-techniques/train.csv')"
   ]
  },
  {
   "cell_type": "markdown",
   "metadata": {
    "papermill": {
     "duration": 0.032122,
     "end_time": "2020-12-19T13:21:37.809418",
     "exception": false,
     "start_time": "2020-12-19T13:21:37.777296",
     "status": "completed"
    },
    "tags": []
   },
   "source": [
    "# Model Implementation"
   ]
  },
  {
   "cell_type": "markdown",
   "metadata": {
    "papermill": {
     "duration": 0.030524,
     "end_time": "2020-12-19T13:21:37.871209",
     "exception": false,
     "start_time": "2020-12-19T13:21:37.840685",
     "status": "completed"
    },
    "tags": []
   },
   "source": [
    "**1. Preprocessing**\n",
    "\n",
    "For our model, we will just use the GrLivArea column as input. Then, to make gradient descent more efficient and increase the performance of the model, I will normalize the input and add a bias unit. I will also create some variables for training and separate the train and test sets"
   ]
  },
  {
   "cell_type": "code",
   "execution_count": 3,
   "metadata": {
    "execution": {
     "iopub.execute_input": "2020-12-19T13:21:37.942891Z",
     "iopub.status.busy": "2020-12-19T13:21:37.942084Z",
     "iopub.status.idle": "2020-12-19T13:21:37.948838Z",
     "shell.execute_reply": "2020-12-19T13:21:37.947974Z"
    },
    "papermill": {
     "duration": 0.047007,
     "end_time": "2020-12-19T13:21:37.948972",
     "exception": false,
     "start_time": "2020-12-19T13:21:37.901965",
     "status": "completed"
    },
    "tags": []
   },
   "outputs": [],
   "source": [
    "X = full_data['GrLivArea']\n",
    "y = full_data['SalePrice']"
   ]
  },
  {
   "cell_type": "code",
   "execution_count": 4,
   "metadata": {
    "execution": {
     "iopub.execute_input": "2020-12-19T13:21:38.017962Z",
     "iopub.status.busy": "2020-12-19T13:21:38.017163Z",
     "iopub.status.idle": "2020-12-19T13:21:38.043145Z",
     "shell.execute_reply": "2020-12-19T13:21:38.042461Z"
    },
    "papermill": {
     "duration": 0.061811,
     "end_time": "2020-12-19T13:21:38.043259",
     "exception": false,
     "start_time": "2020-12-19T13:21:37.981448",
     "status": "completed"
    },
    "tags": []
   },
   "outputs": [],
   "source": [
    "X = (X - X.mean()) / X.std()\n",
    "X = np.c_[np.ones(X.shape[0]), X] "
   ]
  },
  {
   "cell_type": "code",
   "execution_count": 5,
   "metadata": {
    "execution": {
     "iopub.execute_input": "2020-12-19T13:21:38.096251Z",
     "iopub.status.busy": "2020-12-19T13:21:38.095312Z",
     "iopub.status.idle": "2020-12-19T13:21:38.545110Z",
     "shell.execute_reply": "2020-12-19T13:21:38.544579Z"
    },
    "papermill": {
     "duration": 0.479918,
     "end_time": "2020-12-19T13:21:38.545231",
     "exception": false,
     "start_time": "2020-12-19T13:21:38.065313",
     "status": "completed"
    },
    "tags": []
   },
   "outputs": [],
   "source": [
    "from sklearn.model_selection import train_test_split\n",
    "\n",
    "X_train, X_test, y_train, y_test = train_test_split(X, y, test_size=0.25, random_state=42)"
   ]
  },
  {
   "cell_type": "code",
   "execution_count": 6,
   "metadata": {
    "execution": {
     "iopub.execute_input": "2020-12-19T13:21:38.598172Z",
     "iopub.status.busy": "2020-12-19T13:21:38.597303Z",
     "iopub.status.idle": "2020-12-19T13:21:38.600963Z",
     "shell.execute_reply": "2020-12-19T13:21:38.600436Z"
    },
    "papermill": {
     "duration": 0.032141,
     "end_time": "2020-12-19T13:21:38.601083",
     "exception": false,
     "start_time": "2020-12-19T13:21:38.568942",
     "status": "completed"
    },
    "tags": []
   },
   "outputs": [],
   "source": [
    "learning_rate = 0.01\n",
    "iterations = 10000\n",
    "m = y_train.shape[0]\n",
    "theta = np.zeros(2)"
   ]
  },
  {
   "cell_type": "markdown",
   "metadata": {
    "papermill": {
     "duration": 0.021672,
     "end_time": "2020-12-19T13:21:38.646605",
     "exception": false,
     "start_time": "2020-12-19T13:21:38.624933",
     "status": "completed"
    },
    "tags": []
   },
   "source": [
    "**3. Hypothesis Function**\n",
    "\n",
    "The hypothesis function of a Linear Regression model is as follows:\n",
    "\n",
    "![](https://i2.wp.com/contentsimplicity.com/wp-content/uploads/2019/05/18d7e-1eieyrsqib85cpa32zapqwq.png?w=1080&ssl=1)"
   ]
  },
  {
   "cell_type": "code",
   "execution_count": 7,
   "metadata": {
    "execution": {
     "iopub.execute_input": "2020-12-19T13:21:38.681934Z",
     "iopub.status.busy": "2020-12-19T13:21:38.681319Z",
     "iopub.status.idle": "2020-12-19T13:21:38.685387Z",
     "shell.execute_reply": "2020-12-19T13:21:38.684691Z"
    },
    "papermill": {
     "duration": 0.02367,
     "end_time": "2020-12-19T13:21:38.685563",
     "exception": false,
     "start_time": "2020-12-19T13:21:38.661893",
     "status": "completed"
    },
    "tags": []
   },
   "outputs": [],
   "source": [
    "def predict(X, theta):\n",
    "    return np.dot(X, theta)"
   ]
  },
  {
   "cell_type": "markdown",
   "metadata": {
    "papermill": {
     "duration": 0.022685,
     "end_time": "2020-12-19T13:21:38.736746",
     "exception": false,
     "start_time": "2020-12-19T13:21:38.714061",
     "status": "completed"
    },
    "tags": []
   },
   "source": [
    "**4. Gradient Descent**\n",
    "\n",
    "Gradient descent allows the model to find theta parameters that minimize the loss, which is the sum of the sqaure of differences between predicted values and actual values. The idea of gradient descent is to slowly change theta so it moves to the direction that minimizes the loss. Specifically, the procedure of gradient descent is:\n",
    "\n",
    "![](https://miro.medium.com/max/900/1*G3evFxIAlDchOx5Wl7bV5g.png)"
   ]
  },
  {
   "cell_type": "code",
   "execution_count": 8,
   "metadata": {
    "execution": {
     "iopub.execute_input": "2020-12-19T13:21:38.789249Z",
     "iopub.status.busy": "2020-12-19T13:21:38.788461Z",
     "iopub.status.idle": "2020-12-19T13:21:38.790871Z",
     "shell.execute_reply": "2020-12-19T13:21:38.790284Z"
    },
    "papermill": {
     "duration": 0.031434,
     "end_time": "2020-12-19T13:21:38.790961",
     "exception": false,
     "start_time": "2020-12-19T13:21:38.759527",
     "status": "completed"
    },
    "tags": []
   },
   "outputs": [],
   "source": [
    "def gradient_descent(X, y, theta, iterations, learning_rate):\n",
    "    losses = []\n",
    "    thetas = [theta]\n",
    "    for i in range(iterations):\n",
    "        y_pred = predict(X, theta)\n",
    "        error = y_pred - y\n",
    "        loss = 1/(2*m) * np.dot(error.T, error)\n",
    "        losses.append(loss)\n",
    "        theta = theta - (learning_rate * (1/m) * np.dot(X.T, error))\n",
    "        thetas.append(theta)\n",
    "        \n",
    "    return thetas, losses"
   ]
  },
  {
   "cell_type": "code",
   "execution_count": 9,
   "metadata": {
    "execution": {
     "iopub.execute_input": "2020-12-19T13:21:38.839306Z",
     "iopub.status.busy": "2020-12-19T13:21:38.838537Z",
     "iopub.status.idle": "2020-12-19T13:21:41.247744Z",
     "shell.execute_reply": "2020-12-19T13:21:41.248385Z"
    },
    "papermill": {
     "duration": 2.434731,
     "end_time": "2020-12-19T13:21:41.248608",
     "exception": false,
     "start_time": "2020-12-19T13:21:38.813877",
     "status": "completed"
    },
    "tags": []
   },
   "outputs": [],
   "source": [
    "thetas, losses = gradient_descent(X_train, y_train, theta, iterations, learning_rate)\n",
    "theta = thetas[-1]"
   ]
  },
  {
   "cell_type": "markdown",
   "metadata": {
    "papermill": {
     "duration": 0.032806,
     "end_time": "2020-12-19T13:21:41.313932",
     "exception": false,
     "start_time": "2020-12-19T13:21:41.281126",
     "status": "completed"
    },
    "tags": []
   },
   "source": [
    "# Evaluation\n",
    "\n",
    "Now we have implemented a Simple Linear Regression model. Let's check how well it is performing."
   ]
  },
  {
   "cell_type": "markdown",
   "metadata": {
    "papermill": {
     "duration": 0.032726,
     "end_time": "2020-12-19T13:21:41.379670",
     "exception": false,
     "start_time": "2020-12-19T13:21:41.346944",
     "status": "completed"
    },
    "tags": []
   },
   "source": [
    "**1. Loss Function**\n",
    "\n",
    "The graph clearly shows that we effectively reduces the loss of our model, which means our implmentation is successful. "
   ]
  },
  {
   "cell_type": "code",
   "execution_count": 10,
   "metadata": {
    "execution": {
     "iopub.execute_input": "2020-12-19T13:21:41.450010Z",
     "iopub.status.busy": "2020-12-19T13:21:41.448888Z",
     "iopub.status.idle": "2020-12-19T13:21:41.653522Z",
     "shell.execute_reply": "2020-12-19T13:21:41.652952Z"
    },
    "papermill": {
     "duration": 0.240855,
     "end_time": "2020-12-19T13:21:41.653652",
     "exception": false,
     "start_time": "2020-12-19T13:21:41.412797",
     "status": "completed"
    },
    "tags": []
   },
   "outputs": [
    {
     "data": {
      "image/png": "[encoded data removed]",
      "text/plain": [
       "<Figure size 432x288 with 1 Axes>"
      ]
     },
     "metadata": {
      "needs_background": "light"
     },
     "output_type": "display_data"
    }
   ],
   "source": [
    "plt.title('Loss Function J')\n",
    "plt.xlabel('No. of iterations')\n",
    "plt.ylabel('Cost')\n",
    "plt.plot(losses)\n",
    "plt.show()"
   ]
  },
  {
   "cell_type": "code",
   "execution_count": 11,
   "metadata": {
    "execution": {
     "iopub.execute_input": "2020-12-19T13:21:41.704173Z",
     "iopub.status.busy": "2020-12-19T13:21:41.703197Z",
     "iopub.status.idle": "2020-12-19T13:21:41.710111Z",
     "shell.execute_reply": "2020-12-19T13:21:41.709573Z"
    },
    "papermill": {
     "duration": 0.033436,
     "end_time": "2020-12-19T13:21:41.710218",
     "exception": false,
     "start_time": "2020-12-19T13:21:41.676782",
     "status": "completed"
    },
    "tags": []
   },
   "outputs": [],
   "source": [
    "Y_pred = theta[0] + theta[1] * X_test"
   ]
  },
  {
   "cell_type": "code",
   "execution_count": 12,
   "metadata": {
    "execution": {
     "iopub.execute_input": "2020-12-19T13:21:41.761109Z",
     "iopub.status.busy": "2020-12-19T13:21:41.760280Z",
     "iopub.status.idle": "2020-12-19T13:21:41.764395Z",
     "shell.execute_reply": "2020-12-19T13:21:41.763872Z"
    },
    "papermill": {
     "duration": 0.031669,
     "end_time": "2020-12-19T13:21:41.764546",
     "exception": false,
     "start_time": "2020-12-19T13:21:41.732877",
     "status": "completed"
    },
    "tags": []
   },
   "outputs": [],
   "source": [
    "X_test_draw = np.delete(X_test, 0, 1) "
   ]
  },
  {
   "cell_type": "code",
   "execution_count": 13,
   "metadata": {
    "execution": {
     "iopub.execute_input": "2020-12-19T13:21:41.816310Z",
     "iopub.status.busy": "2020-12-19T13:21:41.815717Z",
     "iopub.status.idle": "2020-12-19T13:21:41.818324Z",
     "shell.execute_reply": "2020-12-19T13:21:41.818837Z"
    },
    "papermill": {
     "duration": 0.03086,
     "end_time": "2020-12-19T13:21:41.818950",
     "exception": false,
     "start_time": "2020-12-19T13:21:41.788090",
     "status": "completed"
    },
    "tags": []
   },
   "outputs": [],
   "source": [
    "Y_pred_draw = np.delete(Y_pred, 0, 1)"
   ]
  },
  {
   "cell_type": "markdown",
   "metadata": {
    "papermill": {
     "duration": 0.023072,
     "end_time": "2020-12-19T13:21:41.865287",
     "exception": false,
     "start_time": "2020-12-19T13:21:41.842215",
     "status": "completed"
    },
    "tags": []
   },
   "source": [
    "**2. Regression Plots**"
   ]
  },
  {
   "cell_type": "markdown",
   "metadata": {
    "papermill": {
     "duration": 0.029068,
     "end_time": "2020-12-19T13:21:41.917461",
     "exception": false,
     "start_time": "2020-12-19T13:21:41.888393",
     "status": "completed"
    },
    "tags": []
   },
   "source": [
    "Our Regression Plot:"
   ]
  },
  {
   "cell_type": "code",
   "execution_count": 14,
   "metadata": {
    "execution": {
     "iopub.execute_input": "2020-12-19T13:21:41.981281Z",
     "iopub.status.busy": "2020-12-19T13:21:41.977431Z",
     "iopub.status.idle": "2020-12-19T13:21:42.169456Z",
     "shell.execute_reply": "2020-12-19T13:21:42.170136Z"
    },
    "papermill": {
     "duration": 0.223791,
     "end_time": "2020-12-19T13:21:42.170306",
     "exception": false,
     "start_time": "2020-12-19T13:21:41.946515",
     "status": "completed"
    },
    "tags": []
   },
   "outputs": [
    {
     "data": {
      "image/png": "[encoded data removed]",
      "text/plain": [
       "<Figure size 432x288 with 1 Axes>"
      ]
     },
     "metadata": {
      "needs_background": "light"
     },
     "output_type": "display_data"
    }
   ],
   "source": [
    "plt.scatter(X_test_draw, y_test)\n",
    "plt.plot(X_test_draw, Y_pred_draw, color='red')\n",
    "plt.show()"
   ]
  },
  {
   "cell_type": "markdown",
   "metadata": {
    "papermill": {
     "duration": 0.025133,
     "end_time": "2020-12-19T13:21:42.220320",
     "exception": false,
     "start_time": "2020-12-19T13:21:42.195187",
     "status": "completed"
    },
    "tags": []
   },
   "source": [
    "Scikit-learn Regression Plot:"
   ]
  },
  {
   "cell_type": "code",
   "execution_count": 15,
   "metadata": {
    "execution": {
     "iopub.execute_input": "2020-12-19T13:21:42.273292Z",
     "iopub.status.busy": "2020-12-19T13:21:42.272668Z",
     "iopub.status.idle": "2020-12-19T13:21:42.385028Z",
     "shell.execute_reply": "2020-12-19T13:21:42.383506Z"
    },
    "papermill": {
     "duration": 0.139903,
     "end_time": "2020-12-19T13:21:42.385143",
     "exception": false,
     "start_time": "2020-12-19T13:21:42.245240",
     "status": "completed"
    },
    "tags": []
   },
   "outputs": [],
   "source": [
    "from sklearn.linear_model import LinearRegression\n",
    "\n",
    "reg_model = LinearRegression()\n",
    "reg_model.fit(X_train, y_train)\n",
    "\n",
    "reg_pred = reg_model.predict(X_test)"
   ]
  },
  {
   "cell_type": "code",
   "execution_count": 16,
   "metadata": {
    "execution": {
     "iopub.execute_input": "2020-12-19T13:21:42.459658Z",
     "iopub.status.busy": "2020-12-19T13:21:42.458996Z",
     "iopub.status.idle": "2020-12-19T13:21:42.642240Z",
     "shell.execute_reply": "2020-12-19T13:21:42.641426Z"
    },
    "papermill": {
     "duration": 0.232267,
     "end_time": "2020-12-19T13:21:42.642362",
     "exception": false,
     "start_time": "2020-12-19T13:21:42.410095",
     "status": "completed"
    },
    "tags": []
   },
   "outputs": [
    {
     "data": {
      "image/png": "[encoded data removed]",
      "text/plain": [
       "<Figure size 432x288 with 1 Axes>"
      ]
     },
     "metadata": {
      "needs_background": "light"
     },
     "output_type": "display_data"
    }
   ],
   "source": [
    "plt.scatter(X_test_draw, y_test)\n",
    "plt.plot(X_test_draw, reg_pred, color='red')\n",
    "plt.show()"
   ]
  },
  {
   "cell_type": "markdown",
   "metadata": {
    "papermill": {
     "duration": 0.037872,
     "end_time": "2020-12-19T13:21:42.719827",
     "exception": false,
     "start_time": "2020-12-19T13:21:42.681955",
     "status": "completed"
    },
    "tags": []
   },
   "source": [
    "The two graphs show that our model is very similar to the built-in Linear Regression model, which again shows our implementation is successful."
   ]
  },
  {
   "cell_type": "markdown",
   "metadata": {
    "papermill": {
     "duration": 0.036909,
     "end_time": "2020-12-19T13:21:42.793971",
     "exception": false,
     "start_time": "2020-12-19T13:21:42.757062",
     "status": "completed"
    },
    "tags": []
   },
   "source": [
    "**3. Coefficients**"
   ]
  },
  {
   "cell_type": "code",
   "execution_count": 17,
   "metadata": {
    "execution": {
     "iopub.execute_input": "2020-12-19T13:21:42.874921Z",
     "iopub.status.busy": "2020-12-19T13:21:42.874097Z",
     "iopub.status.idle": "2020-12-19T13:21:42.879871Z",
     "shell.execute_reply": "2020-12-19T13:21:42.879177Z"
    },
    "papermill": {
     "duration": 0.049164,
     "end_time": "2020-12-19T13:21:42.879990",
     "exception": false,
     "start_time": "2020-12-19T13:21:42.830826",
     "status": "completed"
    },
    "tags": []
   },
   "outputs": [
    {
     "data": {
      "text/plain": [
       "array([    0.        , 53844.68407667])"
      ]
     },
     "execution_count": 17,
     "metadata": {},
     "output_type": "execute_result"
    }
   ],
   "source": [
    "reg_model.coef_"
   ]
  },
  {
   "cell_type": "code",
   "execution_count": 18,
   "metadata": {
    "execution": {
     "iopub.execute_input": "2020-12-19T13:21:42.960971Z",
     "iopub.status.busy": "2020-12-19T13:21:42.960031Z",
     "iopub.status.idle": "2020-12-19T13:21:42.965344Z",
     "shell.execute_reply": "2020-12-19T13:21:42.964550Z"
    },
    "papermill": {
     "duration": 0.048063,
     "end_time": "2020-12-19T13:21:42.965462",
     "exception": false,
     "start_time": "2020-12-19T13:21:42.917399",
     "status": "completed"
    },
    "tags": []
   },
   "outputs": [
    {
     "data": {
      "text/plain": [
       "array([180098.42294697,  53844.68407667])"
      ]
     },
     "execution_count": 18,
     "metadata": {},
     "output_type": "execute_result"
    }
   ],
   "source": [
    "theta"
   ]
  },
  {
   "cell_type": "markdown",
   "metadata": {
    "papermill": {
     "duration": 0.038197,
     "end_time": "2020-12-19T13:21:43.042232",
     "exception": false,
     "start_time": "2020-12-19T13:21:43.004035",
     "status": "completed"
    },
    "tags": []
   },
   "source": [
    "The coefficients are also almost the same, so our model is achieving the performance of the scikit-learn one. "
   ]
  },
  {
   "cell_type": "markdown",
   "metadata": {
    "papermill": {
     "duration": 0.038318,
     "end_time": "2020-12-19T13:21:43.118951",
     "exception": false,
     "start_time": "2020-12-19T13:21:43.080633",
     "status": "completed"
    },
    "tags": []
   },
   "source": [
    "**4. Errors**"
   ]
  },
  {
   "cell_type": "code",
   "execution_count": 19,
   "metadata": {
    "execution": {
     "iopub.execute_input": "2020-12-19T13:21:43.204573Z",
     "iopub.status.busy": "2020-12-19T13:21:43.203361Z",
     "iopub.status.idle": "2020-12-19T13:21:43.207832Z",
     "shell.execute_reply": "2020-12-19T13:21:43.206966Z"
    },
    "papermill": {
     "duration": 0.050715,
     "end_time": "2020-12-19T13:21:43.207964",
     "exception": false,
     "start_time": "2020-12-19T13:21:43.157249",
     "status": "completed"
    },
    "tags": []
   },
   "outputs": [],
   "source": [
    "import math\n",
    "from sklearn.metrics import mean_squared_error\n",
    "\n",
    "def root_mean_squared_log_error(y_valid, y_preds):\n",
    "    \"\"\"Calculate root mean squared error of log(y_true) and log(y_pred)\"\"\"\n",
    "    if len(y_preds)!=len(y_valid): return 'error_mismatch'\n",
    "    y_preds_new = [math.log(x) for x in y_preds]\n",
    "    y_valid_new = [math.log(x) for x in y_valid]\n",
    "    return mean_squared_error(y_valid_new, y_preds_new, squared=False)"
   ]
  },
  {
   "cell_type": "code",
   "execution_count": 20,
   "metadata": {
    "execution": {
     "iopub.execute_input": "2020-12-19T13:21:43.295099Z",
     "iopub.status.busy": "2020-12-19T13:21:43.293656Z",
     "iopub.status.idle": "2020-12-19T13:21:43.300691Z",
     "shell.execute_reply": "2020-12-19T13:21:43.299967Z"
    },
    "papermill": {
     "duration": 0.052635,
     "end_time": "2020-12-19T13:21:43.300831",
     "exception": false,
     "start_time": "2020-12-19T13:21:43.248196",
     "status": "completed"
    },
    "tags": []
   },
   "outputs": [
    {
     "data": {
      "text/plain": [
       "0.2748269606496895"
      ]
     },
     "execution_count": 20,
     "metadata": {},
     "output_type": "execute_result"
    }
   ],
   "source": [
    "root_mean_squared_log_error(y_test, Y_pred_draw)"
   ]
  },
  {
   "cell_type": "code",
   "execution_count": 21,
   "metadata": {
    "execution": {
     "iopub.execute_input": "2020-12-19T13:21:43.389817Z",
     "iopub.status.busy": "2020-12-19T13:21:43.388978Z",
     "iopub.status.idle": "2020-12-19T13:21:43.394287Z",
     "shell.execute_reply": "2020-12-19T13:21:43.393456Z"
    },
    "papermill": {
     "duration": 0.053572,
     "end_time": "2020-12-19T13:21:43.394414",
     "exception": false,
     "start_time": "2020-12-19T13:21:43.340842",
     "status": "completed"
    },
    "tags": []
   },
   "outputs": [
    {
     "data": {
      "text/plain": [
       "0.27482696064969087"
      ]
     },
     "execution_count": 21,
     "metadata": {},
     "output_type": "execute_result"
    }
   ],
   "source": [
    "root_mean_squared_log_error(y_test, reg_pred)"
   ]
  },
  {
   "cell_type": "markdown",
   "metadata": {
    "papermill": {
     "duration": 0.040075,
     "end_time": "2020-12-19T13:21:43.474997",
     "exception": false,
     "start_time": "2020-12-19T13:21:43.434922",
     "status": "completed"
    },
    "tags": []
   },
   "source": [
    "So the root mean squared log error(which is the error Kaggle evalues output for this dataset) shows that our model is performancing identical to the scikit-learn one. So overall our implementation is very successful."
   ]
  }
 ],
 "metadata": {
  "kernelspec": {
   "display_name": "Python 3",
   "language": "python",
   "name": "python3"
  },
  "language_info": {
   "codemirror_mode": {
    "name": "ipython",
    "version": 3
   },
   "file_extension": ".py",
   "mimetype": "text/x-python",
   "name": "python",
   "nbconvert_exporter": "python",
   "pygments_lexer": "ipython3",
   "version": "3.7.6"
  },
  "papermill": {
   "duration": 10.922836,
   "end_time": "2020-12-19T13:21:43.623659",
   "environment_variables": {},
   "exception": null,
   "input_path": "__notebook__.ipynb",
   "output_path": "__notebook__.ipynb",
   "parameters": {},
   "start_time": "2020-12-19T13:21:32.700823",
   "version": "2.1.0"
  }
 },
 "nbformat": 4,
 "nbformat_minor": 4
}
