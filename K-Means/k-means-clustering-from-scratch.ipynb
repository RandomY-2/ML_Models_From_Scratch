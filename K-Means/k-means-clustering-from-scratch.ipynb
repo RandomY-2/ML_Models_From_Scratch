{
 "cells": [
  {
   "cell_type": "markdown",
   "metadata": {
    "papermill": {
     "duration": 0.014766,
     "end_time": "2020-12-23T07:17:25.865528",
     "exception": false,
     "start_time": "2020-12-23T07:17:25.850762",
     "status": "completed"
    },
    "tags": []
   },
   "source": [
    "##### Introduction\n",
    "In this notebook, I will build a K-Means Clustering model from scratch using Python. Then I will test my implementation using scikit-learn's make_blobs function, which generates isotropic Gaussian blobs for clustering.\n",
    "\n",
    "For this example, I will create 3000 Gaussian blobs with 5 clusters, and the goal of my model is to correctly find a decision boundary to classify these unlabeled blobs into one of the 5 clusters."
   ]
  },
  {
   "cell_type": "code",
   "execution_count": 1,
   "metadata": {
    "_cell_guid": "b1076dfc-b9ad-4769-8c92-a6c4dae69d19",
    "_uuid": "8f2839f25d086af736a60e9eeb907d3b93b6e0e5",
    "execution": {
     "iopub.execute_input": "2020-12-23T07:17:25.899042Z",
     "iopub.status.busy": "2020-12-23T07:17:25.898219Z",
     "iopub.status.idle": "2020-12-23T07:17:27.000854Z",
     "shell.execute_reply": "2020-12-23T07:17:27.001485Z"
    },
    "papermill": {
     "duration": 1.123493,
     "end_time": "2020-12-23T07:17:27.001675",
     "exception": false,
     "start_time": "2020-12-23T07:17:25.878182",
     "status": "completed"
    },
    "tags": []
   },
   "outputs": [],
   "source": [
    "# This Python 3 environment comes with many helpful analytics libraries installed\n",
    "# It is defined by the kaggle/python Docker image: https://github.com/kaggle/docker-python\n",
    "# For example, here's several helpful packages to load\n",
    "\n",
    "import numpy as np # linear algebra\n",
    "import pandas as pd # data processing, CSV file I/O (e.g. pd.read_csv)\n",
    "import matplotlib.pyplot as plt\n",
    "from sklearn.datasets import make_blobs\n",
    "\n",
    "# Input data files are available in the read-only \"../input/\" directory\n",
    "# For example, running this (by clicking run or pressing Shift+Enter) will list all files under the input directory\n",
    "\n",
    "import os\n",
    "for dirname, _, filenames in os.walk('/kaggle/input'):\n",
    "    for filename in filenames:\n",
    "        print(os.path.join(dirname, filename))\n",
    "\n",
    "# You can write up to 20GB to the current directory (/kaggle/working/) that gets preserved as output when you create a version using \"Save & Run All\" \n",
    "# You can also write temporary files to /kaggle/temp/, but they won't be saved outside of the current session"
   ]
  },
  {
   "cell_type": "code",
   "execution_count": 2,
   "metadata": {
    "execution": {
     "iopub.execute_input": "2020-12-23T07:17:27.035133Z",
     "iopub.status.busy": "2020-12-23T07:17:27.034472Z",
     "iopub.status.idle": "2020-12-23T07:17:27.041409Z",
     "shell.execute_reply": "2020-12-23T07:17:27.041914Z"
    },
    "papermill": {
     "duration": 0.027679,
     "end_time": "2020-12-23T07:17:27.042079",
     "exception": false,
     "start_time": "2020-12-23T07:17:27.014400",
     "status": "completed"
    },
    "tags": []
   },
   "outputs": [],
   "source": [
    "np.random.seed(10)\n",
    "num_clusters = 5\n",
    "max_iterations = 10000\n",
    "plot_figure = True\n",
    "\n",
    "X, _ = make_blobs(n_samples=3000, n_features=2, centers=num_clusters)\n",
    "\n",
    "m = X.shape[0]\n",
    "features = X.shape[1]"
   ]
  },
  {
   "cell_type": "markdown",
   "metadata": {
    "papermill": {
     "duration": 0.012287,
     "end_time": "2020-12-23T07:17:27.066946",
     "exception": false,
     "start_time": "2020-12-23T07:17:27.054659",
     "status": "completed"
    },
    "tags": []
   },
   "source": [
    "Let's take a look at the sample we created"
   ]
  },
  {
   "cell_type": "code",
   "execution_count": 3,
   "metadata": {
    "execution": {
     "iopub.execute_input": "2020-12-23T07:17:27.095584Z",
     "iopub.status.busy": "2020-12-23T07:17:27.094789Z",
     "iopub.status.idle": "2020-12-23T07:17:27.319125Z",
     "shell.execute_reply": "2020-12-23T07:17:27.319632Z"
    },
    "papermill": {
     "duration": 0.240384,
     "end_time": "2020-12-23T07:17:27.319782",
     "exception": false,
     "start_time": "2020-12-23T07:17:27.079398",
     "status": "completed"
    },
    "tags": []
   },
   "outputs": [
    {
     "data": {
      "text/plain": [
       "<matplotlib.collections.PathCollection at 0x7fccf77b0750>"
      ]
     },
     "execution_count": 3,
     "metadata": {},
     "output_type": "execute_result"
    },
    {
     "data": {
      "image/png": "[encoded data removed]",
      "text/plain": [
       "<Figure size 432x288 with 1 Axes>"
      ]
     },
     "metadata": {
      "needs_background": "light"
     },
     "output_type": "display_data"
    }
   ],
   "source": [
    "plt.scatter(X[:, 0], X[:, 1], s=40, cmap=plt.cm.Spectral)"
   ]
  },
  {
   "cell_type": "markdown",
   "metadata": {
    "papermill": {
     "duration": 0.01354,
     "end_time": "2020-12-23T07:17:27.347965",
     "exception": false,
     "start_time": "2020-12-23T07:17:27.334425",
     "status": "completed"
    },
    "tags": []
   },
   "source": [
    "We can clearly see the 5 clusters in this sample, and if our model is correct, it will create the clusters that effectively separate the points."
   ]
  },
  {
   "cell_type": "markdown",
   "metadata": {
    "papermill": {
     "duration": 0.013584,
     "end_time": "2020-12-23T07:17:27.375391",
     "exception": false,
     "start_time": "2020-12-23T07:17:27.361807",
     "status": "completed"
    },
    "tags": []
   },
   "source": [
    "# Model Implementation\n",
    "\n",
    "So the K-Means algorithm first randomly generate K clusters, in which K refers to how many clusters we want creates. Then, the algorithm will repeatedly group points to the Kth cluster that is cloest to them and recreate clusters at the center of each group. \n",
    "\n",
    "The exact procedure of K-Means Clustering is written as:\n",
    "\n",
    "![](https://stanford.edu/~cpiech/cs221/img/kmeansMath.png)\n",
    "\n",
    "in which:\n",
    "* c(i) is the cluster X(i) is placed at and \n",
    "* u(j) is the jth centroid"
   ]
  },
  {
   "cell_type": "markdown",
   "metadata": {
    "papermill": {
     "duration": 0.013535,
     "end_time": "2020-12-23T07:17:27.402886",
     "exception": false,
     "start_time": "2020-12-23T07:17:27.389351",
     "status": "completed"
    },
    "tags": []
   },
   "source": [
    "- Create K random centroids "
   ]
  },
  {
   "cell_type": "code",
   "execution_count": 4,
   "metadata": {
    "execution": {
     "iopub.execute_input": "2020-12-23T07:17:27.434032Z",
     "iopub.status.busy": "2020-12-23T07:17:27.433396Z",
     "iopub.status.idle": "2020-12-23T07:17:27.439170Z",
     "shell.execute_reply": "2020-12-23T07:17:27.439685Z"
    },
    "papermill": {
     "duration": 0.023218,
     "end_time": "2020-12-23T07:17:27.439845",
     "exception": false,
     "start_time": "2020-12-23T07:17:27.416627",
     "status": "completed"
    },
    "tags": []
   },
   "outputs": [],
   "source": [
    "def initialize_random_centroids(X):\n",
    "    centroids = np.zeros((num_clusters, features))\n",
    "\n",
    "    for k in range(num_clusters):\n",
    "        centroid = X[np.random.choice(range(m))]\n",
    "        centroids[k] = centroid\n",
    "\n",
    "    return centroids"
   ]
  },
  {
   "cell_type": "markdown",
   "metadata": {
    "papermill": {
     "duration": 0.013594,
     "end_time": "2020-12-23T07:17:27.467449",
     "exception": false,
     "start_time": "2020-12-23T07:17:27.453855",
     "status": "completed"
    },
    "tags": []
   },
   "source": [
    "- Assign each point a centroid based on distance"
   ]
  },
  {
   "cell_type": "code",
   "execution_count": 5,
   "metadata": {
    "execution": {
     "iopub.execute_input": "2020-12-23T07:17:27.499250Z",
     "iopub.status.busy": "2020-12-23T07:17:27.498519Z",
     "iopub.status.idle": "2020-12-23T07:17:27.505847Z",
     "shell.execute_reply": "2020-12-23T07:17:27.506375Z"
    },
    "papermill": {
     "duration": 0.024895,
     "end_time": "2020-12-23T07:17:27.506538",
     "exception": false,
     "start_time": "2020-12-23T07:17:27.481643",
     "status": "completed"
    },
    "tags": []
   },
   "outputs": [],
   "source": [
    "def create_clusters(X, centroids):\n",
    "    clusters = [[] for _ in range(num_clusters)]\n",
    "\n",
    "    for point_id, point in enumerate(X):\n",
    "        closest_centroid = np.argmin(\n",
    "            np.sqrt(np.sum((point - centroids) ** 2, axis=1))\n",
    "        )\n",
    "        clusters[closest_centroid].append(point_id)\n",
    "\n",
    "    return clusters"
   ]
  },
  {
   "cell_type": "markdown",
   "metadata": {
    "papermill": {
     "duration": 0.013865,
     "end_time": "2020-12-23T07:17:27.535065",
     "exception": false,
     "start_time": "2020-12-23T07:17:27.521200",
     "status": "completed"
    },
    "tags": []
   },
   "source": [
    "- Create new centroids at the center of points belonging to it"
   ]
  },
  {
   "cell_type": "code",
   "execution_count": 6,
   "metadata": {
    "execution": {
     "iopub.execute_input": "2020-12-23T07:17:27.566765Z",
     "iopub.status.busy": "2020-12-23T07:17:27.566083Z",
     "iopub.status.idle": "2020-12-23T07:17:27.571934Z",
     "shell.execute_reply": "2020-12-23T07:17:27.572447Z"
    },
    "papermill": {
     "duration": 0.023469,
     "end_time": "2020-12-23T07:17:27.572652",
     "exception": false,
     "start_time": "2020-12-23T07:17:27.549183",
     "status": "completed"
    },
    "tags": []
   },
   "outputs": [],
   "source": [
    "def calculate_new_centroids(X, clusters):\n",
    "    centroids = np.zeros((num_clusters, features))\n",
    "    for id, cluster in enumerate(clusters):\n",
    "        new_centroid = np.mean(X[cluster], axis=0)\n",
    "        centroids[id] = new_centroid\n",
    "\n",
    "    return centroids"
   ]
  },
  {
   "cell_type": "markdown",
   "metadata": {
    "papermill": {
     "duration": 0.014051,
     "end_time": "2020-12-23T07:17:27.601375",
     "exception": false,
     "start_time": "2020-12-23T07:17:27.587324",
     "status": "completed"
    },
    "tags": []
   },
   "source": [
    "- Final Prediction"
   ]
  },
  {
   "cell_type": "code",
   "execution_count": 7,
   "metadata": {
    "execution": {
     "iopub.execute_input": "2020-12-23T07:17:27.633671Z",
     "iopub.status.busy": "2020-12-23T07:17:27.633012Z",
     "iopub.status.idle": "2020-12-23T07:17:27.638107Z",
     "shell.execute_reply": "2020-12-23T07:17:27.638659Z"
    },
    "papermill": {
     "duration": 0.023201,
     "end_time": "2020-12-23T07:17:27.638815",
     "exception": false,
     "start_time": "2020-12-23T07:17:27.615614",
     "status": "completed"
    },
    "tags": []
   },
   "outputs": [],
   "source": [
    "def predict_cluster(X, clusters):\n",
    "    y_pred = np.zeros(m)\n",
    "\n",
    "    for cluster_id, cluster in enumerate(clusters):\n",
    "        for sample_id in cluster:\n",
    "            y_pred[sample_id] = cluster_id\n",
    "\n",
    "    return y_pred"
   ]
  },
  {
   "cell_type": "markdown",
   "metadata": {
    "papermill": {
     "duration": 0.013946,
     "end_time": "2020-12-23T07:17:27.667353",
     "exception": false,
     "start_time": "2020-12-23T07:17:27.653407",
     "status": "completed"
    },
    "tags": []
   },
   "source": [
    "- For visualization purpose"
   ]
  },
  {
   "cell_type": "code",
   "execution_count": 8,
   "metadata": {
    "execution": {
     "iopub.execute_input": "2020-12-23T07:17:27.699379Z",
     "iopub.status.busy": "2020-12-23T07:17:27.698714Z",
     "iopub.status.idle": "2020-12-23T07:17:27.703603Z",
     "shell.execute_reply": "2020-12-23T07:17:27.704087Z"
    },
    "papermill": {
     "duration": 0.022581,
     "end_time": "2020-12-23T07:17:27.704226",
     "exception": false,
     "start_time": "2020-12-23T07:17:27.681645",
     "status": "completed"
    },
    "tags": []
   },
   "outputs": [],
   "source": [
    "def plot_fig(X, y):\n",
    "    plt.scatter(X[:, 0], X[:, 1], c=y, s=40, cmap=plt.cm.Spectral)\n",
    "    plt.show()"
   ]
  },
  {
   "cell_type": "markdown",
   "metadata": {
    "papermill": {
     "duration": 0.014079,
     "end_time": "2020-12-23T07:17:27.732783",
     "exception": false,
     "start_time": "2020-12-23T07:17:27.718704",
     "status": "completed"
    },
    "tags": []
   },
   "source": [
    "- Final Algorithm"
   ]
  },
  {
   "cell_type": "code",
   "execution_count": 9,
   "metadata": {
    "execution": {
     "iopub.execute_input": "2020-12-23T07:17:27.765159Z",
     "iopub.status.busy": "2020-12-23T07:17:27.764521Z",
     "iopub.status.idle": "2020-12-23T07:17:27.772970Z",
     "shell.execute_reply": "2020-12-23T07:17:27.772376Z"
    },
    "papermill": {
     "duration": 0.025846,
     "end_time": "2020-12-23T07:17:27.773080",
     "exception": false,
     "start_time": "2020-12-23T07:17:27.747234",
     "status": "completed"
    },
    "tags": []
   },
   "outputs": [],
   "source": [
    "def fit(X):\n",
    "    centroids = initialize_random_centroids(X)\n",
    "\n",
    "    for it in range(max_iterations):\n",
    "        clusters = create_clusters(X, centroids)\n",
    "\n",
    "        previous_centroids = centroids\n",
    "        centroids = calculate_new_centroids(X, clusters)\n",
    "\n",
    "        diff = centroids - previous_centroids\n",
    "\n",
    "        if not diff.any():\n",
    "            print(\"Termination criterion satisfied\")\n",
    "            break\n",
    "\n",
    "    y_pred = predict_cluster(X, clusters)\n",
    "\n",
    "    if plot_figure:\n",
    "        plot_fig(X, y_pred)\n",
    "\n",
    "    return y_pred"
   ]
  },
  {
   "cell_type": "code",
   "execution_count": 10,
   "metadata": {
    "execution": {
     "iopub.execute_input": "2020-12-23T07:17:27.806214Z",
     "iopub.status.busy": "2020-12-23T07:17:27.805571Z",
     "iopub.status.idle": "2020-12-23T07:17:28.265033Z",
     "shell.execute_reply": "2020-12-23T07:17:28.264338Z"
    },
    "papermill": {
     "duration": 0.477187,
     "end_time": "2020-12-23T07:17:28.265144",
     "exception": false,
     "start_time": "2020-12-23T07:17:27.787957",
     "status": "completed"
    },
    "tags": []
   },
   "outputs": [
    {
     "name": "stdout",
     "output_type": "stream",
     "text": [
      "Termination criterion satisfied\n"
     ]
    },
    {
     "data": {
      "image/png": "[encoded data removed]",
      "text/plain": [
       "<Figure size 432x288 with 1 Axes>"
      ]
     },
     "metadata": {
      "needs_background": "light"
     },
     "output_type": "display_data"
    }
   ],
   "source": [
    "y_pred = fit(X)"
   ]
  },
  {
   "cell_type": "markdown",
   "metadata": {
    "papermill": {
     "duration": 0.016136,
     "end_time": "2020-12-23T07:17:28.298134",
     "exception": false,
     "start_time": "2020-12-23T07:17:28.281998",
     "status": "completed"
    },
    "tags": []
   },
   "source": [
    "The final output shows that our model effectively classifies all 3000 blobs into 5 clusters correctly. "
   ]
  }
 ],
 "metadata": {
  "kernelspec": {
   "display_name": "Python 3",
   "language": "python",
   "name": "python3"
  },
  "language_info": {
   "codemirror_mode": {
    "name": "ipython",
    "version": 3
   },
   "file_extension": ".py",
   "mimetype": "text/x-python",
   "name": "python",
   "nbconvert_exporter": "python",
   "pygments_lexer": "ipython3",
   "version": "3.7.6"
  },
  "papermill": {
   "duration": 7.522275,
   "end_time": "2020-12-23T07:17:28.422316",
   "environment_variables": {},
   "exception": null,
   "input_path": "__notebook__.ipynb",
   "output_path": "__notebook__.ipynb",
   "parameters": {},
   "start_time": "2020-12-23T07:17:20.900041",
   "version": "2.1.0"
  }
 },
 "nbformat": 4,
 "nbformat_minor": 4
}
