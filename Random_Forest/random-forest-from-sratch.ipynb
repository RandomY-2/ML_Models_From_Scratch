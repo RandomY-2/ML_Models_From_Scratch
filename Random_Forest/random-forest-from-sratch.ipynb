{
 "cells": [
  {
   "cell_type": "code",
   "execution_count": 1,
   "metadata": {
    "_cell_guid": "b1076dfc-b9ad-4769-8c92-a6c4dae69d19",
    "_uuid": "8f2839f25d086af736a60e9eeb907d3b93b6e0e5",
    "execution": {
     "iopub.execute_input": "2021-01-22T10:11:13.008838Z",
     "iopub.status.busy": "2021-01-22T10:11:13.006393Z",
     "iopub.status.idle": "2021-01-22T10:11:13.023890Z",
     "shell.execute_reply": "2021-01-22T10:11:13.024616Z"
    },
    "papermill": {
     "duration": 0.046579,
     "end_time": "2021-01-22T10:11:13.024818",
     "exception": false,
     "start_time": "2021-01-22T10:11:12.978239",
     "status": "completed"
    },
    "tags": []
   },
   "outputs": [
    {
     "name": "stdout",
     "output_type": "stream",
     "text": [
      "/kaggle/input/red-wine-dataset/wineQualityInfo.txt\n",
      "/kaggle/input/red-wine-dataset/wineQualityReds.csv\n"
     ]
    }
   ],
   "source": [
    "# This Python 3 environment comes with many helpful analytics libraries installed\n",
    "# It is defined by the kaggle/python Docker image: https://github.com/kaggle/docker-python\n",
    "# For example, here's several helpful packages to load\n",
    "\n",
    "import numpy as np # linear algebra\n",
    "import pandas as pd # data processing, CSV file I/O (e.g. pd.read_csv)\n",
    "%matplotlib inline\n",
    "\n",
    "import random\n",
    "from pprint import pprint\n",
    "\n",
    "# Input data files are available in the read-only \"../input/\" directory\n",
    "# For example, running this (by clicking run or pressing Shift+Enter) will list all files under the input directory\n",
    "\n",
    "import os\n",
    "for dirname, _, filenames in os.walk('/kaggle/input'):\n",
    "    for filename in filenames:\n",
    "        print(os.path.join(dirname, filename))\n",
    "\n",
    "# You can write up to 20GB to the current directory (/kaggle/working/) that gets preserved as output when you create a version using \"Save & Run All\" \n",
    "# You can also write temporary files to /kaggle/temp/, but they won't be saved outside of the current session"
   ]
  },
  {
   "cell_type": "markdown",
   "metadata": {
    "papermill": {
     "duration": 0.017806,
     "end_time": "2021-01-22T10:11:13.062071",
     "exception": false,
     "start_time": "2021-01-22T10:11:13.044265",
     "status": "completed"
    },
    "tags": []
   },
   "source": [
    "# Decision Tree Functions"
   ]
  },
  {
   "cell_type": "code",
   "execution_count": 2,
   "metadata": {
    "execution": {
     "iopub.execute_input": "2021-01-22T10:11:13.111469Z",
     "iopub.status.busy": "2021-01-22T10:11:13.110477Z",
     "iopub.status.idle": "2021-01-22T10:11:13.114940Z",
     "shell.execute_reply": "2021-01-22T10:11:13.114096Z"
    },
    "papermill": {
     "duration": 0.034539,
     "end_time": "2021-01-22T10:11:13.115072",
     "exception": false,
     "start_time": "2021-01-22T10:11:13.080533",
     "status": "completed"
    },
    "tags": []
   },
   "outputs": [],
   "source": [
    "import pandas as pd\n",
    "import random\n",
    "\n",
    "\n",
    "# 1. Train-Test-Split\n",
    "def train_test_split(df, test_size):\n",
    "    \n",
    "    if isinstance(test_size, float):\n",
    "        test_size = round(test_size * len(df))\n",
    "\n",
    "    indices = df.index.tolist()\n",
    "    test_indices = random.sample(population=indices, k=test_size)\n",
    "\n",
    "    test_df = df.loc[test_indices]\n",
    "    train_df = df.drop(test_indices)\n",
    "    \n",
    "    return train_df, test_df\n",
    "\n",
    "\n",
    "# 2. Distinguish categorical and continuous features\n",
    "def determine_type_of_feature(df):\n",
    "    \n",
    "    feature_types = []\n",
    "    n_unique_values_treshold = 15\n",
    "    for feature in df.columns:\n",
    "        if feature != \"label\":\n",
    "            unique_values = df[feature].unique()\n",
    "            example_value = unique_values[0]\n",
    "\n",
    "            if (isinstance(example_value, str)) or (len(unique_values) <= n_unique_values_treshold):\n",
    "                feature_types.append(\"categorical\")\n",
    "            else:\n",
    "                feature_types.append(\"continuous\")\n",
    "    \n",
    "    return feature_types\n",
    "\n",
    "\n",
    "# 3. Accuracy\n",
    "def calculate_accuracy(predictions, labels):\n",
    "    predictions_correct = predictions == labels\n",
    "    accuracy = predictions_correct.mean()\n",
    "    \n",
    "    return accuracy"
   ]
  },
  {
   "cell_type": "code",
   "execution_count": 3,
   "metadata": {
    "execution": {
     "iopub.execute_input": "2021-01-22T10:11:13.196723Z",
     "iopub.status.busy": "2021-01-22T10:11:13.180943Z",
     "iopub.status.idle": "2021-01-22T10:11:13.207290Z",
     "shell.execute_reply": "2021-01-22T10:11:13.206574Z"
    },
    "papermill": {
     "duration": 0.064757,
     "end_time": "2021-01-22T10:11:13.207416",
     "exception": false,
     "start_time": "2021-01-22T10:11:13.142659",
     "status": "completed"
    },
    "tags": []
   },
   "outputs": [],
   "source": [
    "import numpy as np\n",
    "import pandas as pd\n",
    "import random\n",
    "\n",
    "\n",
    "# 1. Decision Tree helper functions \n",
    "# (see \"decision tree algorithm flow chart.png\")\n",
    "\n",
    "# 1.1 Data pure?\n",
    "def check_purity(data):\n",
    "    \n",
    "    label_column = data[:, -1]\n",
    "    unique_classes = np.unique(label_column)\n",
    "\n",
    "    if len(unique_classes) == 1:\n",
    "        return True\n",
    "    else:\n",
    "        return False\n",
    "\n",
    "    \n",
    "# 1.2 Classify\n",
    "def classify_data(data):\n",
    "    \n",
    "    label_column = data[:, -1]\n",
    "    unique_classes, counts_unique_classes = np.unique(label_column, return_counts=True)\n",
    "\n",
    "    index = counts_unique_classes.argmax()\n",
    "    classification = unique_classes[index]\n",
    "    \n",
    "    return classification\n",
    "\n",
    "\n",
    "# 1.3 Potential splits?\n",
    "def get_potential_splits(data):\n",
    "    \n",
    "    potential_splits = {}\n",
    "    _, n_columns = data.shape\n",
    "    for column_index in range(n_columns - 1):  # excluding the last column which is the label\n",
    "        values = data[:, column_index]\n",
    "        unique_values = np.unique(values)\n",
    "        \n",
    "        potential_splits[column_index] = unique_values\n",
    "    \n",
    "    return potential_splits\n",
    "\n",
    "\n",
    "# 1.4 Lowest Overall Entropy?\n",
    "def calculate_entropy(data):\n",
    "    \n",
    "    label_column = data[:, -1]\n",
    "    _, counts = np.unique(label_column, return_counts=True)\n",
    "\n",
    "    probabilities = counts / counts.sum()\n",
    "    entropy = sum(probabilities * -np.log2(probabilities))\n",
    "     \n",
    "    return entropy\n",
    "\n",
    "\n",
    "def calculate_overall_entropy(data_below, data_above):\n",
    "    \n",
    "    n = len(data_below) + len(data_above)\n",
    "    p_data_below = len(data_below) / n\n",
    "    p_data_above = len(data_above) / n\n",
    "\n",
    "    overall_entropy =  (p_data_below * calculate_entropy(data_below) \n",
    "                      + p_data_above * calculate_entropy(data_above))\n",
    "    \n",
    "    return overall_entropy\n",
    "\n",
    "\n",
    "def determine_best_split(data, potential_splits):\n",
    "    \n",
    "    overall_entropy = 9999\n",
    "    for column_index in potential_splits:\n",
    "        for value in potential_splits[column_index]:\n",
    "            data_below, data_above = split_data(data, split_column=column_index, split_value=value)\n",
    "            current_overall_entropy = calculate_overall_entropy(data_below, data_above)\n",
    "            \n",
    "            if current_overall_entropy <= overall_entropy:\n",
    "                overall_entropy = current_overall_entropy\n",
    "                best_split_column = column_index\n",
    "                best_split_value = value\n",
    "    \n",
    "    return best_split_column, best_split_value\n",
    "\n",
    "\n",
    "# 1.5 Split data\n",
    "def split_data(data, split_column, split_value):\n",
    "    \n",
    "    split_column_values = data[:, split_column]\n",
    "\n",
    "    type_of_feature = FEATURE_TYPES[split_column]\n",
    "    if type_of_feature == \"continuous\":\n",
    "        data_below = data[split_column_values <= split_value]\n",
    "        data_above = data[split_column_values >  split_value]\n",
    "    \n",
    "    # feature is categorical   \n",
    "    else:\n",
    "        data_below = data[split_column_values == split_value]\n",
    "        data_above = data[split_column_values != split_value]\n",
    "    \n",
    "    return data_below, data_above"
   ]
  },
  {
   "cell_type": "code",
   "execution_count": 4,
   "metadata": {
    "execution": {
     "iopub.execute_input": "2021-01-22T10:11:13.266794Z",
     "iopub.status.busy": "2021-01-22T10:11:13.265837Z",
     "iopub.status.idle": "2021-01-22T10:11:13.269336Z",
     "shell.execute_reply": "2021-01-22T10:11:13.268508Z"
    },
    "papermill": {
     "duration": 0.0436,
     "end_time": "2021-01-22T10:11:13.269470",
     "exception": false,
     "start_time": "2021-01-22T10:11:13.225870",
     "status": "completed"
    },
    "tags": []
   },
   "outputs": [],
   "source": [
    "def decision_tree_algorithm(df, counter=0, min_samples=2, max_depth=5, random_subspace=None):\n",
    "    \n",
    "    # data preparations\n",
    "    if counter == 0:\n",
    "        global COLUMN_HEADERS, FEATURE_TYPES\n",
    "        COLUMN_HEADERS = df.columns\n",
    "        FEATURE_TYPES = determine_type_of_feature(df)\n",
    "        data = df.values\n",
    "    else:\n",
    "        data = df           \n",
    "    \n",
    "    \n",
    "    # base cases\n",
    "    if (check_purity(data)) or (len(data) < min_samples) or (counter == max_depth):\n",
    "        classification = classify_data(data)\n",
    "        \n",
    "        return classification\n",
    "\n",
    "    \n",
    "    # recursive part\n",
    "    else:    \n",
    "        counter += 1\n",
    "\n",
    "        # helper functions \n",
    "        potential_splits = get_potential_splits(data, random_subspace)\n",
    "        split_column, split_value = determine_best_split(data, potential_splits)\n",
    "        data_below, data_above = split_data(data, split_column, split_value)\n",
    "        \n",
    "        # check for empty data\n",
    "        if len(data_below) == 0 or len(data_above) == 0:\n",
    "            classification = classify_data(data)\n",
    "            return classification\n",
    "        \n",
    "        # determine question\n",
    "        feature_name = COLUMN_HEADERS[split_column]\n",
    "        type_of_feature = FEATURE_TYPES[split_column]\n",
    "        if type_of_feature == \"continuous\":\n",
    "            question = \"{} <= {}\".format(feature_name, split_value)\n",
    "            \n",
    "        # feature is categorical\n",
    "        else:\n",
    "            question = \"{} = {}\".format(feature_name, split_value)\n",
    "        \n",
    "        # instantiate sub-tree\n",
    "        sub_tree = {question: []}\n",
    "        \n",
    "        # find answers (recursion)\n",
    "        yes_answer = decision_tree_algorithm(data_below, counter, min_samples, max_depth, random_subspace)\n",
    "        no_answer = decision_tree_algorithm(data_above, counter, min_samples, max_depth, random_subspace)\n",
    "        \n",
    "        # If the answers are the same, then there is no point in asking the qestion.\n",
    "        # This could happen when the data is classified even though it is not pure\n",
    "        # yet (min_samples or max_depth base case).\n",
    "        if yes_answer == no_answer:\n",
    "            sub_tree = yes_answer\n",
    "        else:\n",
    "            sub_tree[question].append(yes_answer)\n",
    "            sub_tree[question].append(no_answer)\n",
    "        \n",
    "        return sub_tree"
   ]
  },
  {
   "cell_type": "code",
   "execution_count": 5,
   "metadata": {
    "execution": {
     "iopub.execute_input": "2021-01-22T10:11:13.335701Z",
     "iopub.status.busy": "2021-01-22T10:11:13.334713Z",
     "iopub.status.idle": "2021-01-22T10:11:13.337889Z",
     "shell.execute_reply": "2021-01-22T10:11:13.337249Z"
    },
    "papermill": {
     "duration": 0.040759,
     "end_time": "2021-01-22T10:11:13.338002",
     "exception": false,
     "start_time": "2021-01-22T10:11:13.297243",
     "status": "completed"
    },
    "tags": []
   },
   "outputs": [],
   "source": [
    "def predict_example(example, tree):\n",
    "    question = list(tree.keys())[0]\n",
    "    feature_name, comparison_operator, value = question.split(\" \")\n",
    "\n",
    "    # ask question\n",
    "    if comparison_operator == \"<=\":\n",
    "        if example[feature_name] <= float(value):\n",
    "            answer = tree[question][0]\n",
    "        else:\n",
    "            answer = tree[question][1]\n",
    "    \n",
    "    # feature is categorical\n",
    "    else:\n",
    "        if str(example[feature_name]) == value:\n",
    "            answer = tree[question][0]\n",
    "        else:\n",
    "            answer = tree[question][1]\n",
    "\n",
    "    # base case\n",
    "    if not isinstance(answer, dict):\n",
    "        return answer\n",
    "    \n",
    "    # recursive part\n",
    "    else:\n",
    "        residual_tree = answer\n",
    "        return predict_example(example, residual_tree)\n",
    "\n",
    "    \n",
    "# 3.2 All examples of the test data\n",
    "def decision_tree_predictions(test_df, tree):\n",
    "    predictions = test_df.apply(predict_example, args=(tree,), axis=1)\n",
    "    return predictions"
   ]
  },
  {
   "cell_type": "markdown",
   "metadata": {
    "papermill": {
     "duration": 0.018411,
     "end_time": "2021-01-22T10:11:13.376602",
     "exception": false,
     "start_time": "2021-01-22T10:11:13.358191",
     "status": "completed"
    },
    "tags": []
   },
   "source": [
    "# Import Data"
   ]
  },
  {
   "cell_type": "code",
   "execution_count": 6,
   "metadata": {
    "execution": {
     "iopub.execute_input": "2021-01-22T10:11:13.427344Z",
     "iopub.status.busy": "2021-01-22T10:11:13.426505Z",
     "iopub.status.idle": "2021-01-22T10:11:13.481747Z",
     "shell.execute_reply": "2021-01-22T10:11:13.480983Z"
    },
    "papermill": {
     "duration": 0.086102,
     "end_time": "2021-01-22T10:11:13.481897",
     "exception": false,
     "start_time": "2021-01-22T10:11:13.395795",
     "status": "completed"
    },
    "tags": []
   },
   "outputs": [
    {
     "data": {
      "text/html": [
       "<div>\n",
       "<style scoped>\n",
       "    .dataframe tbody tr th:only-of-type {\n",
       "        vertical-align: middle;\n",
       "    }\n",
       "\n",
       "    .dataframe tbody tr th {\n",
       "        vertical-align: top;\n",
       "    }\n",
       "\n",
       "    .dataframe thead th {\n",
       "        text-align: right;\n",
       "    }\n",
       "</style>\n",
       "<table border=\"1\" class=\"dataframe\">\n",
       "  <thead>\n",
       "    <tr style=\"text-align: right;\">\n",
       "      <th></th>\n",
       "      <th>Unnamed:_0</th>\n",
       "      <th>fixed.acidity</th>\n",
       "      <th>volatile.acidity</th>\n",
       "      <th>citric.acid</th>\n",
       "      <th>residual.sugar</th>\n",
       "      <th>chlorides</th>\n",
       "      <th>free.sulfur.dioxide</th>\n",
       "      <th>total.sulfur.dioxide</th>\n",
       "      <th>density</th>\n",
       "      <th>pH</th>\n",
       "      <th>sulphates</th>\n",
       "      <th>alcohol</th>\n",
       "      <th>label</th>\n",
       "    </tr>\n",
       "  </thead>\n",
       "  <tbody>\n",
       "    <tr>\n",
       "      <th>0</th>\n",
       "      <td>1</td>\n",
       "      <td>7.4</td>\n",
       "      <td>0.70</td>\n",
       "      <td>0.00</td>\n",
       "      <td>1.9</td>\n",
       "      <td>0.076</td>\n",
       "      <td>11.0</td>\n",
       "      <td>34.0</td>\n",
       "      <td>0.9978</td>\n",
       "      <td>3.51</td>\n",
       "      <td>0.56</td>\n",
       "      <td>9.4</td>\n",
       "      <td>5</td>\n",
       "    </tr>\n",
       "    <tr>\n",
       "      <th>1</th>\n",
       "      <td>2</td>\n",
       "      <td>7.8</td>\n",
       "      <td>0.88</td>\n",
       "      <td>0.00</td>\n",
       "      <td>2.6</td>\n",
       "      <td>0.098</td>\n",
       "      <td>25.0</td>\n",
       "      <td>67.0</td>\n",
       "      <td>0.9968</td>\n",
       "      <td>3.20</td>\n",
       "      <td>0.68</td>\n",
       "      <td>9.8</td>\n",
       "      <td>5</td>\n",
       "    </tr>\n",
       "    <tr>\n",
       "      <th>2</th>\n",
       "      <td>3</td>\n",
       "      <td>7.8</td>\n",
       "      <td>0.76</td>\n",
       "      <td>0.04</td>\n",
       "      <td>2.3</td>\n",
       "      <td>0.092</td>\n",
       "      <td>15.0</td>\n",
       "      <td>54.0</td>\n",
       "      <td>0.9970</td>\n",
       "      <td>3.26</td>\n",
       "      <td>0.65</td>\n",
       "      <td>9.8</td>\n",
       "      <td>5</td>\n",
       "    </tr>\n",
       "    <tr>\n",
       "      <th>3</th>\n",
       "      <td>4</td>\n",
       "      <td>11.2</td>\n",
       "      <td>0.28</td>\n",
       "      <td>0.56</td>\n",
       "      <td>1.9</td>\n",
       "      <td>0.075</td>\n",
       "      <td>17.0</td>\n",
       "      <td>60.0</td>\n",
       "      <td>0.9980</td>\n",
       "      <td>3.16</td>\n",
       "      <td>0.58</td>\n",
       "      <td>9.8</td>\n",
       "      <td>6</td>\n",
       "    </tr>\n",
       "    <tr>\n",
       "      <th>4</th>\n",
       "      <td>5</td>\n",
       "      <td>7.4</td>\n",
       "      <td>0.70</td>\n",
       "      <td>0.00</td>\n",
       "      <td>1.9</td>\n",
       "      <td>0.076</td>\n",
       "      <td>11.0</td>\n",
       "      <td>34.0</td>\n",
       "      <td>0.9978</td>\n",
       "      <td>3.51</td>\n",
       "      <td>0.56</td>\n",
       "      <td>9.4</td>\n",
       "      <td>5</td>\n",
       "    </tr>\n",
       "  </tbody>\n",
       "</table>\n",
       "</div>"
      ],
      "text/plain": [
       "   Unnamed:_0  fixed.acidity  volatile.acidity  citric.acid  residual.sugar  \\\n",
       "0           1            7.4              0.70         0.00             1.9   \n",
       "1           2            7.8              0.88         0.00             2.6   \n",
       "2           3            7.8              0.76         0.04             2.3   \n",
       "3           4           11.2              0.28         0.56             1.9   \n",
       "4           5            7.4              0.70         0.00             1.9   \n",
       "\n",
       "   chlorides  free.sulfur.dioxide  total.sulfur.dioxide  density    pH  \\\n",
       "0      0.076                 11.0                  34.0   0.9978  3.51   \n",
       "1      0.098                 25.0                  67.0   0.9968  3.20   \n",
       "2      0.092                 15.0                  54.0   0.9970  3.26   \n",
       "3      0.075                 17.0                  60.0   0.9980  3.16   \n",
       "4      0.076                 11.0                  34.0   0.9978  3.51   \n",
       "\n",
       "   sulphates  alcohol  label  \n",
       "0       0.56      9.4      5  \n",
       "1       0.68      9.8      5  \n",
       "2       0.65      9.8      5  \n",
       "3       0.58      9.8      6  \n",
       "4       0.56      9.4      5  "
      ]
     },
     "execution_count": 6,
     "metadata": {},
     "output_type": "execute_result"
    }
   ],
   "source": [
    "full_data = pd.read_csv('/kaggle/input/red-wine-dataset/wineQualityReds.csv')\n",
    "full_data['label'] = full_data['quality']\n",
    "full_data = full_data.drop('quality', axis=1)\n",
    "\n",
    "column_names = []\n",
    "for column in full_data.columns:\n",
    "    name = column.replace(\" \", \"_\")\n",
    "    column_names.append(name)\n",
    "full_data.columns = column_names\n",
    "\n",
    "full_data.head()"
   ]
  },
  {
   "cell_type": "code",
   "execution_count": 7,
   "metadata": {
    "execution": {
     "iopub.execute_input": "2021-01-22T10:11:13.549936Z",
     "iopub.status.busy": "2021-01-22T10:11:13.549136Z",
     "iopub.status.idle": "2021-01-22T10:11:13.551673Z",
     "shell.execute_reply": "2021-01-22T10:11:13.552236Z"
    },
    "papermill": {
     "duration": 0.041528,
     "end_time": "2021-01-22T10:11:13.552385",
     "exception": false,
     "start_time": "2021-01-22T10:11:13.510857",
     "status": "completed"
    },
    "tags": []
   },
   "outputs": [],
   "source": [
    "def transform_label(value):\n",
    "    if value <= 5:\n",
    "        return \"bad\"\n",
    "    else:\n",
    "        return \"good\"\n",
    "\n",
    "full_data[\"label\"] = full_data.label.apply(transform_label)"
   ]
  },
  {
   "cell_type": "code",
   "execution_count": 8,
   "metadata": {
    "execution": {
     "iopub.execute_input": "2021-01-22T10:11:13.604084Z",
     "iopub.status.busy": "2021-01-22T10:11:13.603286Z",
     "iopub.status.idle": "2021-01-22T10:11:13.608890Z",
     "shell.execute_reply": "2021-01-22T10:11:13.608136Z"
    },
    "papermill": {
     "duration": 0.03683,
     "end_time": "2021-01-22T10:11:13.609030",
     "exception": false,
     "start_time": "2021-01-22T10:11:13.572200",
     "status": "completed"
    },
    "tags": []
   },
   "outputs": [],
   "source": [
    "random.seed(0)\n",
    "train_data, test_data = train_test_split(full_data, test_size=0.2)"
   ]
  },
  {
   "cell_type": "markdown",
   "metadata": {
    "papermill": {
     "duration": 0.028314,
     "end_time": "2021-01-22T10:11:13.666481",
     "exception": false,
     "start_time": "2021-01-22T10:11:13.638167",
     "status": "completed"
    },
    "tags": []
   },
   "source": [
    "# Bootstrap"
   ]
  },
  {
   "cell_type": "code",
   "execution_count": 9,
   "metadata": {
    "execution": {
     "iopub.execute_input": "2021-01-22T10:11:13.727590Z",
     "iopub.status.busy": "2021-01-22T10:11:13.726788Z",
     "iopub.status.idle": "2021-01-22T10:11:13.734172Z",
     "shell.execute_reply": "2021-01-22T10:11:13.734692Z"
    },
    "papermill": {
     "duration": 0.03955,
     "end_time": "2021-01-22T10:11:13.734964",
     "exception": false,
     "start_time": "2021-01-22T10:11:13.695414",
     "status": "completed"
    },
    "tags": []
   },
   "outputs": [],
   "source": [
    "def bootstrap(train_data, n_bootstrap):\n",
    "    index = np.random.randint(low=0, high=len(train_data), size=n_bootstrap)\n",
    "    boot_data = train_data.iloc[index]\n",
    "    \n",
    "    return boot_data"
   ]
  },
  {
   "cell_type": "code",
   "execution_count": 10,
   "metadata": {
    "execution": {
     "iopub.execute_input": "2021-01-22T10:11:13.811841Z",
     "iopub.status.busy": "2021-01-22T10:11:13.810713Z",
     "iopub.status.idle": "2021-01-22T10:11:13.817550Z",
     "shell.execute_reply": "2021-01-22T10:11:13.816916Z"
    },
    "papermill": {
     "duration": 0.061672,
     "end_time": "2021-01-22T10:11:13.817666",
     "exception": false,
     "start_time": "2021-01-22T10:11:13.755994",
     "status": "completed"
    },
    "tags": []
   },
   "outputs": [
    {
     "data": {
      "text/html": [
       "<div>\n",
       "<style scoped>\n",
       "    .dataframe tbody tr th:only-of-type {\n",
       "        vertical-align: middle;\n",
       "    }\n",
       "\n",
       "    .dataframe tbody tr th {\n",
       "        vertical-align: top;\n",
       "    }\n",
       "\n",
       "    .dataframe thead th {\n",
       "        text-align: right;\n",
       "    }\n",
       "</style>\n",
       "<table border=\"1\" class=\"dataframe\">\n",
       "  <thead>\n",
       "    <tr style=\"text-align: right;\">\n",
       "      <th></th>\n",
       "      <th>Unnamed:_0</th>\n",
       "      <th>fixed.acidity</th>\n",
       "      <th>volatile.acidity</th>\n",
       "      <th>citric.acid</th>\n",
       "      <th>residual.sugar</th>\n",
       "      <th>chlorides</th>\n",
       "      <th>free.sulfur.dioxide</th>\n",
       "      <th>total.sulfur.dioxide</th>\n",
       "      <th>density</th>\n",
       "      <th>pH</th>\n",
       "      <th>sulphates</th>\n",
       "      <th>alcohol</th>\n",
       "      <th>label</th>\n",
       "    </tr>\n",
       "  </thead>\n",
       "  <tbody>\n",
       "    <tr>\n",
       "      <th>399</th>\n",
       "      <td>400</td>\n",
       "      <td>8.7</td>\n",
       "      <td>0.765</td>\n",
       "      <td>0.22</td>\n",
       "      <td>2.3</td>\n",
       "      <td>0.064</td>\n",
       "      <td>9.0</td>\n",
       "      <td>42.0</td>\n",
       "      <td>0.99630</td>\n",
       "      <td>3.10</td>\n",
       "      <td>0.55</td>\n",
       "      <td>9.4</td>\n",
       "      <td>bad</td>\n",
       "    </tr>\n",
       "    <tr>\n",
       "      <th>1519</th>\n",
       "      <td>1520</td>\n",
       "      <td>6.6</td>\n",
       "      <td>0.700</td>\n",
       "      <td>0.08</td>\n",
       "      <td>2.6</td>\n",
       "      <td>0.106</td>\n",
       "      <td>14.0</td>\n",
       "      <td>27.0</td>\n",
       "      <td>0.99665</td>\n",
       "      <td>3.44</td>\n",
       "      <td>0.58</td>\n",
       "      <td>10.2</td>\n",
       "      <td>bad</td>\n",
       "    </tr>\n",
       "    <tr>\n",
       "      <th>1388</th>\n",
       "      <td>1389</td>\n",
       "      <td>6.6</td>\n",
       "      <td>0.640</td>\n",
       "      <td>0.31</td>\n",
       "      <td>6.1</td>\n",
       "      <td>0.083</td>\n",
       "      <td>7.0</td>\n",
       "      <td>49.0</td>\n",
       "      <td>0.99718</td>\n",
       "      <td>3.35</td>\n",
       "      <td>0.68</td>\n",
       "      <td>10.3</td>\n",
       "      <td>bad</td>\n",
       "    </tr>\n",
       "    <tr>\n",
       "      <th>646</th>\n",
       "      <td>647</td>\n",
       "      <td>7.3</td>\n",
       "      <td>0.670</td>\n",
       "      <td>0.05</td>\n",
       "      <td>3.6</td>\n",
       "      <td>0.107</td>\n",
       "      <td>6.0</td>\n",
       "      <td>20.0</td>\n",
       "      <td>0.99720</td>\n",
       "      <td>3.40</td>\n",
       "      <td>0.63</td>\n",
       "      <td>10.1</td>\n",
       "      <td>bad</td>\n",
       "    </tr>\n",
       "    <tr>\n",
       "      <th>464</th>\n",
       "      <td>465</td>\n",
       "      <td>11.5</td>\n",
       "      <td>0.315</td>\n",
       "      <td>0.54</td>\n",
       "      <td>2.1</td>\n",
       "      <td>0.084</td>\n",
       "      <td>5.0</td>\n",
       "      <td>15.0</td>\n",
       "      <td>0.99870</td>\n",
       "      <td>2.98</td>\n",
       "      <td>0.70</td>\n",
       "      <td>9.2</td>\n",
       "      <td>good</td>\n",
       "    </tr>\n",
       "    <tr>\n",
       "      <th>...</th>\n",
       "      <td>...</td>\n",
       "      <td>...</td>\n",
       "      <td>...</td>\n",
       "      <td>...</td>\n",
       "      <td>...</td>\n",
       "      <td>...</td>\n",
       "      <td>...</td>\n",
       "      <td>...</td>\n",
       "      <td>...</td>\n",
       "      <td>...</td>\n",
       "      <td>...</td>\n",
       "      <td>...</td>\n",
       "      <td>...</td>\n",
       "    </tr>\n",
       "    <tr>\n",
       "      <th>148</th>\n",
       "      <td>149</td>\n",
       "      <td>6.9</td>\n",
       "      <td>0.490</td>\n",
       "      <td>0.10</td>\n",
       "      <td>2.3</td>\n",
       "      <td>0.074</td>\n",
       "      <td>12.0</td>\n",
       "      <td>30.0</td>\n",
       "      <td>0.99590</td>\n",
       "      <td>3.42</td>\n",
       "      <td>0.58</td>\n",
       "      <td>10.2</td>\n",
       "      <td>good</td>\n",
       "    </tr>\n",
       "    <tr>\n",
       "      <th>415</th>\n",
       "      <td>416</td>\n",
       "      <td>8.6</td>\n",
       "      <td>0.725</td>\n",
       "      <td>0.24</td>\n",
       "      <td>6.6</td>\n",
       "      <td>0.117</td>\n",
       "      <td>31.0</td>\n",
       "      <td>134.0</td>\n",
       "      <td>1.00140</td>\n",
       "      <td>3.32</td>\n",
       "      <td>1.07</td>\n",
       "      <td>9.3</td>\n",
       "      <td>bad</td>\n",
       "    </tr>\n",
       "    <tr>\n",
       "      <th>1479</th>\n",
       "      <td>1480</td>\n",
       "      <td>8.2</td>\n",
       "      <td>0.280</td>\n",
       "      <td>0.60</td>\n",
       "      <td>3.0</td>\n",
       "      <td>0.104</td>\n",
       "      <td>10.0</td>\n",
       "      <td>22.0</td>\n",
       "      <td>0.99828</td>\n",
       "      <td>3.39</td>\n",
       "      <td>0.68</td>\n",
       "      <td>10.6</td>\n",
       "      <td>bad</td>\n",
       "    </tr>\n",
       "    <tr>\n",
       "      <th>1062</th>\n",
       "      <td>1063</td>\n",
       "      <td>8.0</td>\n",
       "      <td>0.380</td>\n",
       "      <td>0.44</td>\n",
       "      <td>1.9</td>\n",
       "      <td>0.098</td>\n",
       "      <td>6.0</td>\n",
       "      <td>15.0</td>\n",
       "      <td>0.99560</td>\n",
       "      <td>3.30</td>\n",
       "      <td>0.64</td>\n",
       "      <td>11.4</td>\n",
       "      <td>good</td>\n",
       "    </tr>\n",
       "    <tr>\n",
       "      <th>713</th>\n",
       "      <td>714</td>\n",
       "      <td>8.0</td>\n",
       "      <td>0.430</td>\n",
       "      <td>0.36</td>\n",
       "      <td>2.3</td>\n",
       "      <td>0.075</td>\n",
       "      <td>10.0</td>\n",
       "      <td>48.0</td>\n",
       "      <td>0.99760</td>\n",
       "      <td>3.34</td>\n",
       "      <td>0.46</td>\n",
       "      <td>9.4</td>\n",
       "      <td>bad</td>\n",
       "    </tr>\n",
       "  </tbody>\n",
       "</table>\n",
       "<p>100 rows × 13 columns</p>\n",
       "</div>"
      ],
      "text/plain": [
       "      Unnamed:_0  fixed.acidity  volatile.acidity  citric.acid  \\\n",
       "399          400            8.7             0.765         0.22   \n",
       "1519        1520            6.6             0.700         0.08   \n",
       "1388        1389            6.6             0.640         0.31   \n",
       "646          647            7.3             0.670         0.05   \n",
       "464          465           11.5             0.315         0.54   \n",
       "...          ...            ...               ...          ...   \n",
       "148          149            6.9             0.490         0.10   \n",
       "415          416            8.6             0.725         0.24   \n",
       "1479        1480            8.2             0.280         0.60   \n",
       "1062        1063            8.0             0.380         0.44   \n",
       "713          714            8.0             0.430         0.36   \n",
       "\n",
       "      residual.sugar  chlorides  free.sulfur.dioxide  total.sulfur.dioxide  \\\n",
       "399              2.3      0.064                  9.0                  42.0   \n",
       "1519             2.6      0.106                 14.0                  27.0   \n",
       "1388             6.1      0.083                  7.0                  49.0   \n",
       "646              3.6      0.107                  6.0                  20.0   \n",
       "464              2.1      0.084                  5.0                  15.0   \n",
       "...              ...        ...                  ...                   ...   \n",
       "148              2.3      0.074                 12.0                  30.0   \n",
       "415              6.6      0.117                 31.0                 134.0   \n",
       "1479             3.0      0.104                 10.0                  22.0   \n",
       "1062             1.9      0.098                  6.0                  15.0   \n",
       "713              2.3      0.075                 10.0                  48.0   \n",
       "\n",
       "      density    pH  sulphates  alcohol label  \n",
       "399   0.99630  3.10       0.55      9.4   bad  \n",
       "1519  0.99665  3.44       0.58     10.2   bad  \n",
       "1388  0.99718  3.35       0.68     10.3   bad  \n",
       "646   0.99720  3.40       0.63     10.1   bad  \n",
       "464   0.99870  2.98       0.70      9.2  good  \n",
       "...       ...   ...        ...      ...   ...  \n",
       "148   0.99590  3.42       0.58     10.2  good  \n",
       "415   1.00140  3.32       1.07      9.3   bad  \n",
       "1479  0.99828  3.39       0.68     10.6   bad  \n",
       "1062  0.99560  3.30       0.64     11.4  good  \n",
       "713   0.99760  3.34       0.46      9.4   bad  \n",
       "\n",
       "[100 rows x 13 columns]"
      ]
     },
     "execution_count": 10,
     "metadata": {},
     "output_type": "execute_result"
    }
   ],
   "source": [
    "bootstrap(train_data, n_bootstrap=100)"
   ]
  },
  {
   "cell_type": "markdown",
   "metadata": {
    "papermill": {
     "duration": 0.020731,
     "end_time": "2021-01-22T10:11:13.859490",
     "exception": false,
     "start_time": "2021-01-22T10:11:13.838759",
     "status": "completed"
    },
    "tags": []
   },
   "source": [
    "# Random Subspace"
   ]
  },
  {
   "cell_type": "code",
   "execution_count": 11,
   "metadata": {
    "execution": {
     "iopub.execute_input": "2021-01-22T10:11:13.912265Z",
     "iopub.status.busy": "2021-01-22T10:11:13.911594Z",
     "iopub.status.idle": "2021-01-22T10:11:13.914925Z",
     "shell.execute_reply": "2021-01-22T10:11:13.914176Z"
    },
    "papermill": {
     "duration": 0.034485,
     "end_time": "2021-01-22T10:11:13.915035",
     "exception": false,
     "start_time": "2021-01-22T10:11:13.880550",
     "status": "completed"
    },
    "tags": []
   },
   "outputs": [],
   "source": [
    "def get_potential_splits(data, random_subspace):\n",
    "    \n",
    "    potential_splits = {}\n",
    "    _, n_columns = data.shape\n",
    "    \n",
    "    col_index = list(range(n_columns-1))\n",
    "    if random_subspace and random_subspace <= len(col_index):\n",
    "        col_index = random.sample(population=col_index, k=random_subspace)\n",
    "    \n",
    "    for column_index in col_index:  # excluding the last column which is the label\n",
    "        values = data[:, column_index]\n",
    "        unique_values = np.unique(values)\n",
    "        \n",
    "        potential_splits[column_index] = unique_values\n",
    "    \n",
    "    return potential_splits"
   ]
  },
  {
   "cell_type": "code",
   "execution_count": 12,
   "metadata": {
    "execution": {
     "iopub.execute_input": "2021-01-22T10:11:13.972006Z",
     "iopub.status.busy": "2021-01-22T10:11:13.961325Z",
     "iopub.status.idle": "2021-01-22T10:11:13.979030Z",
     "shell.execute_reply": "2021-01-22T10:11:13.978354Z"
    },
    "papermill": {
     "duration": 0.043621,
     "end_time": "2021-01-22T10:11:13.979169",
     "exception": false,
     "start_time": "2021-01-22T10:11:13.935548",
     "status": "completed"
    },
    "tags": []
   },
   "outputs": [
    {
     "data": {
      "text/plain": [
       "{8: array([0.9900700000000001, 0.99064, 0.9908, 0.9912, 0.9915, 0.99154,\n",
       "        0.9915700000000001, 0.9916, 0.9916200000000001, 0.9917, 0.99182,\n",
       "        0.9921, 0.9922, 0.99236, 0.9924, 0.9924200000000001,\n",
       "        0.9925200000000001, 0.99256, 0.9925799999999999, 0.99264, 0.9927,\n",
       "        0.9928, 0.9928600000000001, 0.9929399999999999, 0.9931399999999999,\n",
       "        0.99316, 0.99318, 0.9932200000000001, 0.9932799999999999, 0.9933,\n",
       "        0.99331, 0.9933200000000001, 0.99334, 0.9934, 0.99344, 0.99346,\n",
       "        0.9934799999999999, 0.9935200000000001, 0.99354, 0.99356,\n",
       "        0.9935799999999999, 0.9936, 0.9936200000000001, 0.99364, 0.9937,\n",
       "        0.99371, 0.99374, 0.9937600000000001, 0.9937799999999999, 0.99379,\n",
       "        0.9938, 0.99384, 0.99385, 0.9938600000000001, 0.99387,\n",
       "        0.9938799999999999, 0.99392, 0.9939399999999999, 0.99395,\n",
       "        0.9939600000000001, 0.99397, 0.9940000000000001,\n",
       "        0.9940200000000001, 0.99408, 0.9941, 0.9941399999999999, 0.99416,\n",
       "        0.9941700000000001, 0.99418, 0.99419, 0.9942, 0.99425, 0.99426,\n",
       "        0.9942799999999999, 0.9943, 0.9943700000000001, 0.9943799999999999,\n",
       "        0.99439, 0.9944, 0.99444, 0.9944799999999999, 0.99454, 0.99456,\n",
       "        0.9945799999999999, 0.9946, 0.9946200000000001, 0.99464, 0.99467,\n",
       "        0.9946799999999999, 0.9947, 0.99471, 0.99472, 0.9947299999999999,\n",
       "        0.99474, 0.9947600000000001, 0.9947799999999999, 0.99479, 0.9948,\n",
       "        0.9948299999999999, 0.99484, 0.9948600000000001,\n",
       "        0.9948799999999999, 0.9948899999999999, 0.9949, 0.9949100000000001,\n",
       "        0.99492, 0.9949399999999999, 0.99495, 0.9949600000000001, 0.99498,\n",
       "        0.9949899999999999, 0.995, 0.9950100000000001, 0.9950200000000001,\n",
       "        0.9950399999999999, 0.9950600000000001, 0.99508,\n",
       "        0.9950899999999999, 0.9951, 0.9951200000000001, 0.9951399999999999,\n",
       "        0.99516, 0.9951700000000001, 0.99518, 0.99519, 0.9952,\n",
       "        0.9952200000000001, 0.99524, 0.99525, 0.99526, 0.9952799999999999,\n",
       "        0.99529, 0.9953, 0.9953200000000001, 0.9953299999999999, 0.99534,\n",
       "        0.99536, 0.9953799999999999, 0.9954, 0.9954200000000001,\n",
       "        0.9954299999999999, 0.99544, 0.99545, 0.99546, 0.9954700000000001,\n",
       "        0.99549, 0.9955, 0.99551, 0.9955200000000001, 0.9955299999999999,\n",
       "        0.99554, 0.99555, 0.99556, 0.9955700000000001, 0.9955799999999999,\n",
       "        0.9956, 0.9956200000000001, 0.99564, 0.99565, 0.99566,\n",
       "        0.9956799999999999, 0.9957, 0.99572, 0.99574, 0.99575,\n",
       "        0.9957600000000001, 0.99577, 0.9957799999999999, 0.9958, 0.99584,\n",
       "        0.99585, 0.9958600000000001, 0.99587, 0.9958799999999999,\n",
       "        0.9958899999999999, 0.9959, 0.99592, 0.99593, 0.9959399999999999,\n",
       "        0.9959600000000001, 0.99598, 0.9959899999999999, 0.996, 0.99603,\n",
       "        0.9960399999999999, 0.99605, 0.9960600000000001, 0.99608,\n",
       "        0.9960899999999999, 0.9961, 0.9961200000000001, 0.99613,\n",
       "        0.9961399999999999, 0.99615, 0.99616, 0.9961700000000001,\n",
       "        0.9961899999999999, 0.9962, 0.99621, 0.9962200000000001, 0.99623,\n",
       "        0.99624, 0.99625, 0.9962700000000001, 0.9962799999999999, 0.99629,\n",
       "        0.9963, 0.99631, 0.9963200000000001, 0.9963299999999999, 0.99634,\n",
       "        0.99635, 0.99636, 0.9963799999999999, 0.99639, 0.9964, 0.99641,\n",
       "        0.9964200000000001, 0.9964299999999999, 0.99646,\n",
       "        0.9964799999999999, 0.99649, 0.9965, 0.99651, 0.9965200000000001,\n",
       "        0.99654, 0.99655, 0.99656, 0.99659, 0.9966, 0.99661, 0.99664,\n",
       "        0.99665, 0.99666, 0.9966700000000001, 0.9966799999999999, 0.99669,\n",
       "        0.9967, 0.99672, 0.99675, 0.9967600000000001, 0.99677, 0.9968,\n",
       "        0.99682, 0.9968299999999999, 0.99684, 0.99685, 0.9968600000000001,\n",
       "        0.9968799999999999, 0.9968899999999999, 0.9969, 0.99692,\n",
       "        0.9969299999999999, 0.9969399999999999, 0.99698,\n",
       "        0.9969899999999999, 0.997, 0.9970100000000001, 0.99702,\n",
       "        0.9970399999999999, 0.9970600000000001, 0.99708, 0.9971,\n",
       "        0.9971200000000001, 0.99713, 0.9971399999999999, 0.99716,\n",
       "        0.9971700000000001, 0.99718, 0.9971899999999999, 0.9972, 0.99721,\n",
       "        0.9972200000000001, 0.99724, 0.99725, 0.99726, 0.9972700000000001,\n",
       "        0.9972799999999999, 0.9973, 0.9973200000000001, 0.9973299999999999,\n",
       "        0.99734, 0.99735, 0.99736, 0.9973799999999999, 0.99739, 0.9974,\n",
       "        0.9974299999999999, 0.99744, 0.99745, 0.99746, 0.9974700000000001,\n",
       "        0.9974799999999999, 0.9975, 0.99754, 0.9975799999999999, 0.9976,\n",
       "        0.99761, 0.99764, 0.99765, 0.9976799999999999, 0.99769, 0.9977,\n",
       "        0.99772, 0.99774, 0.99779, 0.9978, 0.99782, 0.9978299999999999,\n",
       "        0.99784, 0.99785, 0.9978600000000001, 0.99787, 0.9978799999999999,\n",
       "        0.9979, 0.9979600000000001, 0.99798, 0.998, 0.9980100000000001,\n",
       "        0.99803, 0.99808, 0.9981, 0.9981399999999999, 0.99815,\n",
       "        0.9981700000000001, 0.99818, 0.9982, 0.9982200000000001, 0.99823,\n",
       "        0.99824, 0.99828, 0.9983, 0.9983200000000001, 0.99834, 0.99836,\n",
       "        0.9984, 0.9984200000000001, 0.9985, 0.99854, 0.99855, 0.99859,\n",
       "        0.9986, 0.99864, 0.99865, 0.9987, 0.9988, 0.9988799999999999,\n",
       "        0.9989, 0.99892, 0.9990000000000001, 0.9991, 0.9991399999999999,\n",
       "        0.99915, 0.99918, 0.9992, 0.9992200000000001, 0.99925, 0.9993,\n",
       "        0.99935, 0.9993799999999999, 0.99939, 0.9994, 0.9995, 0.9996,\n",
       "        0.99965, 0.9997, 0.99975, 0.99976, 0.9998, 0.9999, 1.0, 1.00005,\n",
       "        1.0001, 1.0001200000000001, 1.00015, 1.0002, 1.00024, 1.0003,\n",
       "        1.0004, 1.0006, 1.0008, 1.001, 1.0014, 1.0015, 1.0018, 1.0021,\n",
       "        1.0022, 1.00242, 1.0026, 1.00315, 1.0032, 1.00369], dtype=object),\n",
       " 10: array([0.37, 0.39, 0.4, 0.42, 0.43, 0.44, 0.45, 0.46, 0.47, 0.48, 0.49,\n",
       "        0.5, 0.51, 0.52, 0.53, 0.54, 0.55, 0.56, 0.57, 0.58, 0.59, 0.6,\n",
       "        0.61, 0.62, 0.63, 0.64, 0.65, 0.66, 0.67, 0.68, 0.69, 0.7, 0.71,\n",
       "        0.72, 0.73, 0.74, 0.75, 0.76, 0.77, 0.78, 0.79, 0.8, 0.81, 0.82,\n",
       "        0.83, 0.84, 0.85, 0.86, 0.87, 0.88, 0.89, 0.9, 0.91, 0.92, 0.93,\n",
       "        0.94, 0.95, 0.96, 0.97, 0.98, 0.99, 1.0, 1.01, 1.02, 1.03, 1.04,\n",
       "        1.05, 1.06, 1.07, 1.08, 1.1, 1.13, 1.14, 1.15, 1.16, 1.17, 1.18,\n",
       "        1.2, 1.22, 1.26, 1.28, 1.31, 1.33, 1.34, 1.36, 1.56, 1.59, 1.61,\n",
       "        1.62, 1.95], dtype=object),\n",
       " 5: array([0.012, 0.034, 0.038, 0.039, 0.040999999999999995, 0.042, 0.043,\n",
       "        0.044000000000000004, 0.045, 0.046, 0.047, 0.048, 0.049, 0.05,\n",
       "        0.051, 0.052000000000000005, 0.053, 0.054000000000000006, 0.055,\n",
       "        0.055999999999999994, 0.057, 0.057999999999999996,\n",
       "        0.059000000000000004, 0.06, 0.061, 0.062, 0.063, 0.064, 0.065,\n",
       "        0.066, 0.067, 0.068, 0.069, 0.07, 0.071, 0.07200000000000001,\n",
       "        0.073, 0.07400000000000001, 0.075, 0.076, 0.077, 0.078, 0.079,\n",
       "        0.08, 0.081, 0.08199999999999999, 0.083, 0.084, 0.085, 0.086,\n",
       "        0.087, 0.08800000000000001, 0.08900000000000001, 0.09, 0.091,\n",
       "        0.092, 0.09300000000000001, 0.094, 0.095, 0.096,\n",
       "        0.09699999999999999, 0.098, 0.099, 0.1, 0.10099999999999999, 0.102,\n",
       "        0.10300000000000001, 0.10400000000000001, 0.105, 0.106, 0.107,\n",
       "        0.10800000000000001, 0.109, 0.11, 0.111, 0.11199999999999999,\n",
       "        0.113, 0.114, 0.115, 0.11599999999999999, 0.11699999999999999,\n",
       "        0.11800000000000001, 0.11900000000000001, 0.12, 0.121, 0.122,\n",
       "        0.12300000000000001, 0.124, 0.125, 0.126, 0.128, 0.132,\n",
       "        0.13699999999999998, 0.14300000000000002, 0.145, 0.147,\n",
       "        0.14800000000000002, 0.152, 0.153, 0.157, 0.159, 0.161, 0.165,\n",
       "        0.166, 0.168, 0.17, 0.171, 0.172, 0.17600000000000002,\n",
       "        0.17800000000000002, 0.18600000000000003, 0.19,\n",
       "        0.19399999999999998, 0.2, 0.205, 0.213, 0.214, 0.21600000000000003,\n",
       "        0.226, 0.23, 0.235, 0.24100000000000002, 0.243, 0.25, 0.267, 0.27,\n",
       "        0.332, 0.337, 0.341, 0.358, 0.36, 0.368, 0.387, 0.401,\n",
       "        0.40299999999999997, 0.414, 0.415, 0.42200000000000004,\n",
       "        0.46399999999999997, 0.467, 0.611], dtype=object)}"
      ]
     },
     "execution_count": 12,
     "metadata": {},
     "output_type": "execute_result"
    }
   ],
   "source": [
    "get_potential_splits(train_data.values, random_subspace=3)"
   ]
  },
  {
   "cell_type": "markdown",
   "metadata": {
    "papermill": {
     "duration": 0.021247,
     "end_time": "2021-01-22T10:11:14.023630",
     "exception": false,
     "start_time": "2021-01-22T10:11:14.002383",
     "status": "completed"
    },
    "tags": []
   },
   "source": [
    "# Random Forest"
   ]
  },
  {
   "cell_type": "code",
   "execution_count": 13,
   "metadata": {
    "execution": {
     "iopub.execute_input": "2021-01-22T10:11:14.076443Z",
     "iopub.status.busy": "2021-01-22T10:11:14.075358Z",
     "iopub.status.idle": "2021-01-22T10:11:14.079149Z",
     "shell.execute_reply": "2021-01-22T10:11:14.078412Z"
    },
    "papermill": {
     "duration": 0.033821,
     "end_time": "2021-01-22T10:11:14.079282",
     "exception": false,
     "start_time": "2021-01-22T10:11:14.045461",
     "status": "completed"
    },
    "tags": []
   },
   "outputs": [],
   "source": [
    "def  random_forest_algorithm(train_data, n_trees, n_bootstrap, n_features, max_depth):\n",
    "    forest = []\n",
    "    for i in range(n_trees):\n",
    "        boot_data = bootstrap(train_data, n_bootstrap)\n",
    "        tree = decision_tree_algorithm(boot_data, max_depth=max_depth, random_subspace=n_features)\n",
    "        forest.append(tree)\n",
    "        \n",
    "    return forest"
   ]
  },
  {
   "cell_type": "code",
   "execution_count": 14,
   "metadata": {
    "execution": {
     "iopub.execute_input": "2021-01-22T10:11:14.151695Z",
     "iopub.status.busy": "2021-01-22T10:11:14.150616Z",
     "iopub.status.idle": "2021-01-22T10:11:19.377072Z",
     "shell.execute_reply": "2021-01-22T10:11:19.376026Z"
    },
    "papermill": {
     "duration": 5.265543,
     "end_time": "2021-01-22T10:11:19.377214",
     "exception": false,
     "start_time": "2021-01-22T10:11:14.111671",
     "status": "completed"
    },
    "tags": []
   },
   "outputs": [],
   "source": [
    "forest = random_forest_algorithm(train_data, n_trees=4, n_bootstrap=800, n_features=4, max_depth=3)"
   ]
  },
  {
   "cell_type": "code",
   "execution_count": 15,
   "metadata": {
    "execution": {
     "iopub.execute_input": "2021-01-22T10:11:19.427942Z",
     "iopub.status.busy": "2021-01-22T10:11:19.427189Z",
     "iopub.status.idle": "2021-01-22T10:11:19.432785Z",
     "shell.execute_reply": "2021-01-22T10:11:19.432261Z"
    },
    "papermill": {
     "duration": 0.033506,
     "end_time": "2021-01-22T10:11:19.432898",
     "exception": false,
     "start_time": "2021-01-22T10:11:19.399392",
     "status": "completed"
    },
    "tags": []
   },
   "outputs": [
    {
     "data": {
      "text/plain": [
       "4"
      ]
     },
     "execution_count": 15,
     "metadata": {},
     "output_type": "execute_result"
    }
   ],
   "source": [
    "len(forest)"
   ]
  },
  {
   "cell_type": "code",
   "execution_count": 16,
   "metadata": {
    "execution": {
     "iopub.execute_input": "2021-01-22T10:11:19.483716Z",
     "iopub.status.busy": "2021-01-22T10:11:19.482779Z",
     "iopub.status.idle": "2021-01-22T10:11:19.491098Z",
     "shell.execute_reply": "2021-01-22T10:11:19.492807Z"
    },
    "papermill": {
     "duration": 0.037866,
     "end_time": "2021-01-22T10:11:19.492967",
     "exception": false,
     "start_time": "2021-01-22T10:11:19.455101",
     "status": "completed"
    },
    "tags": []
   },
   "outputs": [
    {
     "name": "stdout",
     "output_type": "stream",
     "text": [
      "{'volatile.acidity <= 0.36': [{'alcohol <= 10.7': [{'density <= 0.9965': ['bad',\n",
      "                                                                          'good']},\n",
      "                                                   'good']},\n",
      "                              {'sulphates <= 0.53': ['bad',\n",
      "                                                     {'Unnamed:_0 <= 820': ['bad',\n",
      "                                                                            'good']}]}]}\n"
     ]
    }
   ],
   "source": [
    "pprint(forest[0])"
   ]
  },
  {
   "cell_type": "code",
   "execution_count": 17,
   "metadata": {
    "execution": {
     "iopub.execute_input": "2021-01-22T10:11:19.545906Z",
     "iopub.status.busy": "2021-01-22T10:11:19.544079Z",
     "iopub.status.idle": "2021-01-22T10:11:19.555817Z",
     "shell.execute_reply": "2021-01-22T10:11:19.556517Z"
    },
    "papermill": {
     "duration": 0.040724,
     "end_time": "2021-01-22T10:11:19.556727",
     "exception": false,
     "start_time": "2021-01-22T10:11:19.516003",
     "status": "completed"
    },
    "tags": []
   },
   "outputs": [
    {
     "name": "stdout",
     "output_type": "stream",
     "text": [
      "{'alcohol <= 10.5': [{'sulphates <= 0.62': ['bad',\n",
      "                                            {'volatile.acidity <= 0.4': ['good',\n",
      "                                                                         'bad']}]},\n",
      "                     {'citric.acid <= 0.23': [{'volatile.acidity <= 0.98': ['good',\n",
      "                                                                            'bad']},\n",
      "                                              'good']}]}\n"
     ]
    }
   ],
   "source": [
    "pprint(forest[1])"
   ]
  },
  {
   "cell_type": "code",
   "execution_count": 18,
   "metadata": {
    "execution": {
     "iopub.execute_input": "2021-01-22T10:11:19.633416Z",
     "iopub.status.busy": "2021-01-22T10:11:19.632761Z",
     "iopub.status.idle": "2021-01-22T10:11:19.642135Z",
     "shell.execute_reply": "2021-01-22T10:11:19.641576Z"
    },
    "papermill": {
     "duration": 0.050094,
     "end_time": "2021-01-22T10:11:19.642247",
     "exception": false,
     "start_time": "2021-01-22T10:11:19.592153",
     "status": "completed"
    },
    "tags": []
   },
   "outputs": [
    {
     "name": "stdout",
     "output_type": "stream",
     "text": [
      "{'chlorides <= 0.069': [{'pH <= 3.33': ['good',\n",
      "                                        {'Unnamed:_0 <= 686': ['bad',\n",
      "                                                               'good']}]},\n",
      "                        {'volatile.acidity <= 0.36': ['good',\n",
      "                                                      {'alcohol <= 10.1': ['bad',\n",
      "                                                                           'good']}]}]}\n"
     ]
    }
   ],
   "source": [
    "pprint(forest[2])"
   ]
  },
  {
   "cell_type": "code",
   "execution_count": 19,
   "metadata": {
    "execution": {
     "iopub.execute_input": "2021-01-22T10:11:19.696196Z",
     "iopub.status.busy": "2021-01-22T10:11:19.695490Z",
     "iopub.status.idle": "2021-01-22T10:11:19.705912Z",
     "shell.execute_reply": "2021-01-22T10:11:19.704956Z"
    },
    "papermill": {
     "duration": 0.039555,
     "end_time": "2021-01-22T10:11:19.706082",
     "exception": false,
     "start_time": "2021-01-22T10:11:19.666527",
     "status": "completed"
    },
    "tags": []
   },
   "outputs": [
    {
     "name": "stdout",
     "output_type": "stream",
     "text": [
      "{'alcohol <= 10.6': [{'sulphates <= 0.52': [{'alcohol <= 10.5': ['bad',\n",
      "                                                                 'good']},\n",
      "                                            {'fixed.acidity <= 10.0': ['bad',\n",
      "                                                                       'good']}]},\n",
      "                     {'volatile.acidity <= 0.865': ['good',\n",
      "                                                    {'alcohol <= 10.7': ['good',\n",
      "                                                                         'bad']}]}]}\n"
     ]
    }
   ],
   "source": [
    "pprint(forest[3])"
   ]
  },
  {
   "cell_type": "markdown",
   "metadata": {
    "papermill": {
     "duration": 0.036463,
     "end_time": "2021-01-22T10:11:19.779502",
     "exception": false,
     "start_time": "2021-01-22T10:11:19.743039",
     "status": "completed"
    },
    "tags": []
   },
   "source": [
    "# Prediction"
   ]
  },
  {
   "cell_type": "code",
   "execution_count": 20,
   "metadata": {
    "execution": {
     "iopub.execute_input": "2021-01-22T10:11:19.863060Z",
     "iopub.status.busy": "2021-01-22T10:11:19.861960Z",
     "iopub.status.idle": "2021-01-22T10:11:19.866367Z",
     "shell.execute_reply": "2021-01-22T10:11:19.865634Z"
    },
    "papermill": {
     "duration": 0.050866,
     "end_time": "2021-01-22T10:11:19.866513",
     "exception": false,
     "start_time": "2021-01-22T10:11:19.815647",
     "status": "completed"
    },
    "tags": []
   },
   "outputs": [],
   "source": [
    "def random_forest_prediction(test_data, forest):\n",
    "    pred_data = {}\n",
    "    for i in range(len(forest)):\n",
    "        col = \"tree...{}\".format(i)\n",
    "        predictions = decision_tree_predictions(test_data, tree=forest[i])\n",
    "        pred_data[col] = predictions\n",
    "    \n",
    "    pred_data = pd.DataFrame(pred_data)\n",
    "    \n",
    "    return pred_data.mode(axis=1)[0]"
   ]
  },
  {
   "cell_type": "code",
   "execution_count": 21,
   "metadata": {
    "execution": {
     "iopub.execute_input": "2021-01-22T10:11:19.947244Z",
     "iopub.status.busy": "2021-01-22T10:11:19.946192Z",
     "iopub.status.idle": "2021-01-22T10:11:20.285856Z",
     "shell.execute_reply": "2021-01-22T10:11:20.285301Z"
    },
    "papermill": {
     "duration": 0.382476,
     "end_time": "2021-01-22T10:11:20.285989",
     "exception": false,
     "start_time": "2021-01-22T10:11:19.903513",
     "status": "completed"
    },
    "tags": []
   },
   "outputs": [
    {
     "data": {
      "text/plain": [
       "0.709375"
      ]
     },
     "execution_count": 21,
     "metadata": {},
     "output_type": "execute_result"
    }
   ],
   "source": [
    "predictions = random_forest_prediction(test_data, forest)\n",
    "\n",
    "accuracy = calculate_accuracy(predictions, test_data.label)\n",
    "accuracy"
   ]
  },
  {
   "cell_type": "code",
   "execution_count": 22,
   "metadata": {
    "execution": {
     "iopub.execute_input": "2021-01-22T10:11:20.346763Z",
     "iopub.status.busy": "2021-01-22T10:11:20.345977Z",
     "iopub.status.idle": "2021-01-22T10:11:21.662736Z",
     "shell.execute_reply": "2021-01-22T10:11:21.662137Z"
    },
    "papermill": {
     "duration": 1.351405,
     "end_time": "2021-01-22T10:11:21.662852",
     "exception": false,
     "start_time": "2021-01-22T10:11:20.311447",
     "status": "completed"
    },
    "tags": []
   },
   "outputs": [
    {
     "data": {
      "text/plain": [
       "0.740625"
      ]
     },
     "execution_count": 22,
     "metadata": {},
     "output_type": "execute_result"
    }
   ],
   "source": [
    "from sklearn.ensemble import RandomForestClassifier\n",
    "\n",
    "rf_model = RandomForestClassifier(n_estimators=4, criterion='entropy', max_depth=3, max_samples=800, random_state=21)\n",
    "rf_model.fit(train_data.drop('label', axis=1), train_data['label'])\n",
    "\n",
    "y_pred = rf_model.predict(test_data.drop('label', axis=1))\n",
    "accuracy = calculate_accuracy(y_pred, test_data.label)\n",
    "accuracy"
   ]
  }
 ],
 "metadata": {
  "kernelspec": {
   "display_name": "Python 3",
   "language": "python",
   "name": "python3"
  },
  "language_info": {
   "codemirror_mode": {
    "name": "ipython",
    "version": 3
   },
   "file_extension": ".py",
   "mimetype": "text/x-python",
   "name": "python",
   "nbconvert_exporter": "python",
   "pygments_lexer": "ipython3",
   "version": "3.7.6"
  },
  "papermill": {
   "duration": 14.778377,
   "end_time": "2021-01-22T10:11:21.799817",
   "environment_variables": {},
   "exception": null,
   "input_path": "__notebook__.ipynb",
   "output_path": "__notebook__.ipynb",
   "parameters": {},
   "start_time": "2021-01-22T10:11:07.021440",
   "version": "2.1.0"
  }
 },
 "nbformat": 4,
 "nbformat_minor": 4
}
