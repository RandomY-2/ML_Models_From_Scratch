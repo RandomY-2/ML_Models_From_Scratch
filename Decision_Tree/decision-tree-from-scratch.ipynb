{
 "cells": [
  {
   "cell_type": "markdown",
   "metadata": {
    "papermill": {
     "duration": 0.039417,
     "end_time": "2021-01-19T12:17:49.675902",
     "exception": false,
     "start_time": "2021-01-19T12:17:49.636485",
     "status": "completed"
    },
    "tags": []
   },
   "source": [
    "# Introduction\n",
    "\n",
    "In this notebook, I will create a decision tree classifier from scratch using pandas and numpy libraries. Then, I will use the iris dataset to test my model against the scikit-learn built-in decision tree classifier. "
   ]
  },
  {
   "cell_type": "code",
   "execution_count": 1,
   "metadata": {
    "_cell_guid": "b1076dfc-b9ad-4769-8c92-a6c4dae69d19",
    "_uuid": "8f2839f25d086af736a60e9eeb907d3b93b6e0e5",
    "execution": {
     "iopub.execute_input": "2021-01-19T12:17:49.762117Z",
     "iopub.status.busy": "2021-01-19T12:17:49.761312Z",
     "iopub.status.idle": "2021-01-19T12:17:51.024551Z",
     "shell.execute_reply": "2021-01-19T12:17:51.025103Z"
    },
    "papermill": {
     "duration": 1.311457,
     "end_time": "2021-01-19T12:17:51.025293",
     "exception": false,
     "start_time": "2021-01-19T12:17:49.713836",
     "status": "completed"
    },
    "tags": []
   },
   "outputs": [
    {
     "name": "stdout",
     "output_type": "stream",
     "text": [
      "/kaggle/input/iris/Iris.csv\n",
      "/kaggle/input/iris/database.sqlite\n"
     ]
    }
   ],
   "source": [
    "# This Python 3 environment comes with many helpful analytics libraries installed\n",
    "# It is defined by the kaggle/python Docker image: https://github.com/kaggle/docker-python\n",
    "# For example, here's several helpful packages to load\n",
    "\n",
    "import numpy as np # linear algebra\n",
    "import pandas as pd # data processing, CSV file I/O (e.g. pd.read_csv)\n",
    "\n",
    "import matplotlib.pyplot as plt\n",
    "import seaborn as sns\n",
    "%matplotlib inline\n",
    "\n",
    "import random\n",
    "from pprint import pprint\n",
    "\n",
    "# Input data files are available in the read-only \"../input/\" directory\n",
    "# For example, running this (by clicking run or pressing Shift+Enter) will list all files under the input directory\n",
    "\n",
    "import os\n",
    "for dirname, _, filenames in os.walk('/kaggle/input'):\n",
    "    for filename in filenames:\n",
    "        print(os.path.join(dirname, filename))\n",
    "\n",
    "# You can write up to 20GB to the current directory (/kaggle/working/) that gets preserved as output when you create a version using \"Save & Run All\" \n",
    "# You can also write temporary files to /kaggle/temp/, but they won't be saved outside of the current session"
   ]
  },
  {
   "cell_type": "markdown",
   "metadata": {
    "papermill": {
     "duration": 0.038899,
     "end_time": "2021-01-19T12:17:51.105246",
     "exception": false,
     "start_time": "2021-01-19T12:17:51.066347",
     "status": "completed"
    },
    "tags": []
   },
   "source": [
    "# Preprocessing"
   ]
  },
  {
   "cell_type": "markdown",
   "metadata": {
    "papermill": {
     "duration": 0.037908,
     "end_time": "2021-01-19T12:17:51.181499",
     "exception": false,
     "start_time": "2021-01-19T12:17:51.143591",
     "status": "completed"
    },
    "tags": []
   },
   "source": [
    "**Modify the Columns**\n",
    "\n",
    "To better assist my development, I will drop the Id column, which doesn't have any useful information for the decision tree, and change the column name Species to label."
   ]
  },
  {
   "cell_type": "code",
   "execution_count": 2,
   "metadata": {
    "_cell_guid": "79c7e3d0-c299-4dcb-8224-4455121ee9b0",
    "_uuid": "d629ff2d2480ee46fbb7e2d37f6b5fab8052498a",
    "execution": {
     "iopub.execute_input": "2021-01-19T12:17:51.261233Z",
     "iopub.status.busy": "2021-01-19T12:17:51.260564Z",
     "iopub.status.idle": "2021-01-19T12:17:51.299656Z",
     "shell.execute_reply": "2021-01-19T12:17:51.300192Z"
    },
    "papermill": {
     "duration": 0.080501,
     "end_time": "2021-01-19T12:17:51.300336",
     "exception": false,
     "start_time": "2021-01-19T12:17:51.219835",
     "status": "completed"
    },
    "tags": []
   },
   "outputs": [
    {
     "data": {
      "text/html": [
       "<div>\n",
       "<style scoped>\n",
       "    .dataframe tbody tr th:only-of-type {\n",
       "        vertical-align: middle;\n",
       "    }\n",
       "\n",
       "    .dataframe tbody tr th {\n",
       "        vertical-align: top;\n",
       "    }\n",
       "\n",
       "    .dataframe thead th {\n",
       "        text-align: right;\n",
       "    }\n",
       "</style>\n",
       "<table border=\"1\" class=\"dataframe\">\n",
       "  <thead>\n",
       "    <tr style=\"text-align: right;\">\n",
       "      <th></th>\n",
       "      <th>SepalLengthCm</th>\n",
       "      <th>SepalWidthCm</th>\n",
       "      <th>PetalLengthCm</th>\n",
       "      <th>PetalWidthCm</th>\n",
       "      <th>label</th>\n",
       "    </tr>\n",
       "  </thead>\n",
       "  <tbody>\n",
       "    <tr>\n",
       "      <th>0</th>\n",
       "      <td>5.1</td>\n",
       "      <td>3.5</td>\n",
       "      <td>1.4</td>\n",
       "      <td>0.2</td>\n",
       "      <td>Iris-setosa</td>\n",
       "    </tr>\n",
       "    <tr>\n",
       "      <th>1</th>\n",
       "      <td>4.9</td>\n",
       "      <td>3.0</td>\n",
       "      <td>1.4</td>\n",
       "      <td>0.2</td>\n",
       "      <td>Iris-setosa</td>\n",
       "    </tr>\n",
       "    <tr>\n",
       "      <th>2</th>\n",
       "      <td>4.7</td>\n",
       "      <td>3.2</td>\n",
       "      <td>1.3</td>\n",
       "      <td>0.2</td>\n",
       "      <td>Iris-setosa</td>\n",
       "    </tr>\n",
       "    <tr>\n",
       "      <th>3</th>\n",
       "      <td>4.6</td>\n",
       "      <td>3.1</td>\n",
       "      <td>1.5</td>\n",
       "      <td>0.2</td>\n",
       "      <td>Iris-setosa</td>\n",
       "    </tr>\n",
       "    <tr>\n",
       "      <th>4</th>\n",
       "      <td>5.0</td>\n",
       "      <td>3.6</td>\n",
       "      <td>1.4</td>\n",
       "      <td>0.2</td>\n",
       "      <td>Iris-setosa</td>\n",
       "    </tr>\n",
       "  </tbody>\n",
       "</table>\n",
       "</div>"
      ],
      "text/plain": [
       "   SepalLengthCm  SepalWidthCm  PetalLengthCm  PetalWidthCm        label\n",
       "0            5.1           3.5            1.4           0.2  Iris-setosa\n",
       "1            4.9           3.0            1.4           0.2  Iris-setosa\n",
       "2            4.7           3.2            1.3           0.2  Iris-setosa\n",
       "3            4.6           3.1            1.5           0.2  Iris-setosa\n",
       "4            5.0           3.6            1.4           0.2  Iris-setosa"
      ]
     },
     "execution_count": 2,
     "metadata": {},
     "output_type": "execute_result"
    }
   ],
   "source": [
    "full_data = pd.read_csv('/kaggle/input/iris/Iris.csv')\n",
    "full_data = full_data.drop('Id', axis=1)\n",
    "full_data = full_data.rename(columns={\"Species\": \"label\"})\n",
    "\n",
    "full_data.head()"
   ]
  },
  {
   "cell_type": "markdown",
   "metadata": {
    "papermill": {
     "duration": 0.03973,
     "end_time": "2021-01-19T12:17:51.383551",
     "exception": false,
     "start_time": "2021-01-19T12:17:51.343821",
     "status": "completed"
    },
    "tags": []
   },
   "source": [
    "**Null Values**\n",
    "\n",
    "Another thing I need to check is the null values in the dataset. Luckily in this dataset there is no null value."
   ]
  },
  {
   "cell_type": "code",
   "execution_count": 3,
   "metadata": {
    "execution": {
     "iopub.execute_input": "2021-01-19T12:17:51.465088Z",
     "iopub.status.busy": "2021-01-19T12:17:51.464412Z",
     "iopub.status.idle": "2021-01-19T12:17:51.478129Z",
     "shell.execute_reply": "2021-01-19T12:17:51.478824Z"
    },
    "papermill": {
     "duration": 0.056961,
     "end_time": "2021-01-19T12:17:51.478969",
     "exception": false,
     "start_time": "2021-01-19T12:17:51.422008",
     "status": "completed"
    },
    "tags": []
   },
   "outputs": [
    {
     "name": "stdout",
     "output_type": "stream",
     "text": [
      "<class 'pandas.core.frame.DataFrame'>\n",
      "RangeIndex: 150 entries, 0 to 149\n",
      "Data columns (total 5 columns):\n",
      " #   Column         Non-Null Count  Dtype  \n",
      "---  ------         --------------  -----  \n",
      " 0   SepalLengthCm  150 non-null    float64\n",
      " 1   SepalWidthCm   150 non-null    float64\n",
      " 2   PetalLengthCm  150 non-null    float64\n",
      " 3   PetalWidthCm   150 non-null    float64\n",
      " 4   label          150 non-null    object \n",
      "dtypes: float64(4), object(1)\n",
      "memory usage: 6.0+ KB\n"
     ]
    }
   ],
   "source": [
    "full_data.info()"
   ]
  },
  {
   "cell_type": "markdown",
   "metadata": {
    "papermill": {
     "duration": 0.038887,
     "end_time": "2021-01-19T12:17:51.557046",
     "exception": false,
     "start_time": "2021-01-19T12:17:51.518159",
     "status": "completed"
    },
    "tags": []
   },
   "source": [
    "**Train Test Split**\n",
    "\n",
    "This helper method will create the train and test set for evaluation"
   ]
  },
  {
   "cell_type": "code",
   "execution_count": 4,
   "metadata": {
    "execution": {
     "iopub.execute_input": "2021-01-19T12:17:51.639656Z",
     "iopub.status.busy": "2021-01-19T12:17:51.638939Z",
     "iopub.status.idle": "2021-01-19T12:17:51.645816Z",
     "shell.execute_reply": "2021-01-19T12:17:51.646332Z"
    },
    "papermill": {
     "duration": 0.049757,
     "end_time": "2021-01-19T12:17:51.646500",
     "exception": false,
     "start_time": "2021-01-19T12:17:51.596743",
     "status": "completed"
    },
    "tags": []
   },
   "outputs": [],
   "source": [
    "def train_test_split(df, test_size):\n",
    "    if isinstance(test_size, float):\n",
    "        test_size = round(test_size * len(df))\n",
    "    \n",
    "    indices = df.index.tolist()\n",
    "    test_indices = random.sample(population=indices, k=test_size)\n",
    "    \n",
    "    test_df = df.loc[test_indices]\n",
    "    train_df = df.drop(test_indices)\n",
    "    \n",
    "    return train_df, test_df"
   ]
  },
  {
   "cell_type": "code",
   "execution_count": 5,
   "metadata": {
    "execution": {
     "iopub.execute_input": "2021-01-19T12:17:51.728994Z",
     "iopub.status.busy": "2021-01-19T12:17:51.728218Z",
     "iopub.status.idle": "2021-01-19T12:17:51.739211Z",
     "shell.execute_reply": "2021-01-19T12:17:51.738543Z"
    },
    "papermill": {
     "duration": 0.053519,
     "end_time": "2021-01-19T12:17:51.739319",
     "exception": false,
     "start_time": "2021-01-19T12:17:51.685800",
     "status": "completed"
    },
    "tags": []
   },
   "outputs": [],
   "source": [
    "random.seed(0)\n",
    "train_data, test_data = train_test_split(full_data, 0.25)"
   ]
  },
  {
   "cell_type": "markdown",
   "metadata": {
    "papermill": {
     "duration": 0.039135,
     "end_time": "2021-01-19T12:17:51.819570",
     "exception": false,
     "start_time": "2021-01-19T12:17:51.780435",
     "status": "completed"
    },
    "tags": []
   },
   "source": [
    "**Data Visualization**"
   ]
  },
  {
   "cell_type": "code",
   "execution_count": 6,
   "metadata": {
    "execution": {
     "iopub.execute_input": "2021-01-19T12:17:51.907646Z",
     "iopub.status.busy": "2021-01-19T12:17:51.906960Z",
     "iopub.status.idle": "2021-01-19T12:17:52.346790Z",
     "shell.execute_reply": "2021-01-19T12:17:52.346243Z"
    },
    "papermill": {
     "duration": 0.486861,
     "end_time": "2021-01-19T12:17:52.346919",
     "exception": false,
     "start_time": "2021-01-19T12:17:51.860058",
     "status": "completed"
    },
    "tags": []
   },
   "outputs": [
    {
     "data": {
      "text/plain": [
       "<seaborn.axisgrid.FacetGrid at 0x7f5be72e8590>"
      ]
     },
     "execution_count": 6,
     "metadata": {},
     "output_type": "execute_result"
    },
    {
     "data": {
      "image/png": "[encoded data removed]",
      "text/plain": [
       "<Figure size 643.25x360 with 1 Axes>"
      ]
     },
     "metadata": {
      "needs_background": "light"
     },
     "output_type": "display_data"
    }
   ],
   "source": [
    "sns.lmplot(data=train_data, x='PetalWidthCm', y='PetalLengthCm', fit_reg=False, hue='label', height=5, aspect=1.5)"
   ]
  },
  {
   "cell_type": "markdown",
   "metadata": {
    "papermill": {
     "duration": 0.040564,
     "end_time": "2021-01-19T12:17:52.429421",
     "exception": false,
     "start_time": "2021-01-19T12:17:52.388857",
     "status": "completed"
    },
    "tags": []
   },
   "source": [
    "# Helper Functions\n",
    "\n",
    "This section will contain all the helper functions I will use to create my decision tree classifier. The idea of a decision tree is that on every node, the tree will split the data in a way that the two splitted dataset will have lowest entropy(meaning the data will be the purest) and finally predict the class of leaves. To achieve this, I need to first create some helper methods:\n",
    "\n",
    "* Check Purity: check if the data is now pure(having only one kind of label)\n",
    "* Predict Class: predict the class of current leaf(return which label is most frequent)\n",
    "* Get Potential Splits: get all the potential splits(every split inbetween every value for every column)\n",
    "* Get Best Split: get the best split that leads to the lowest entropy\n",
    "* Calculate Entropy: calculate the entropy"
   ]
  },
  {
   "cell_type": "markdown",
   "metadata": {
    "papermill": {
     "duration": 0.041992,
     "end_time": "2021-01-19T12:17:52.512164",
     "exception": false,
     "start_time": "2021-01-19T12:17:52.470172",
     "status": "completed"
    },
    "tags": []
   },
   "source": [
    "**Check Purity**\n",
    "\n",
    "This helper function will determine if the data in this node are pure, which means if they all belong to the same class."
   ]
  },
  {
   "cell_type": "code",
   "execution_count": 7,
   "metadata": {
    "execution": {
     "iopub.execute_input": "2021-01-19T12:17:52.599798Z",
     "iopub.status.busy": "2021-01-19T12:17:52.599105Z",
     "iopub.status.idle": "2021-01-19T12:17:52.602106Z",
     "shell.execute_reply": "2021-01-19T12:17:52.602598Z"
    },
    "papermill": {
     "duration": 0.049959,
     "end_time": "2021-01-19T12:17:52.602749",
     "exception": false,
     "start_time": "2021-01-19T12:17:52.552790",
     "status": "completed"
    },
    "tags": []
   },
   "outputs": [],
   "source": [
    "def check_purity(data):\n",
    "    label_col = data[:, -1]\n",
    "    return len(np.unique(label_col)) == 1"
   ]
  },
  {
   "cell_type": "markdown",
   "metadata": {
    "papermill": {
     "duration": 0.040435,
     "end_time": "2021-01-19T12:17:52.685487",
     "exception": false,
     "start_time": "2021-01-19T12:17:52.645052",
     "status": "completed"
    },
    "tags": []
   },
   "source": [
    "*Test*"
   ]
  },
  {
   "cell_type": "code",
   "execution_count": 8,
   "metadata": {
    "execution": {
     "iopub.execute_input": "2021-01-19T12:17:52.776883Z",
     "iopub.status.busy": "2021-01-19T12:17:52.775682Z",
     "iopub.status.idle": "2021-01-19T12:17:52.779286Z",
     "shell.execute_reply": "2021-01-19T12:17:52.779822Z"
    },
    "papermill": {
     "duration": 0.053464,
     "end_time": "2021-01-19T12:17:52.779963",
     "exception": false,
     "start_time": "2021-01-19T12:17:52.726499",
     "status": "completed"
    },
    "tags": []
   },
   "outputs": [
    {
     "data": {
      "text/plain": [
       "True"
      ]
     },
     "execution_count": 8,
     "metadata": {},
     "output_type": "execute_result"
    }
   ],
   "source": [
    "check_purity(train_data[train_data.PetalWidthCm < 0.8].values)"
   ]
  },
  {
   "cell_type": "code",
   "execution_count": 9,
   "metadata": {
    "execution": {
     "iopub.execute_input": "2021-01-19T12:17:52.870618Z",
     "iopub.status.busy": "2021-01-19T12:17:52.869408Z",
     "iopub.status.idle": "2021-01-19T12:17:52.874505Z",
     "shell.execute_reply": "2021-01-19T12:17:52.873828Z"
    },
    "papermill": {
     "duration": 0.053103,
     "end_time": "2021-01-19T12:17:52.874627",
     "exception": false,
     "start_time": "2021-01-19T12:17:52.821524",
     "status": "completed"
    },
    "tags": []
   },
   "outputs": [
    {
     "data": {
      "text/plain": [
       "False"
      ]
     },
     "execution_count": 9,
     "metadata": {},
     "output_type": "execute_result"
    }
   ],
   "source": [
    "check_purity(train_data[train_data.PetalWidthCm > 0.8].values)"
   ]
  },
  {
   "cell_type": "markdown",
   "metadata": {
    "papermill": {
     "duration": 0.043023,
     "end_time": "2021-01-19T12:17:52.960329",
     "exception": false,
     "start_time": "2021-01-19T12:17:52.917306",
     "status": "completed"
    },
    "tags": []
   },
   "source": [
    "**Preidct Class**\n",
    "\n",
    "This helper function will predict the label of this leaf based on the most frequent label"
   ]
  },
  {
   "cell_type": "code",
   "execution_count": 10,
   "metadata": {
    "execution": {
     "iopub.execute_input": "2021-01-19T12:17:53.050826Z",
     "iopub.status.busy": "2021-01-19T12:17:53.050090Z",
     "iopub.status.idle": "2021-01-19T12:17:53.054127Z",
     "shell.execute_reply": "2021-01-19T12:17:53.053480Z"
    },
    "papermill": {
     "duration": 0.05212,
     "end_time": "2021-01-19T12:17:53.054240",
     "exception": false,
     "start_time": "2021-01-19T12:17:53.002120",
     "status": "completed"
    },
    "tags": []
   },
   "outputs": [],
   "source": [
    "def predict_class(data):\n",
    "    label_col = data[:, -1]\n",
    "    classes, counts = np.unique(label_col,return_counts=True)\n",
    "    \n",
    "    return classes[np.argmax(counts)]"
   ]
  },
  {
   "cell_type": "markdown",
   "metadata": {
    "papermill": {
     "duration": 0.041426,
     "end_time": "2021-01-19T12:17:53.138731",
     "exception": false,
     "start_time": "2021-01-19T12:17:53.097305",
     "status": "completed"
    },
    "tags": []
   },
   "source": [
    "*Test*"
   ]
  },
  {
   "cell_type": "code",
   "execution_count": 11,
   "metadata": {
    "execution": {
     "iopub.execute_input": "2021-01-19T12:17:53.232476Z",
     "iopub.status.busy": "2021-01-19T12:17:53.231256Z",
     "iopub.status.idle": "2021-01-19T12:17:53.236159Z",
     "shell.execute_reply": "2021-01-19T12:17:53.235615Z"
    },
    "papermill": {
     "duration": 0.054434,
     "end_time": "2021-01-19T12:17:53.236283",
     "exception": false,
     "start_time": "2021-01-19T12:17:53.181849",
     "status": "completed"
    },
    "tags": []
   },
   "outputs": [
    {
     "data": {
      "text/plain": [
       "'Iris-setosa'"
      ]
     },
     "execution_count": 11,
     "metadata": {},
     "output_type": "execute_result"
    }
   ],
   "source": [
    "predict_class(train_data[train_data.PetalWidthCm < 0.8].values)"
   ]
  },
  {
   "cell_type": "code",
   "execution_count": 12,
   "metadata": {
    "execution": {
     "iopub.execute_input": "2021-01-19T12:17:53.330500Z",
     "iopub.status.busy": "2021-01-19T12:17:53.329402Z",
     "iopub.status.idle": "2021-01-19T12:17:53.337100Z",
     "shell.execute_reply": "2021-01-19T12:17:53.336158Z"
    },
    "papermill": {
     "duration": 0.057836,
     "end_time": "2021-01-19T12:17:53.337280",
     "exception": false,
     "start_time": "2021-01-19T12:17:53.279444",
     "status": "completed"
    },
    "tags": []
   },
   "outputs": [
    {
     "data": {
      "text/plain": [
       "'Iris-versicolor'"
      ]
     },
     "execution_count": 12,
     "metadata": {},
     "output_type": "execute_result"
    }
   ],
   "source": [
    "predict_class(train_data[(train_data.PetalWidthCm > 0.8) & (train_data.PetalWidthCm < 2)].values)"
   ]
  },
  {
   "cell_type": "code",
   "execution_count": 13,
   "metadata": {
    "execution": {
     "iopub.execute_input": "2021-01-19T12:17:53.451865Z",
     "iopub.status.busy": "2021-01-19T12:17:53.450767Z",
     "iopub.status.idle": "2021-01-19T12:17:53.456694Z",
     "shell.execute_reply": "2021-01-19T12:17:53.457649Z"
    },
    "papermill": {
     "duration": 0.065771,
     "end_time": "2021-01-19T12:17:53.457893",
     "exception": false,
     "start_time": "2021-01-19T12:17:53.392122",
     "status": "completed"
    },
    "tags": []
   },
   "outputs": [
    {
     "data": {
      "text/plain": [
       "'Iris-virginica'"
      ]
     },
     "execution_count": 13,
     "metadata": {},
     "output_type": "execute_result"
    }
   ],
   "source": [
    "predict_class(train_data[train_data.PetalWidthCm > 1.2].values)"
   ]
  },
  {
   "cell_type": "markdown",
   "metadata": {
    "papermill": {
     "duration": 0.044872,
     "end_time": "2021-01-19T12:17:53.554217",
     "exception": false,
     "start_time": "2021-01-19T12:17:53.509345",
     "status": "completed"
    },
    "tags": []
   },
   "source": [
    "**Get Potential Splits**\n",
    "\n",
    "This helper function will return all the possible splits for this tree. The possible splits are spliting between all the intervals between adjacent values in each column"
   ]
  },
  {
   "cell_type": "code",
   "execution_count": 14,
   "metadata": {
    "execution": {
     "iopub.execute_input": "2021-01-19T12:17:53.647496Z",
     "iopub.status.busy": "2021-01-19T12:17:53.646791Z",
     "iopub.status.idle": "2021-01-19T12:17:53.654980Z",
     "shell.execute_reply": "2021-01-19T12:17:53.655555Z"
    },
    "papermill": {
     "duration": 0.055809,
     "end_time": "2021-01-19T12:17:53.655704",
     "exception": false,
     "start_time": "2021-01-19T12:17:53.599895",
     "status": "completed"
    },
    "tags": []
   },
   "outputs": [],
   "source": [
    "def get_potential_splits(data):\n",
    "    potential_splits = {}\n",
    "    \n",
    "    columns = data.shape[1]\n",
    "    for col in range(columns-1):\n",
    "        potential_splits[col] = []\n",
    "        \n",
    "        values = data[:, col]\n",
    "        unique_values = np.unique(values)\n",
    "        \n",
    "        for index in range(len(unique_values)):\n",
    "            if index != 0:\n",
    "                cur_value = unique_values[index]\n",
    "                pre_value = unique_values[index - 1]\n",
    "                \n",
    "                potential_split = (cur_value + pre_value) / 2\n",
    "                potential_splits[col].append(potential_split)\n",
    "    \n",
    "    return potential_splits"
   ]
  },
  {
   "cell_type": "markdown",
   "metadata": {
    "papermill": {
     "duration": 0.043734,
     "end_time": "2021-01-19T12:17:53.742796",
     "exception": false,
     "start_time": "2021-01-19T12:17:53.699062",
     "status": "completed"
    },
    "tags": []
   },
   "source": [
    "*Test*"
   ]
  },
  {
   "cell_type": "code",
   "execution_count": 15,
   "metadata": {
    "execution": {
     "iopub.execute_input": "2021-01-19T12:17:53.835278Z",
     "iopub.status.busy": "2021-01-19T12:17:53.834521Z",
     "iopub.status.idle": "2021-01-19T12:17:53.839634Z",
     "shell.execute_reply": "2021-01-19T12:17:53.840182Z"
    },
    "papermill": {
     "duration": 0.053545,
     "end_time": "2021-01-19T12:17:53.840348",
     "exception": false,
     "start_time": "2021-01-19T12:17:53.786803",
     "status": "completed"
    },
    "tags": []
   },
   "outputs": [],
   "source": [
    "potential_splits = get_potential_splits(train_data.values)"
   ]
  },
  {
   "cell_type": "code",
   "execution_count": 16,
   "metadata": {
    "execution": {
     "iopub.execute_input": "2021-01-19T12:17:53.933806Z",
     "iopub.status.busy": "2021-01-19T12:17:53.932752Z",
     "iopub.status.idle": "2021-01-19T12:17:54.298909Z",
     "shell.execute_reply": "2021-01-19T12:17:54.298226Z"
    },
    "papermill": {
     "duration": 0.413913,
     "end_time": "2021-01-19T12:17:54.299022",
     "exception": false,
     "start_time": "2021-01-19T12:17:53.885109",
     "status": "completed"
    },
    "tags": []
   },
   "outputs": [
    {
     "data": {
      "text/plain": [
       "<matplotlib.collections.LineCollection at 0x7f5be4ffb050>"
      ]
     },
     "execution_count": 16,
     "metadata": {},
     "output_type": "execute_result"
    },
    {
     "data": {
      "image/png": "[encoded data removed]",
      "text/plain": [
       "<Figure size 643.25x360 with 1 Axes>"
      ]
     },
     "metadata": {
      "needs_background": "light"
     },
     "output_type": "display_data"
    }
   ],
   "source": [
    "sns.lmplot(data=train_data, x='PetalWidthCm', y='PetalLengthCm', fit_reg=False, hue='label', height=5, aspect=1.5)\n",
    "\n",
    "plt.vlines(x=potential_splits[3], ymin=1, ymax=7)"
   ]
  },
  {
   "cell_type": "code",
   "execution_count": 17,
   "metadata": {
    "execution": {
     "iopub.execute_input": "2021-01-19T12:17:54.407136Z",
     "iopub.status.busy": "2021-01-19T12:17:54.404452Z",
     "iopub.status.idle": "2021-01-19T12:17:54.745127Z",
     "shell.execute_reply": "2021-01-19T12:17:54.744596Z"
    },
    "papermill": {
     "duration": 0.400539,
     "end_time": "2021-01-19T12:17:54.745243",
     "exception": false,
     "start_time": "2021-01-19T12:17:54.344704",
     "status": "completed"
    },
    "tags": []
   },
   "outputs": [
    {
     "data": {
      "text/plain": [
       "<matplotlib.collections.LineCollection at 0x7f5be4ebc1d0>"
      ]
     },
     "execution_count": 17,
     "metadata": {},
     "output_type": "execute_result"
    },
    {
     "data": {
      "image/png": "[encoded data removed]",
      "text/plain": [
       "<Figure size 643.25x360 with 1 Axes>"
      ]
     },
     "metadata": {
      "needs_background": "light"
     },
     "output_type": "display_data"
    }
   ],
   "source": [
    "sns.lmplot(data=train_data, x='PetalWidthCm', y='PetalLengthCm', fit_reg=False, hue='label', height=5, aspect=1.5)\n",
    "\n",
    "plt.hlines(y=potential_splits[2], xmin=0, xmax=2.5)"
   ]
  },
  {
   "cell_type": "markdown",
   "metadata": {
    "papermill": {
     "duration": 0.046953,
     "end_time": "2021-01-19T12:17:54.839438",
     "exception": false,
     "start_time": "2021-01-19T12:17:54.792485",
     "status": "completed"
    },
    "tags": []
   },
   "source": [
    "**Split Data**\n",
    "\n",
    "This helper function will split the data based on the column to split and value to split and return the two subtrees"
   ]
  },
  {
   "cell_type": "code",
   "execution_count": 18,
   "metadata": {
    "execution": {
     "iopub.execute_input": "2021-01-19T12:17:54.941005Z",
     "iopub.status.busy": "2021-01-19T12:17:54.940289Z",
     "iopub.status.idle": "2021-01-19T12:17:54.943742Z",
     "shell.execute_reply": "2021-01-19T12:17:54.943204Z"
    },
    "papermill": {
     "duration": 0.056943,
     "end_time": "2021-01-19T12:17:54.943861",
     "exception": false,
     "start_time": "2021-01-19T12:17:54.886918",
     "status": "completed"
    },
    "tags": []
   },
   "outputs": [],
   "source": [
    "def split_data(data, split_column, split_value):\n",
    "    split_column_values = data[:, split_column]\n",
    "    data_below = data[split_column_values <= split_value]\n",
    "    data_above = data[split_column_values > split_value]\n",
    "    \n",
    "    return data_below, data_above"
   ]
  },
  {
   "cell_type": "markdown",
   "metadata": {
    "papermill": {
     "duration": 0.046307,
     "end_time": "2021-01-19T12:17:55.036750",
     "exception": false,
     "start_time": "2021-01-19T12:17:54.990443",
     "status": "completed"
    },
    "tags": []
   },
   "source": [
    "*Test*"
   ]
  },
  {
   "cell_type": "code",
   "execution_count": 19,
   "metadata": {
    "execution": {
     "iopub.execute_input": "2021-01-19T12:17:55.136902Z",
     "iopub.status.busy": "2021-01-19T12:17:55.136214Z",
     "iopub.status.idle": "2021-01-19T12:17:55.139949Z",
     "shell.execute_reply": "2021-01-19T12:17:55.139250Z"
    },
    "papermill": {
     "duration": 0.055914,
     "end_time": "2021-01-19T12:17:55.140066",
     "exception": false,
     "start_time": "2021-01-19T12:17:55.084152",
     "status": "completed"
    },
    "tags": []
   },
   "outputs": [],
   "source": [
    "data_below, data_above = split_data(train_data.values, 3, 0.8)"
   ]
  },
  {
   "cell_type": "code",
   "execution_count": 20,
   "metadata": {
    "execution": {
     "iopub.execute_input": "2021-01-19T12:17:55.247803Z",
     "iopub.status.busy": "2021-01-19T12:17:55.241834Z",
     "iopub.status.idle": "2021-01-19T12:17:55.472306Z",
     "shell.execute_reply": "2021-01-19T12:17:55.471634Z"
    },
    "papermill": {
     "duration": 0.285578,
     "end_time": "2021-01-19T12:17:55.472433",
     "exception": false,
     "start_time": "2021-01-19T12:17:55.186855",
     "status": "completed"
    },
    "tags": []
   },
   "outputs": [
    {
     "data": {
      "text/plain": [
       "(0.0, 2.6)"
      ]
     },
     "execution_count": 20,
     "metadata": {},
     "output_type": "execute_result"
    },
    {
     "data": {
      "image/png": "[encoded data removed]",
      "text/plain": [
       "<Figure size 540x360 with 1 Axes>"
      ]
     },
     "metadata": {
      "needs_background": "light"
     },
     "output_type": "display_data"
    }
   ],
   "source": [
    "plotting_data = pd.DataFrame(train_data, columns=train_data.columns)\n",
    "\n",
    "sns.lmplot(data=plotting_data, x='PetalWidthCm', y='PetalLengthCm', fit_reg=False, height=5, aspect=1.5)\n",
    "\n",
    "plt.vlines(x=0.8, ymin=1, ymax=7)\n",
    "plt.xlim(0, 2.6)"
   ]
  },
  {
   "cell_type": "code",
   "execution_count": 21,
   "metadata": {
    "execution": {
     "iopub.execute_input": "2021-01-19T12:17:55.585730Z",
     "iopub.status.busy": "2021-01-19T12:17:55.583537Z",
     "iopub.status.idle": "2021-01-19T12:17:55.815737Z",
     "shell.execute_reply": "2021-01-19T12:17:55.815010Z"
    },
    "papermill": {
     "duration": 0.295141,
     "end_time": "2021-01-19T12:17:55.815858",
     "exception": false,
     "start_time": "2021-01-19T12:17:55.520717",
     "status": "completed"
    },
    "tags": []
   },
   "outputs": [
    {
     "data": {
      "text/plain": [
       "(0.0, 2.6)"
      ]
     },
     "execution_count": 21,
     "metadata": {},
     "output_type": "execute_result"
    },
    {
     "data": {
      "image/png": "[encoded data removed]",
      "text/plain": [
       "<Figure size 540x360 with 1 Axes>"
      ]
     },
     "metadata": {
      "needs_background": "light"
     },
     "output_type": "display_data"
    }
   ],
   "source": [
    "plotting_data = pd.DataFrame(data_below, columns=train_data.columns)\n",
    "\n",
    "sns.lmplot(data=plotting_data, x='PetalWidthCm', y='PetalLengthCm', fit_reg=False, height=5, aspect=1.5)\n",
    "\n",
    "plt.vlines(x=0.8, ymin=1, ymax=7)\n",
    "plt.xlim(0, 2.6)"
   ]
  },
  {
   "cell_type": "code",
   "execution_count": 22,
   "metadata": {
    "execution": {
     "iopub.execute_input": "2021-01-19T12:17:56.035492Z",
     "iopub.status.busy": "2021-01-19T12:17:56.034200Z",
     "iopub.status.idle": "2021-01-19T12:17:56.275046Z",
     "shell.execute_reply": "2021-01-19T12:17:56.274486Z"
    },
    "papermill": {
     "duration": 0.410076,
     "end_time": "2021-01-19T12:17:56.275189",
     "exception": false,
     "start_time": "2021-01-19T12:17:55.865113",
     "status": "completed"
    },
    "tags": []
   },
   "outputs": [
    {
     "data": {
      "text/plain": [
       "(0.0, 2.6)"
      ]
     },
     "execution_count": 22,
     "metadata": {},
     "output_type": "execute_result"
    },
    {
     "data": {
      "image/png": "[encoded data removed]",
      "text/plain": [
       "<Figure size 540x360 with 1 Axes>"
      ]
     },
     "metadata": {
      "needs_background": "light"
     },
     "output_type": "display_data"
    }
   ],
   "source": [
    "plotting_data = pd.DataFrame(data_above, columns=train_data.columns)\n",
    "\n",
    "sns.lmplot(data=plotting_data, x='PetalWidthCm', y='PetalLengthCm', fit_reg=False, height=5, aspect=1.5)\n",
    "\n",
    "plt.vlines(x=0.8, ymin=1, ymax=7)\n",
    "plt.xlim(0, 2.6)"
   ]
  },
  {
   "cell_type": "markdown",
   "metadata": {
    "papermill": {
     "duration": 0.049913,
     "end_time": "2021-01-19T12:17:56.376054",
     "exception": false,
     "start_time": "2021-01-19T12:17:56.326141",
     "status": "completed"
    },
    "tags": []
   },
   "source": [
    "**Calculate Entropy**\n",
    "\n",
    "This helper function will calculate the entropy of current node. "
   ]
  },
  {
   "cell_type": "code",
   "execution_count": 23,
   "metadata": {
    "execution": {
     "iopub.execute_input": "2021-01-19T12:17:56.486412Z",
     "iopub.status.busy": "2021-01-19T12:17:56.485691Z",
     "iopub.status.idle": "2021-01-19T12:17:56.488693Z",
     "shell.execute_reply": "2021-01-19T12:17:56.488022Z"
    },
    "papermill": {
     "duration": 0.060745,
     "end_time": "2021-01-19T12:17:56.488809",
     "exception": false,
     "start_time": "2021-01-19T12:17:56.428064",
     "status": "completed"
    },
    "tags": []
   },
   "outputs": [],
   "source": [
    "def calculate_entropy(data):\n",
    "    label_col = data[:, -1]\n",
    "    counts = np.unique(label_col, return_counts=True)[1]\n",
    "    \n",
    "    probabilities = counts / counts.sum()\n",
    "    entropy = sum(probabilities * -np.log2(probabilities))\n",
    "    \n",
    "    return entropy"
   ]
  },
  {
   "cell_type": "markdown",
   "metadata": {
    "papermill": {
     "duration": 0.05107,
     "end_time": "2021-01-19T12:17:56.590649",
     "exception": false,
     "start_time": "2021-01-19T12:17:56.539579",
     "status": "completed"
    },
    "tags": []
   },
   "source": [
    "*Test*"
   ]
  },
  {
   "cell_type": "code",
   "execution_count": 24,
   "metadata": {
    "execution": {
     "iopub.execute_input": "2021-01-19T12:17:56.699247Z",
     "iopub.status.busy": "2021-01-19T12:17:56.698525Z",
     "iopub.status.idle": "2021-01-19T12:17:56.701959Z",
     "shell.execute_reply": "2021-01-19T12:17:56.702505Z"
    },
    "papermill": {
     "duration": 0.060679,
     "end_time": "2021-01-19T12:17:56.702722",
     "exception": false,
     "start_time": "2021-01-19T12:17:56.642043",
     "status": "completed"
    },
    "tags": []
   },
   "outputs": [
    {
     "data": {
      "text/plain": [
       "0.0"
      ]
     },
     "execution_count": 24,
     "metadata": {},
     "output_type": "execute_result"
    }
   ],
   "source": [
    "calculate_entropy(data_below)"
   ]
  },
  {
   "cell_type": "code",
   "execution_count": 25,
   "metadata": {
    "execution": {
     "iopub.execute_input": "2021-01-19T12:17:56.808412Z",
     "iopub.status.busy": "2021-01-19T12:17:56.807749Z",
     "iopub.status.idle": "2021-01-19T12:17:56.813929Z",
     "shell.execute_reply": "2021-01-19T12:17:56.813415Z"
    },
    "papermill": {
     "duration": 0.05994,
     "end_time": "2021-01-19T12:17:56.814052",
     "exception": false,
     "start_time": "2021-01-19T12:17:56.754112",
     "status": "completed"
    },
    "tags": []
   },
   "outputs": [
    {
     "data": {
      "text/plain": [
       "0.9987813930727558"
      ]
     },
     "execution_count": 25,
     "metadata": {},
     "output_type": "execute_result"
    }
   ],
   "source": [
    "calculate_entropy(data_above)"
   ]
  },
  {
   "cell_type": "markdown",
   "metadata": {
    "papermill": {
     "duration": 0.051328,
     "end_time": "2021-01-19T12:17:56.916330",
     "exception": false,
     "start_time": "2021-01-19T12:17:56.865002",
     "status": "completed"
    },
    "tags": []
   },
   "source": [
    "**Calculate Overall Entropy**\n",
    "\n",
    "This helper function will calculate the overall entropy of the two subnodes of a node"
   ]
  },
  {
   "cell_type": "code",
   "execution_count": 26,
   "metadata": {
    "execution": {
     "iopub.execute_input": "2021-01-19T12:17:57.027207Z",
     "iopub.status.busy": "2021-01-19T12:17:57.026417Z",
     "iopub.status.idle": "2021-01-19T12:17:57.028671Z",
     "shell.execute_reply": "2021-01-19T12:17:57.029138Z"
    },
    "papermill": {
     "duration": 0.061004,
     "end_time": "2021-01-19T12:17:57.029286",
     "exception": false,
     "start_time": "2021-01-19T12:17:56.968282",
     "status": "completed"
    },
    "tags": []
   },
   "outputs": [],
   "source": [
    "def calculate_overall_entropy(data_below, data_above):\n",
    "    n_data_points = len(data_below) + len(data_above)\n",
    "    \n",
    "    p_data_below = len(data_below) / n_data_points\n",
    "    p_data_above = len(data_above) / n_data_points\n",
    "    \n",
    "    overall_entropy = (p_data_below * calculate_entropy(data_below)) + (p_data_above * calculate_entropy(data_above))\n",
    "    \n",
    "    return overall_entropy"
   ]
  },
  {
   "cell_type": "markdown",
   "metadata": {
    "papermill": {
     "duration": 0.051451,
     "end_time": "2021-01-19T12:17:57.133916",
     "exception": false,
     "start_time": "2021-01-19T12:17:57.082465",
     "status": "completed"
    },
    "tags": []
   },
   "source": [
    "*Test*"
   ]
  },
  {
   "cell_type": "code",
   "execution_count": 27,
   "metadata": {
    "execution": {
     "iopub.execute_input": "2021-01-19T12:17:57.240272Z",
     "iopub.status.busy": "2021-01-19T12:17:57.239603Z",
     "iopub.status.idle": "2021-01-19T12:17:57.245991Z",
     "shell.execute_reply": "2021-01-19T12:17:57.245359Z"
    },
    "papermill": {
     "duration": 0.060953,
     "end_time": "2021-01-19T12:17:57.246110",
     "exception": false,
     "start_time": "2021-01-19T12:17:57.185157",
     "status": "completed"
    },
    "tags": []
   },
   "outputs": [
    {
     "data": {
      "text/plain": [
       "0.6509914436992069"
      ]
     },
     "execution_count": 27,
     "metadata": {},
     "output_type": "execute_result"
    }
   ],
   "source": [
    "calculate_overall_entropy(data_below, data_above)"
   ]
  },
  {
   "cell_type": "markdown",
   "metadata": {
    "papermill": {
     "duration": 0.051543,
     "end_time": "2021-01-19T12:17:57.350080",
     "exception": false,
     "start_time": "2021-01-19T12:17:57.298537",
     "status": "completed"
    },
    "tags": []
   },
   "source": [
    "**Determin Best Split**\n",
    "\n",
    "This helper function will determine the best split of a node based on all potential splits. The best split is the one that leads to the lowest overall entropy of the two subnodes."
   ]
  },
  {
   "cell_type": "code",
   "execution_count": 28,
   "metadata": {
    "execution": {
     "iopub.execute_input": "2021-01-19T12:17:57.465691Z",
     "iopub.status.busy": "2021-01-19T12:17:57.464783Z",
     "iopub.status.idle": "2021-01-19T12:17:57.467849Z",
     "shell.execute_reply": "2021-01-19T12:17:57.467294Z"
    },
    "papermill": {
     "duration": 0.064305,
     "end_time": "2021-01-19T12:17:57.468000",
     "exception": false,
     "start_time": "2021-01-19T12:17:57.403695",
     "status": "completed"
    },
    "tags": []
   },
   "outputs": [],
   "source": [
    "def determine_best_split(data, potential_splits):\n",
    "    overall_entropy = 999\n",
    "    potential_splits = get_potential_splits(data)\n",
    "    \n",
    "    for col in potential_splits:\n",
    "        for val in potential_splits[col]:\n",
    "            data_below, data_above = split_data(data, split_column=col, split_value=val)\n",
    "            temp_entropy = calculate_overall_entropy(data_below, data_above)\n",
    "            \n",
    "            if temp_entropy <= overall_entropy:\n",
    "                overall_entropy = temp_entropy\n",
    "                best_split_col = col\n",
    "                best_split_val = val\n",
    "                \n",
    "    return best_split_col, best_split_val"
   ]
  },
  {
   "cell_type": "markdown",
   "metadata": {
    "papermill": {
     "duration": 0.052139,
     "end_time": "2021-01-19T12:17:57.572360",
     "exception": false,
     "start_time": "2021-01-19T12:17:57.520221",
     "status": "completed"
    },
    "tags": []
   },
   "source": [
    "*Test*"
   ]
  },
  {
   "cell_type": "code",
   "execution_count": 29,
   "metadata": {
    "execution": {
     "iopub.execute_input": "2021-01-19T12:17:57.687487Z",
     "iopub.status.busy": "2021-01-19T12:17:57.686726Z",
     "iopub.status.idle": "2021-01-19T12:17:57.709412Z",
     "shell.execute_reply": "2021-01-19T12:17:57.709945Z"
    },
    "papermill": {
     "duration": 0.083238,
     "end_time": "2021-01-19T12:17:57.710083",
     "exception": false,
     "start_time": "2021-01-19T12:17:57.626845",
     "status": "completed"
    },
    "tags": []
   },
   "outputs": [
    {
     "data": {
      "text/plain": [
       "(3, 0.8)"
      ]
     },
     "execution_count": 29,
     "metadata": {},
     "output_type": "execute_result"
    }
   ],
   "source": [
    "determine_best_split(train_data.values, get_potential_splits(train_data.values))"
   ]
  },
  {
   "cell_type": "markdown",
   "metadata": {
    "papermill": {
     "duration": 0.052449,
     "end_time": "2021-01-19T12:17:57.816646",
     "exception": false,
     "start_time": "2021-01-19T12:17:57.764197",
     "status": "completed"
    },
    "tags": []
   },
   "source": [
    "# Main Algorithm\n",
    "\n",
    "In this section, I will combine all the helper functions to create the final decision tree model. Specifically, I will make a recursive decision tree algorithm that will split the data based on best split until at least one of the three following conditions is met:\n",
    "\n",
    "* All samples on the leaf are belong to the same class\n",
    "* the leaf has only 2 or less samples\n",
    "* the depth of the tree is 5\n",
    "\n",
    "If one of these condition is met, the algorithm will predict the class based on the most frequent class label on the leaf"
   ]
  },
  {
   "cell_type": "code",
   "execution_count": 30,
   "metadata": {
    "execution": {
     "iopub.execute_input": "2021-01-19T12:17:57.926211Z",
     "iopub.status.busy": "2021-01-19T12:17:57.925539Z",
     "iopub.status.idle": "2021-01-19T12:17:57.937180Z",
     "shell.execute_reply": "2021-01-19T12:17:57.937753Z"
    },
    "papermill": {
     "duration": 0.068791,
     "end_time": "2021-01-19T12:17:57.937901",
     "exception": false,
     "start_time": "2021-01-19T12:17:57.869110",
     "status": "completed"
    },
    "tags": []
   },
   "outputs": [],
   "source": [
    "def decision_tree_algo(df, depth=0, min_samples_leaf=2, max_depth=5):\n",
    "    if depth == 0:\n",
    "        global col_headers\n",
    "        data = df.values\n",
    "        col_headers = df.columns\n",
    "    else:\n",
    "        data = df\n",
    "    \n",
    "    if (check_purity(data)) or (len(data) < min_samples_leaf) or (depth == max_depth):\n",
    "        return predict_class(data)\n",
    "    else:\n",
    "        depth += 1\n",
    "        \n",
    "        potential_splits = get_potential_splits(data)\n",
    "        split_col, split_val = determine_best_split(data, potential_splits)\n",
    "        data_below, data_above = split_data(data, split_col, split_val)\n",
    "        \n",
    "        feature_name = col_headers[split_col]\n",
    "        question = \"{} <= {}\".format(feature_name, split_val)\n",
    "        sub_tree = {question: []}\n",
    "        \n",
    "        yes_answer = decision_tree_algo(data_below, depth, min_samples_leaf, max_depth)\n",
    "        no_answer = decision_tree_algo(data_above, depth, min_samples_leaf, max_depth)\n",
    "        \n",
    "        if yes_answer == no_answer:\n",
    "            sub_tree = yes_answer\n",
    "        else:\n",
    "            sub_tree[question].append(yes_answer)\n",
    "            sub_tree[question].append(no_answer)\n",
    "            \n",
    "        return sub_tree"
   ]
  },
  {
   "cell_type": "markdown",
   "metadata": {
    "papermill": {
     "duration": 0.053504,
     "end_time": "2021-01-19T12:17:58.044778",
     "exception": false,
     "start_time": "2021-01-19T12:17:57.991274",
     "status": "completed"
    },
    "tags": []
   },
   "source": [
    "*Test*"
   ]
  },
  {
   "cell_type": "code",
   "execution_count": 31,
   "metadata": {
    "execution": {
     "iopub.execute_input": "2021-01-19T12:17:58.158015Z",
     "iopub.status.busy": "2021-01-19T12:17:58.157397Z",
     "iopub.status.idle": "2021-01-19T12:17:58.205620Z",
     "shell.execute_reply": "2021-01-19T12:17:58.204929Z"
    },
    "papermill": {
     "duration": 0.105178,
     "end_time": "2021-01-19T12:17:58.205788",
     "exception": false,
     "start_time": "2021-01-19T12:17:58.100610",
     "status": "completed"
    },
    "tags": []
   },
   "outputs": [
    {
     "name": "stdout",
     "output_type": "stream",
     "text": [
      "{'PetalWidthCm <= 0.8': ['Iris-setosa',\n",
      "                         {'PetalWidthCm <= 1.65': [{'PetalLengthCm <= 4.95': ['Iris-versicolor',\n",
      "                                                                              'Iris-virginica']},\n",
      "                                                   'Iris-virginica']}]}\n"
     ]
    }
   ],
   "source": [
    "tree = decision_tree_algo(train_data, min_samples_leaf=2, max_depth=3)\n",
    "pprint(tree)"
   ]
  },
  {
   "cell_type": "markdown",
   "metadata": {
    "papermill": {
     "duration": 0.053621,
     "end_time": "2021-01-19T12:17:58.314295",
     "exception": false,
     "start_time": "2021-01-19T12:17:58.260674",
     "status": "completed"
    },
    "tags": []
   },
   "source": [
    "# Classification"
   ]
  },
  {
   "cell_type": "code",
   "execution_count": 32,
   "metadata": {
    "execution": {
     "iopub.execute_input": "2021-01-19T12:17:58.426006Z",
     "iopub.status.busy": "2021-01-19T12:17:58.425017Z",
     "iopub.status.idle": "2021-01-19T12:17:58.432962Z",
     "shell.execute_reply": "2021-01-19T12:17:58.433504Z"
    },
    "papermill": {
     "duration": 0.066189,
     "end_time": "2021-01-19T12:17:58.433670",
     "exception": false,
     "start_time": "2021-01-19T12:17:58.367481",
     "status": "completed"
    },
    "tags": []
   },
   "outputs": [],
   "source": [
    "def classify_example(example, tree):\n",
    "    question = list(tree.keys())[0]\n",
    "    feature_name, operator, value = question.split()\n",
    "    \n",
    "    if example[feature_name] <= float(value):\n",
    "        answer = tree[question][0]\n",
    "    else:\n",
    "        answer = tree[question][1]\n",
    "        \n",
    "    if not isinstance(answer, dict):\n",
    "        return answer\n",
    "    else:\n",
    "        return classify_example(example, answer)"
   ]
  },
  {
   "cell_type": "code",
   "execution_count": 33,
   "metadata": {
    "execution": {
     "iopub.execute_input": "2021-01-19T12:17:58.546452Z",
     "iopub.status.busy": "2021-01-19T12:17:58.545411Z",
     "iopub.status.idle": "2021-01-19T12:17:58.553009Z",
     "shell.execute_reply": "2021-01-19T12:17:58.553504Z"
    },
    "papermill": {
     "duration": 0.065347,
     "end_time": "2021-01-19T12:17:58.553657",
     "exception": false,
     "start_time": "2021-01-19T12:17:58.488310",
     "status": "completed"
    },
    "tags": []
   },
   "outputs": [
    {
     "data": {
      "text/plain": [
       "SepalLengthCm                5.1\n",
       "SepalWidthCm                 2.5\n",
       "PetalLengthCm                  3\n",
       "PetalWidthCm                 1.1\n",
       "label            Iris-versicolor\n",
       "Name: 98, dtype: object"
      ]
     },
     "execution_count": 33,
     "metadata": {},
     "output_type": "execute_result"
    }
   ],
   "source": [
    "example = test_data.iloc[0]\n",
    "example"
   ]
  },
  {
   "cell_type": "code",
   "execution_count": 34,
   "metadata": {
    "execution": {
     "iopub.execute_input": "2021-01-19T12:17:58.669035Z",
     "iopub.status.busy": "2021-01-19T12:17:58.668026Z",
     "iopub.status.idle": "2021-01-19T12:17:58.674978Z",
     "shell.execute_reply": "2021-01-19T12:17:58.674344Z"
    },
    "papermill": {
     "duration": 0.064166,
     "end_time": "2021-01-19T12:17:58.675089",
     "exception": false,
     "start_time": "2021-01-19T12:17:58.610923",
     "status": "completed"
    },
    "tags": []
   },
   "outputs": [
    {
     "data": {
      "text/plain": [
       "'Iris-versicolor'"
      ]
     },
     "execution_count": 34,
     "metadata": {},
     "output_type": "execute_result"
    }
   ],
   "source": [
    "classify_example(example, tree)"
   ]
  },
  {
   "cell_type": "code",
   "execution_count": 35,
   "metadata": {
    "execution": {
     "iopub.execute_input": "2021-01-19T12:17:58.791817Z",
     "iopub.status.busy": "2021-01-19T12:17:58.791126Z",
     "iopub.status.idle": "2021-01-19T12:17:58.794044Z",
     "shell.execute_reply": "2021-01-19T12:17:58.794516Z"
    },
    "papermill": {
     "duration": 0.06475,
     "end_time": "2021-01-19T12:17:58.794662",
     "exception": false,
     "start_time": "2021-01-19T12:17:58.729912",
     "status": "completed"
    },
    "tags": []
   },
   "outputs": [
    {
     "data": {
      "text/plain": [
       "SepalLengthCm            4.8\n",
       "SepalWidthCm             3.4\n",
       "PetalLengthCm            1.9\n",
       "PetalWidthCm             0.2\n",
       "label            Iris-setosa\n",
       "Name: 24, dtype: object"
      ]
     },
     "execution_count": 35,
     "metadata": {},
     "output_type": "execute_result"
    }
   ],
   "source": [
    "example2 = test_data.iloc[15]\n",
    "example2"
   ]
  },
  {
   "cell_type": "code",
   "execution_count": 36,
   "metadata": {
    "execution": {
     "iopub.execute_input": "2021-01-19T12:17:58.908332Z",
     "iopub.status.busy": "2021-01-19T12:17:58.907683Z",
     "iopub.status.idle": "2021-01-19T12:17:58.912114Z",
     "shell.execute_reply": "2021-01-19T12:17:58.912593Z"
    },
    "papermill": {
     "duration": 0.063123,
     "end_time": "2021-01-19T12:17:58.912738",
     "exception": false,
     "start_time": "2021-01-19T12:17:58.849615",
     "status": "completed"
    },
    "tags": []
   },
   "outputs": [
    {
     "data": {
      "text/plain": [
       "'Iris-setosa'"
      ]
     },
     "execution_count": 36,
     "metadata": {},
     "output_type": "execute_result"
    }
   ],
   "source": [
    "classify_example(example2, tree)"
   ]
  },
  {
   "cell_type": "markdown",
   "metadata": {
    "papermill": {
     "duration": 0.054992,
     "end_time": "2021-01-19T12:17:59.023492",
     "exception": false,
     "start_time": "2021-01-19T12:17:58.968500",
     "status": "completed"
    },
    "tags": []
   },
   "source": [
    "# Accuracy\n",
    "\n",
    "The accuracy shows that our decision tree model has the exact same test set accuracy as the sci-kit learn built-in decision tree model, which shows that our implementation is successful."
   ]
  },
  {
   "cell_type": "code",
   "execution_count": 37,
   "metadata": {
    "execution": {
     "iopub.execute_input": "2021-01-19T12:17:59.137331Z",
     "iopub.status.busy": "2021-01-19T12:17:59.136680Z",
     "iopub.status.idle": "2021-01-19T12:17:59.142223Z",
     "shell.execute_reply": "2021-01-19T12:17:59.142867Z"
    },
    "papermill": {
     "duration": 0.064397,
     "end_time": "2021-01-19T12:17:59.143040",
     "exception": false,
     "start_time": "2021-01-19T12:17:59.078643",
     "status": "completed"
    },
    "tags": []
   },
   "outputs": [],
   "source": [
    "def calculate_accuracy(df, tree):\n",
    "    df['prediction'] = df.apply(classify_example, axis=1, args=(tree,))\n",
    "    df['prediction_correct'] = df.prediction == df.label\n",
    "    \n",
    "    accuracy = df.prediction_correct.mean()\n",
    "    return accuracy"
   ]
  },
  {
   "cell_type": "code",
   "execution_count": 38,
   "metadata": {
    "execution": {
     "iopub.execute_input": "2021-01-19T12:17:59.259673Z",
     "iopub.status.busy": "2021-01-19T12:17:59.258963Z",
     "iopub.status.idle": "2021-01-19T12:17:59.272078Z",
     "shell.execute_reply": "2021-01-19T12:17:59.272622Z"
    },
    "papermill": {
     "duration": 0.073059,
     "end_time": "2021-01-19T12:17:59.272786",
     "exception": false,
     "start_time": "2021-01-19T12:17:59.199727",
     "status": "completed"
    },
    "tags": []
   },
   "outputs": [
    {
     "data": {
      "text/plain": [
       "0.9473684210526315"
      ]
     },
     "execution_count": 38,
     "metadata": {},
     "output_type": "execute_result"
    }
   ],
   "source": [
    "calculate_accuracy(test_data, tree)"
   ]
  },
  {
   "cell_type": "code",
   "execution_count": 39,
   "metadata": {
    "execution": {
     "iopub.execute_input": "2021-01-19T12:17:59.398659Z",
     "iopub.status.busy": "2021-01-19T12:17:59.397896Z",
     "iopub.status.idle": "2021-01-19T12:17:59.802280Z",
     "shell.execute_reply": "2021-01-19T12:17:59.801698Z"
    },
    "papermill": {
     "duration": 0.470753,
     "end_time": "2021-01-19T12:17:59.802423",
     "exception": false,
     "start_time": "2021-01-19T12:17:59.331670",
     "status": "completed"
    },
    "tags": []
   },
   "outputs": [
    {
     "name": "stdout",
     "output_type": "stream",
     "text": [
      "0.9473684210526315\n"
     ]
    }
   ],
   "source": [
    "from sklearn.tree import DecisionTreeClassifier\n",
    "from sklearn.metrics import accuracy_score\n",
    "\n",
    "\n",
    "test_data = test_data.drop(['prediction', 'prediction_correct'], axis=1)\n",
    "\n",
    "decision_model = DecisionTreeClassifier(criterion='entropy', min_samples_leaf=2, max_depth=3)\n",
    "decision_model.fit(train_data.drop('label', axis=1), train_data['label'])\n",
    "\n",
    "y_pred = decision_model.predict(test_data.drop('label', axis=1))\n",
    "print(accuracy_score(test_data['label'], y_pred))"
   ]
  },
  {
   "cell_type": "markdown",
   "metadata": {
    "papermill": {
     "duration": 0.058033,
     "end_time": "2021-01-19T12:17:59.917914",
     "exception": false,
     "start_time": "2021-01-19T12:17:59.859881",
     "status": "completed"
    },
    "tags": []
   },
   "source": [
    "# Tree Model\n",
    "\n",
    "In this section I compare the structure of our decision tree and the scikit-learn decision tree. The two shows that our model learns the exact same splits as the sci-kit learn decision tree."
   ]
  },
  {
   "cell_type": "code",
   "execution_count": 40,
   "metadata": {
    "execution": {
     "iopub.execute_input": "2021-01-19T12:18:00.038222Z",
     "iopub.status.busy": "2021-01-19T12:18:00.037558Z",
     "iopub.status.idle": "2021-01-19T12:18:00.040887Z",
     "shell.execute_reply": "2021-01-19T12:18:00.040240Z"
    },
    "papermill": {
     "duration": 0.066026,
     "end_time": "2021-01-19T12:18:00.040997",
     "exception": false,
     "start_time": "2021-01-19T12:17:59.974971",
     "status": "completed"
    },
    "tags": []
   },
   "outputs": [
    {
     "name": "stdout",
     "output_type": "stream",
     "text": [
      "{'PetalWidthCm <= 0.8': ['Iris-setosa',\n",
      "                         {'PetalWidthCm <= 1.65': [{'PetalLengthCm <= 4.95': ['Iris-versicolor',\n",
      "                                                                              'Iris-virginica']},\n",
      "                                                   'Iris-virginica']}]}\n"
     ]
    }
   ],
   "source": [
    "pprint(tree)"
   ]
  },
  {
   "cell_type": "code",
   "execution_count": 41,
   "metadata": {
    "execution": {
     "iopub.execute_input": "2021-01-19T12:18:00.193856Z",
     "iopub.status.busy": "2021-01-19T12:18:00.192930Z",
     "iopub.status.idle": "2021-01-19T12:18:00.582228Z",
     "shell.execute_reply": "2021-01-19T12:18:00.582770Z"
    },
    "papermill": {
     "duration": 0.476852,
     "end_time": "2021-01-19T12:18:00.582913",
     "exception": false,
     "start_time": "2021-01-19T12:18:00.106061",
     "status": "completed"
    },
    "tags": []
   },
   "outputs": [
    {
     "data": {
      "image/png": "[encoded data removed]",
      "text/plain": [
       "<Figure size 1080x1440 with 1 Axes>"
      ]
     },
     "metadata": {
      "needs_background": "light"
     },
     "output_type": "display_data"
    }
   ],
   "source": [
    "from sklearn import tree\n",
    "\n",
    "plt.figure(figsize=(15,20))\n",
    "tree.plot_tree(decision_model, feature_names=test_data.drop('label', axis=1).columns, class_names=('iris_setosa', 'iris_versicolor', 'iris_virginica'))\n",
    "plt.show()"
   ]
  },
  {
   "cell_type": "code",
   "execution_count": null,
   "metadata": {
    "papermill": {
     "duration": 0.062185,
     "end_time": "2021-01-19T12:18:00.706895",
     "exception": false,
     "start_time": "2021-01-19T12:18:00.644710",
     "status": "completed"
    },
    "tags": []
   },
   "outputs": [],
   "source": []
  }
 ],
 "metadata": {
  "kernelspec": {
   "display_name": "Python 3",
   "language": "python",
   "name": "python3"
  },
  "language_info": {
   "codemirror_mode": {
    "name": "ipython",
    "version": 3
   },
   "file_extension": ".py",
   "mimetype": "text/x-python",
   "name": "python",
   "nbconvert_exporter": "python",
   "pygments_lexer": "ipython3",
   "version": "3.7.6"
  },
  "papermill": {
   "duration": 16.606732,
   "end_time": "2021-01-19T12:18:00.877178",
   "environment_variables": {},
   "exception": null,
   "input_path": "__notebook__.ipynb",
   "output_path": "__notebook__.ipynb",
   "parameters": {},
   "start_time": "2021-01-19T12:17:44.270446",
   "version": "2.1.0"
  }
 },
 "nbformat": 4,
 "nbformat_minor": 4
}
