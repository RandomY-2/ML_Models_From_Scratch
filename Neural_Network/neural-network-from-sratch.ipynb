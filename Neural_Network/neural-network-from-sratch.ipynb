{
 "cells": [
  {
   "cell_type": "code",
   "execution_count": 1,
   "metadata": {
    "_cell_guid": "b1076dfc-b9ad-4769-8c92-a6c4dae69d19",
    "_uuid": "8f2839f25d086af736a60e9eeb907d3b93b6e0e5",
    "execution": {
     "iopub.execute_input": "2021-02-10T12:44:57.534549Z",
     "iopub.status.busy": "2021-02-10T12:44:57.533594Z",
     "iopub.status.idle": "2021-02-10T12:44:57.546079Z",
     "shell.execute_reply": "2021-02-10T12:44:57.546745Z"
    },
    "papermill": {
     "duration": 0.026836,
     "end_time": "2021-02-10T12:44:57.547209",
     "exception": false,
     "start_time": "2021-02-10T12:44:57.520373",
     "status": "completed"
    },
    "tags": []
   },
   "outputs": [
    {
     "name": "stdout",
     "output_type": "stream",
     "text": [
      "/kaggle/input/iris/Iris.csv\n",
      "/kaggle/input/iris/database.sqlite\n"
     ]
    }
   ],
   "source": [
    "# This Python 3 environment comes with many helpful analytics libraries installed\n",
    "# It is defined by the kaggle/python Docker image: https://github.com/kaggle/docker-python\n",
    "# For example, here's several helpful packages to load\n",
    "\n",
    "import numpy as np # linear algebra\n",
    "import pandas as pd # data processing, CSV file I/O (e.g. pd.read_csv)\n",
    "\n",
    "# Input data files are available in the read-only \"../input/\" directory\n",
    "# For example, running this (by clicking run or pressing Shift+Enter) will list all files under the input directory\n",
    "\n",
    "import os\n",
    "for dirname, _, filenames in os.walk('/kaggle/input'):\n",
    "    for filename in filenames:\n",
    "        print(os.path.join(dirname, filename))\n",
    "\n",
    "# You can write up to 20GB to the current directory (/kaggle/working/) that gets preserved as output when you create a version using \"Save & Run All\" \n",
    "# You can also write temporary files to /kaggle/temp/, but they won't be saved outside of the current session"
   ]
  },
  {
   "cell_type": "code",
   "execution_count": 2,
   "metadata": {
    "execution": {
     "iopub.execute_input": "2021-02-10T12:44:57.571610Z",
     "iopub.status.busy": "2021-02-10T12:44:57.571005Z",
     "iopub.status.idle": "2021-02-10T12:44:57.587052Z",
     "shell.execute_reply": "2021-02-10T12:44:57.586322Z"
    },
    "papermill": {
     "duration": 0.028103,
     "end_time": "2021-02-10T12:44:57.587201",
     "exception": false,
     "start_time": "2021-02-10T12:44:57.559098",
     "status": "completed"
    },
    "tags": []
   },
   "outputs": [],
   "source": [
    "full_data = pd.read_csv('/kaggle/input/iris/Iris.csv')"
   ]
  },
  {
   "cell_type": "code",
   "execution_count": 3,
   "metadata": {
    "execution": {
     "iopub.execute_input": "2021-02-10T12:44:57.614062Z",
     "iopub.status.busy": "2021-02-10T12:44:57.613093Z",
     "iopub.status.idle": "2021-02-10T12:44:57.617503Z",
     "shell.execute_reply": "2021-02-10T12:44:57.617043Z"
    },
    "papermill": {
     "duration": 0.020681,
     "end_time": "2021-02-10T12:44:57.617632",
     "exception": false,
     "start_time": "2021-02-10T12:44:57.596951",
     "status": "completed"
    },
    "tags": []
   },
   "outputs": [
    {
     "data": {
      "text/plain": [
       "Index(['Id', 'SepalLengthCm', 'SepalWidthCm', 'PetalLengthCm', 'PetalWidthCm',\n",
       "       'Species'],\n",
       "      dtype='object')"
      ]
     },
     "execution_count": 3,
     "metadata": {},
     "output_type": "execute_result"
    }
   ],
   "source": [
    "full_data.columns"
   ]
  },
  {
   "cell_type": "code",
   "execution_count": 4,
   "metadata": {
    "execution": {
     "iopub.execute_input": "2021-02-10T12:44:57.640977Z",
     "iopub.status.busy": "2021-02-10T12:44:57.640076Z",
     "iopub.status.idle": "2021-02-10T12:44:58.505236Z",
     "shell.execute_reply": "2021-02-10T12:44:58.504000Z"
    },
    "papermill": {
     "duration": 0.877943,
     "end_time": "2021-02-10T12:44:58.505395",
     "exception": false,
     "start_time": "2021-02-10T12:44:57.627452",
     "status": "completed"
    },
    "tags": []
   },
   "outputs": [],
   "source": [
    "from sklearn.model_selection import train_test_split\n",
    "\n",
    "y = pd.get_dummies(full_data['Species']).values\n",
    "X = full_data.drop(['Id', 'Species'], axis=1).values\n",
    "\n",
    "X_train, X_test, y_train, y_test = train_test_split(X, y, test_size=0.25, random_state=42)"
   ]
  },
  {
   "cell_type": "markdown",
   "metadata": {
    "papermill": {
     "duration": 0.009988,
     "end_time": "2021-02-10T12:44:58.525334",
     "exception": false,
     "start_time": "2021-02-10T12:44:58.515346",
     "status": "completed"
    },
    "tags": []
   },
   "source": [
    "# Helper Functions"
   ]
  },
  {
   "cell_type": "code",
   "execution_count": 5,
   "metadata": {
    "execution": {
     "iopub.execute_input": "2021-02-10T12:44:58.549683Z",
     "iopub.status.busy": "2021-02-10T12:44:58.548765Z",
     "iopub.status.idle": "2021-02-10T12:44:58.554252Z",
     "shell.execute_reply": "2021-02-10T12:44:58.554709Z"
    },
    "papermill": {
     "duration": 0.019129,
     "end_time": "2021-02-10T12:44:58.554881",
     "exception": false,
     "start_time": "2021-02-10T12:44:58.535752",
     "status": "completed"
    },
    "tags": []
   },
   "outputs": [],
   "source": [
    "def mean_squared_error(predictions, labels):\n",
    "    N = labels.size\n",
    "    mse = ((predictions - labels)**2).sum() / (2*N)\n",
    "    \n",
    "    return mse\n",
    "\n",
    "def accuracy(predictions, labels):\n",
    "    predicions_correct = predictions.argmax(axis=1) == labels.argmax(axis=1)\n",
    "    accuracy = predicions_correct.mean()\n",
    "    \n",
    "    return accuracy"
   ]
  },
  {
   "cell_type": "markdown",
   "metadata": {
    "papermill": {
     "duration": 0.010195,
     "end_time": "2021-02-10T12:44:58.575128",
     "exception": false,
     "start_time": "2021-02-10T12:44:58.564933",
     "status": "completed"
    },
    "tags": []
   },
   "source": [
    "# Parameters"
   ]
  },
  {
   "cell_type": "code",
   "execution_count": 6,
   "metadata": {
    "execution": {
     "iopub.execute_input": "2021-02-10T12:44:58.599625Z",
     "iopub.status.busy": "2021-02-10T12:44:58.598700Z",
     "iopub.status.idle": "2021-02-10T12:44:58.605013Z",
     "shell.execute_reply": "2021-02-10T12:44:58.605451Z"
    },
    "papermill": {
     "duration": 0.020195,
     "end_time": "2021-02-10T12:44:58.605630",
     "exception": false,
     "start_time": "2021-02-10T12:44:58.585435",
     "status": "completed"
    },
    "tags": []
   },
   "outputs": [],
   "source": [
    "lr = 0.1\n",
    "epochs = 15000\n",
    "\n",
    "n_input = 4\n",
    "n_hidden = 2\n",
    "n_output = 3\n",
    "\n",
    "N = y_train.size\n",
    "\n",
    "np.random.seed(10)\n",
    "weights_1 = np.random.normal(scale=0.5, size=(n_input, n_hidden)) \n",
    "weights_2 = np.random.normal(scale=0.5, size=(n_hidden, n_output))\n",
    "\n",
    "monitoring = {\"mean_squared_error\": [], \"accuracy\": []}"
   ]
  },
  {
   "cell_type": "markdown",
   "metadata": {
    "papermill": {
     "duration": 0.009878,
     "end_time": "2021-02-10T12:44:58.625869",
     "exception": false,
     "start_time": "2021-02-10T12:44:58.615991",
     "status": "completed"
    },
    "tags": []
   },
   "source": [
    "# Forward"
   ]
  },
  {
   "cell_type": "code",
   "execution_count": 7,
   "metadata": {
    "execution": {
     "iopub.execute_input": "2021-02-10T12:44:58.649898Z",
     "iopub.status.busy": "2021-02-10T12:44:58.649038Z",
     "iopub.status.idle": "2021-02-10T12:44:58.653044Z",
     "shell.execute_reply": "2021-02-10T12:44:58.653483Z"
    },
    "papermill": {
     "duration": 0.017528,
     "end_time": "2021-02-10T12:44:58.653640",
     "exception": false,
     "start_time": "2021-02-10T12:44:58.636112",
     "status": "completed"
    },
    "tags": []
   },
   "outputs": [],
   "source": [
    "def sigmoid(X):\n",
    "    return 1 / (1 + np.exp(-X))"
   ]
  },
  {
   "cell_type": "code",
   "execution_count": 8,
   "metadata": {
    "execution": {
     "iopub.execute_input": "2021-02-10T12:44:58.679082Z",
     "iopub.status.busy": "2021-02-10T12:44:58.678166Z",
     "iopub.status.idle": "2021-02-10T12:44:58.682490Z",
     "shell.execute_reply": "2021-02-10T12:44:58.682956Z"
    },
    "papermill": {
     "duration": 0.018065,
     "end_time": "2021-02-10T12:44:58.683120",
     "exception": false,
     "start_time": "2021-02-10T12:44:58.665055",
     "status": "completed"
    },
    "tags": []
   },
   "outputs": [],
   "source": [
    "def forward(X, weights):\n",
    "    inputs = np.dot(X, weights)\n",
    "    outputs = sigmoid(inputs)\n",
    "    \n",
    "    return outputs"
   ]
  },
  {
   "cell_type": "markdown",
   "metadata": {
    "papermill": {
     "duration": 0.010168,
     "end_time": "2021-02-10T12:44:58.703895",
     "exception": false,
     "start_time": "2021-02-10T12:44:58.693727",
     "status": "completed"
    },
    "tags": []
   },
   "source": [
    "# Backprop"
   ]
  },
  {
   "cell_type": "code",
   "execution_count": 9,
   "metadata": {
    "execution": {
     "iopub.execute_input": "2021-02-10T12:44:58.728902Z",
     "iopub.status.busy": "2021-02-10T12:44:58.728015Z",
     "iopub.status.idle": "2021-02-10T12:44:58.733211Z",
     "shell.execute_reply": "2021-02-10T12:44:58.733669Z"
    },
    "papermill": {
     "duration": 0.019412,
     "end_time": "2021-02-10T12:44:58.733837",
     "exception": false,
     "start_time": "2021-02-10T12:44:58.714425",
     "status": "completed"
    },
    "tags": []
   },
   "outputs": [],
   "source": [
    "def backprop(output_layer_outputs, hidden_layer_outputs, y_train, weights_1, weights_2):\n",
    "    output_layer_error = output_layer_outputs - y_train\n",
    "    output_layer_delta = output_layer_error * output_layer_outputs * (1 - output_layer_outputs)\n",
    "\n",
    "    hidden_layer_error = np.dot(output_layer_delta, weights_2.T)\n",
    "    hidden_layer_delta = hidden_layer_error * hidden_layer_outputs * (1 - hidden_layer_outputs)\n",
    "    \n",
    "    return output_layer_error, output_layer_delta, hidden_layer_error, hidden_layer_delta"
   ]
  },
  {
   "cell_type": "markdown",
   "metadata": {
    "papermill": {
     "duration": 0.010536,
     "end_time": "2021-02-10T12:44:58.755132",
     "exception": false,
     "start_time": "2021-02-10T12:44:58.744596",
     "status": "completed"
    },
    "tags": []
   },
   "source": [
    "# Update Weights"
   ]
  },
  {
   "cell_type": "code",
   "execution_count": 10,
   "metadata": {
    "execution": {
     "iopub.execute_input": "2021-02-10T12:44:58.781082Z",
     "iopub.status.busy": "2021-02-10T12:44:58.780166Z",
     "iopub.status.idle": "2021-02-10T12:44:58.784622Z",
     "shell.execute_reply": "2021-02-10T12:44:58.785040Z"
    },
    "papermill": {
     "duration": 0.018991,
     "end_time": "2021-02-10T12:44:58.785210",
     "exception": false,
     "start_time": "2021-02-10T12:44:58.766219",
     "status": "completed"
    },
    "tags": []
   },
   "outputs": [],
   "source": [
    "def update_weights(weights, outputs, delta):\n",
    "    updated_weights = np.dot(outputs.T, delta) / N\n",
    "    new_weights = weights - lr * updated_weights\n",
    "    \n",
    "    return new_weights"
   ]
  },
  {
   "cell_type": "markdown",
   "metadata": {
    "papermill": {
     "duration": 0.010758,
     "end_time": "2021-02-10T12:44:58.806847",
     "exception": false,
     "start_time": "2021-02-10T12:44:58.796089",
     "status": "completed"
    },
    "tags": []
   },
   "source": [
    "# Main"
   ]
  },
  {
   "cell_type": "code",
   "execution_count": 11,
   "metadata": {
    "execution": {
     "iopub.execute_input": "2021-02-10T12:44:58.833135Z",
     "iopub.status.busy": "2021-02-10T12:44:58.832206Z",
     "iopub.status.idle": "2021-02-10T12:44:59.937445Z",
     "shell.execute_reply": "2021-02-10T12:44:59.937868Z"
    },
    "papermill": {
     "duration": 1.119912,
     "end_time": "2021-02-10T12:44:59.938066",
     "exception": false,
     "start_time": "2021-02-10T12:44:58.818154",
     "status": "completed"
    },
    "tags": []
   },
   "outputs": [],
   "source": [
    "for epoch in range(epochs):    \n",
    "    \n",
    "    # forward\n",
    "    hidden_layer_outputs = forward(X_train, weights_1)\n",
    "    output_layer_outputs = forward(hidden_layer_outputs, weights_2)\n",
    "    \n",
    "    \n",
    "    # monitor training process\n",
    "    mse = mean_squared_error(output_layer_outputs, y_train)\n",
    "    acc = accuracy(output_layer_outputs, y_train)\n",
    "    \n",
    "    monitoring[\"mean_squared_error\"].append(mse)\n",
    "    monitoring[\"accuracy\"].append(acc)\n",
    "    \n",
    "    \n",
    "    # backprop\n",
    "    output_layer_error, output_layer_delta, hidden_layer_error, hidden_layer_delta = backprop(output_layer_outputs, hidden_layer_outputs, y_train, weights_1, weights_2)\n",
    "\n",
    "    \n",
    "    # update weights\n",
    "    weights_2 = update_weights(weights_2, hidden_layer_outputs, output_layer_delta)\n",
    "    weights_1 = update_weights(weights_1, X_train, hidden_layer_delta)"
   ]
  },
  {
   "cell_type": "code",
   "execution_count": 12,
   "metadata": {
    "execution": {
     "iopub.execute_input": "2021-02-10T12:44:59.963968Z",
     "iopub.status.busy": "2021-02-10T12:44:59.963016Z",
     "iopub.status.idle": "2021-02-10T12:45:00.443940Z",
     "shell.execute_reply": "2021-02-10T12:45:00.443326Z"
    },
    "papermill": {
     "duration": 0.495271,
     "end_time": "2021-02-10T12:45:00.444082",
     "exception": false,
     "start_time": "2021-02-10T12:44:59.948811",
     "status": "completed"
    },
    "tags": []
   },
   "outputs": [
    {
     "data": {
      "image/png": "[encoded data removed]",
      "text/plain": [
       "<Figure size 1080x360 with 2 Axes>"
      ]
     },
     "metadata": {
      "needs_background": "light"
     },
     "output_type": "display_data"
    }
   ],
   "source": [
    "import matplotlib.pyplot as plt\n",
    "import seaborn as sns\n",
    "%matplotlib inline\n",
    "\n",
    "monitoring_df = pd.DataFrame(monitoring)\n",
    "\n",
    "fig, axes = plt.subplots(1, 2, figsize=(15,5))\n",
    "monitoring_df.mean_squared_error.plot(ax=axes[0], title=\"Mean Squared Error\")\n",
    "monitoring_df.accuracy.plot(ax=axes[1], title=\"Accuracy\");"
   ]
  },
  {
   "cell_type": "markdown",
   "metadata": {
    "papermill": {
     "duration": 0.012039,
     "end_time": "2021-02-10T12:45:00.468057",
     "exception": false,
     "start_time": "2021-02-10T12:45:00.456018",
     "status": "completed"
    },
    "tags": []
   },
   "source": [
    "# Test"
   ]
  },
  {
   "cell_type": "code",
   "execution_count": 13,
   "metadata": {
    "execution": {
     "iopub.execute_input": "2021-02-10T12:45:00.497493Z",
     "iopub.status.busy": "2021-02-10T12:45:00.496890Z",
     "iopub.status.idle": "2021-02-10T12:45:00.499665Z",
     "shell.execute_reply": "2021-02-10T12:45:00.499210Z"
    },
    "papermill": {
     "duration": 0.019829,
     "end_time": "2021-02-10T12:45:00.499857",
     "exception": false,
     "start_time": "2021-02-10T12:45:00.480028",
     "status": "completed"
    },
    "tags": []
   },
   "outputs": [],
   "source": [
    "hidden_layer_inputs = np.dot(X_test, weights_1)\n",
    "hidden_layer_outputs = sigmoid(hidden_layer_inputs)\n",
    "\n",
    "output_layer_inputs = np.dot(hidden_layer_outputs, weights_2)\n",
    "output_layer_outputs = sigmoid(output_layer_inputs)"
   ]
  },
  {
   "cell_type": "code",
   "execution_count": 14,
   "metadata": {
    "execution": {
     "iopub.execute_input": "2021-02-10T12:45:00.529257Z",
     "iopub.status.busy": "2021-02-10T12:45:00.528378Z",
     "iopub.status.idle": "2021-02-10T12:45:00.532937Z",
     "shell.execute_reply": "2021-02-10T12:45:00.532255Z"
    },
    "papermill": {
     "duration": 0.021285,
     "end_time": "2021-02-10T12:45:00.533131",
     "exception": false,
     "start_time": "2021-02-10T12:45:00.511846",
     "status": "completed"
    },
    "tags": []
   },
   "outputs": [
    {
     "name": "stdout",
     "output_type": "stream",
     "text": [
      "Accuracy: 0.9736842105263158\n"
     ]
    }
   ],
   "source": [
    "acc = accuracy(output_layer_outputs, y_test)\n",
    "print(\"Accuracy: {}\".format(acc))"
   ]
  }
 ],
 "metadata": {
  "kernelspec": {
   "display_name": "Python 3",
   "language": "python",
   "name": "python3"
  },
  "language_info": {
   "codemirror_mode": {
    "name": "ipython",
    "version": 3
   },
   "file_extension": ".py",
   "mimetype": "text/x-python",
   "name": "python",
   "nbconvert_exporter": "python",
   "pygments_lexer": "ipython3",
   "version": "3.7.9"
  },
  "papermill": {
   "default_parameters": {},
   "duration": 8.913304,
   "end_time": "2021-02-10T12:45:01.159861",
   "environment_variables": {},
   "exception": null,
   "input_path": "__notebook__.ipynb",
   "output_path": "__notebook__.ipynb",
   "parameters": {},
   "start_time": "2021-02-10T12:44:52.246557",
   "version": "2.2.2"
  }
 },
 "nbformat": 4,
 "nbformat_minor": 4
}
