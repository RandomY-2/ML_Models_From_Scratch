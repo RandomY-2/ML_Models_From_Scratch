{
 "cells": [
  {
   "cell_type": "markdown",
   "metadata": {
    "papermill": {
     "duration": 0.01325,
     "end_time": "2021-01-04T02:29:43.771060",
     "exception": false,
     "start_time": "2021-01-04T02:29:43.757810",
     "status": "completed"
    },
    "tags": []
   },
   "source": [
    "# Introduction\n",
    "\n",
    "In this notebook, I will implement the K-Nearest Neighbor algorithm from scratch and test my implementation on scikit-learn's breast cancer dataset."
   ]
  },
  {
   "cell_type": "code",
   "execution_count": 1,
   "metadata": {
    "_cell_guid": "b1076dfc-b9ad-4769-8c92-a6c4dae69d19",
    "_uuid": "8f2839f25d086af736a60e9eeb907d3b93b6e0e5",
    "execution": {
     "iopub.execute_input": "2021-01-04T02:29:43.799787Z",
     "iopub.status.busy": "2021-01-04T02:29:43.799150Z",
     "iopub.status.idle": "2021-01-04T02:29:43.803021Z",
     "shell.execute_reply": "2021-01-04T02:29:43.802275Z"
    },
    "papermill": {
     "duration": 0.021026,
     "end_time": "2021-01-04T02:29:43.803156",
     "exception": false,
     "start_time": "2021-01-04T02:29:43.782130",
     "status": "completed"
    },
    "tags": []
   },
   "outputs": [],
   "source": [
    "# This Python 3 environment comes with many helpful analytics libraries installed\n",
    "# It is defined by the kaggle/python Docker image: https://github.com/kaggle/docker-python\n",
    "# For example, here's several helpful packages to load\n",
    "\n",
    "import numpy as np # linear algebra\n",
    "import pandas as pd # data processing, CSV file I/O (e.g. pd.read_csv)\n",
    "\n",
    "# Input data files are available in the read-only \"../input/\" directory\n",
    "# For example, running this (by clicking run or pressing Shift+Enter) will list all files under the input directory\n",
    "\n",
    "import os\n",
    "for dirname, _, filenames in os.walk('/kaggle/input'):\n",
    "    for filename in filenames:\n",
    "        print(os.path.join(dirname, filename))\n",
    "\n",
    "# You can write up to 20GB to the current directory (/kaggle/working/) that gets preserved as output when you create a version using \"Save & Run All\" \n",
    "# You can also write temporary files to /kaggle/temp/, but they won't be saved outside of the current session"
   ]
  },
  {
   "cell_type": "markdown",
   "metadata": {
    "papermill": {
     "duration": 0.016605,
     "end_time": "2021-01-04T02:29:43.836809",
     "exception": false,
     "start_time": "2021-01-04T02:29:43.820204",
     "status": "completed"
    },
    "tags": []
   },
   "source": [
    "# Model Implementation\n",
    "\n",
    "Now let's build our KNN classifier. Essentially, the model will look at the k nearest samples and see which class they belong to and assign the label of current sample to the most frequently appeared class. \n",
    "\n",
    "To accomplish this, I will predict an input in two steps:\n",
    "\n",
    "1. compute the distances of the input to all other samples with known labels\n",
    "2. assign a class label to the input based on the most frequent class label of the k cloest samples"
   ]
  },
  {
   "cell_type": "code",
   "execution_count": 2,
   "metadata": {
    "execution": {
     "iopub.execute_input": "2021-01-04T02:29:43.876355Z",
     "iopub.status.busy": "2021-01-04T02:29:43.875723Z",
     "iopub.status.idle": "2021-01-04T02:29:43.879083Z",
     "shell.execute_reply": "2021-01-04T02:29:43.878427Z"
    },
    "papermill": {
     "duration": 0.025442,
     "end_time": "2021-01-04T02:29:43.879192",
     "exception": false,
     "start_time": "2021-01-04T02:29:43.853750",
     "status": "completed"
    },
    "tags": []
   },
   "outputs": [],
   "source": [
    "eps = 1e-8"
   ]
  },
  {
   "cell_type": "markdown",
   "metadata": {
    "papermill": {
     "duration": 0.011252,
     "end_time": "2021-01-04T02:29:43.902786",
     "exception": false,
     "start_time": "2021-01-04T02:29:43.891534",
     "status": "completed"
    },
    "tags": []
   },
   "source": [
    "**Predict**"
   ]
  },
  {
   "cell_type": "code",
   "execution_count": 3,
   "metadata": {
    "execution": {
     "iopub.execute_input": "2021-01-04T02:29:43.930838Z",
     "iopub.status.busy": "2021-01-04T02:29:43.930221Z",
     "iopub.status.idle": "2021-01-04T02:29:43.933162Z",
     "shell.execute_reply": "2021-01-04T02:29:43.933633Z"
    },
    "papermill": {
     "duration": 0.019792,
     "end_time": "2021-01-04T02:29:43.933749",
     "exception": false,
     "start_time": "2021-01-04T02:29:43.913957",
     "status": "completed"
    },
    "tags": []
   },
   "outputs": [],
   "source": [
    "def predict(X_test, k):\n",
    "    distances = compute_distance(X_test)\n",
    "    return predict_labels(distances, k)"
   ]
  },
  {
   "cell_type": "markdown",
   "metadata": {
    "papermill": {
     "duration": 0.011038,
     "end_time": "2021-01-04T02:29:43.956056",
     "exception": false,
     "start_time": "2021-01-04T02:29:43.945018",
     "status": "completed"
    },
    "tags": []
   },
   "source": [
    "**Compute the distance of input to all other samples**"
   ]
  },
  {
   "cell_type": "code",
   "execution_count": 4,
   "metadata": {
    "execution": {
     "iopub.execute_input": "2021-01-04T02:29:43.986467Z",
     "iopub.status.busy": "2021-01-04T02:29:43.985886Z",
     "iopub.status.idle": "2021-01-04T02:29:43.989375Z",
     "shell.execute_reply": "2021-01-04T02:29:43.988797Z"
    },
    "papermill": {
     "duration": 0.022169,
     "end_time": "2021-01-04T02:29:43.989464",
     "exception": false,
     "start_time": "2021-01-04T02:29:43.967295",
     "status": "completed"
    },
    "tags": []
   },
   "outputs": [],
   "source": [
    "def compute_distance(X_test):\n",
    "    X_test_squared = np.sum(X_test ** 2, axis=1, keepdims=True)\n",
    "    X_train_squared = np.sum(X_train ** 2, axis=1, keepdims=True)\n",
    "    two_X_test_X_train = np.dot(X_test, X_train.T)\n",
    "\n",
    "    return np.sqrt(eps + X_test_squared - 2 * two_X_test_X_train + X_train_squared.T)"
   ]
  },
  {
   "cell_type": "markdown",
   "metadata": {
    "papermill": {
     "duration": 0.011198,
     "end_time": "2021-01-04T02:29:44.012048",
     "exception": false,
     "start_time": "2021-01-04T02:29:44.000850",
     "status": "completed"
    },
    "tags": []
   },
   "source": [
    "**Assign a class label based on the k nearest samples**"
   ]
  },
  {
   "cell_type": "code",
   "execution_count": 5,
   "metadata": {
    "execution": {
     "iopub.execute_input": "2021-01-04T02:29:44.045048Z",
     "iopub.status.busy": "2021-01-04T02:29:44.044416Z",
     "iopub.status.idle": "2021-01-04T02:29:44.047068Z",
     "shell.execute_reply": "2021-01-04T02:29:44.046415Z"
    },
    "papermill": {
     "duration": 0.023592,
     "end_time": "2021-01-04T02:29:44.047178",
     "exception": false,
     "start_time": "2021-01-04T02:29:44.023586",
     "status": "completed"
    },
    "tags": []
   },
   "outputs": [],
   "source": [
    "def predict_labels(distances, k):\n",
    "    num_test = distances.shape[0]\n",
    "    y_pred = np.zeros(num_test)\n",
    "    \n",
    "    for i in range(num_test):\n",
    "        y_indices = np.argsort(distances[i, :])\n",
    "        k_closest_classes = y_train[y_indices[: k]].astype(int)\n",
    "        y_pred[i] = np.argmax(np.bincount(k_closest_classes))\n",
    "\n",
    "    return y_pred"
   ]
  },
  {
   "cell_type": "markdown",
   "metadata": {
    "papermill": {
     "duration": 0.011269,
     "end_time": "2021-01-04T02:29:44.070339",
     "exception": false,
     "start_time": "2021-01-04T02:29:44.059070",
     "status": "completed"
    },
    "tags": []
   },
   "source": [
    "# Test\n",
    "\n",
    "Now we have implementated the algorithm, let's test our model based on scikit-learn's breast cancer dataset. First I will apply some preprocessing and split the train and test sets."
   ]
  },
  {
   "cell_type": "code",
   "execution_count": 6,
   "metadata": {
    "execution": {
     "iopub.execute_input": "2021-01-04T02:29:44.100860Z",
     "iopub.status.busy": "2021-01-04T02:29:44.100191Z",
     "iopub.status.idle": "2021-01-04T02:29:45.312843Z",
     "shell.execute_reply": "2021-01-04T02:29:45.312150Z"
    },
    "papermill": {
     "duration": 1.231149,
     "end_time": "2021-01-04T02:29:45.312952",
     "exception": false,
     "start_time": "2021-01-04T02:29:44.081803",
     "status": "completed"
    },
    "tags": []
   },
   "outputs": [],
   "source": [
    "from sklearn.datasets import load_breast_cancer\n",
    "from sklearn.preprocessing import MinMaxScaler\n",
    "from sklearn.model_selection import train_test_split\n",
    "from sklearn.metrics import accuracy_score\n",
    "\n",
    "X = load_breast_cancer()['data']\n",
    "y = load_breast_cancer()['target']\n",
    "scaler = MinMaxScaler(feature_range=(-1, 1))\n",
    "X_scaled = scaler.fit_transform(X)\n",
    "\n",
    "X_train, X_test, y_train, y_test = train_test_split(X_scaled, y, test_size=0.25, random_state=42)"
   ]
  },
  {
   "cell_type": "markdown",
   "metadata": {
    "papermill": {
     "duration": 0.011693,
     "end_time": "2021-01-04T02:29:45.337113",
     "exception": false,
     "start_time": "2021-01-04T02:29:45.325420",
     "status": "completed"
    },
    "tags": []
   },
   "source": [
    "**Final the best K**"
   ]
  },
  {
   "cell_type": "code",
   "execution_count": 7,
   "metadata": {
    "execution": {
     "iopub.execute_input": "2021-01-04T02:29:45.366942Z",
     "iopub.status.busy": "2021-01-04T02:29:45.366158Z",
     "iopub.status.idle": "2021-01-04T02:29:45.583950Z",
     "shell.execute_reply": "2021-01-04T02:29:45.584701Z"
    },
    "papermill": {
     "duration": 0.235611,
     "end_time": "2021-01-04T02:29:45.584853",
     "exception": false,
     "start_time": "2021-01-04T02:29:45.349242",
     "status": "completed"
    },
    "tags": []
   },
   "outputs": [
    {
     "name": "stdout",
     "output_type": "stream",
     "text": [
      "0.9812206572769953\n",
      "0.9859154929577465\n",
      "0.9788732394366197\n",
      "0.9812206572769953\n",
      "0.9765258215962441\n",
      "0.9788732394366197\n",
      "0.9765258215962441\n",
      "0.9812206572769953\n",
      "0.9788732394366197\n"
     ]
    }
   ],
   "source": [
    "for k in range(2, 11):\n",
    "    y_pred = predict(X_train, k)\n",
    "    print(accuracy_score(y_train, y_pred))"
   ]
  },
  {
   "cell_type": "markdown",
   "metadata": {
    "papermill": {
     "duration": 0.012732,
     "end_time": "2021-01-04T02:29:45.613779",
     "exception": false,
     "start_time": "2021-01-04T02:29:45.601047",
     "status": "completed"
    },
    "tags": []
   },
   "source": [
    "By using different k to predict the training labels, we can see that with k = 3 the model has best performance. Now let's see its accuracy on the test set:"
   ]
  },
  {
   "cell_type": "code",
   "execution_count": 8,
   "metadata": {
    "execution": {
     "iopub.execute_input": "2021-01-04T02:29:45.642402Z",
     "iopub.status.busy": "2021-01-04T02:29:45.641504Z",
     "iopub.status.idle": "2021-01-04T02:29:45.654998Z",
     "shell.execute_reply": "2021-01-04T02:29:45.655867Z"
    },
    "papermill": {
     "duration": 0.029805,
     "end_time": "2021-01-04T02:29:45.656044",
     "exception": false,
     "start_time": "2021-01-04T02:29:45.626239",
     "status": "completed"
    },
    "tags": []
   },
   "outputs": [
    {
     "name": "stdout",
     "output_type": "stream",
     "text": [
      "0.972027972027972\n"
     ]
    }
   ],
   "source": [
    "final_y_pred = predict(X_test, 3)\n",
    "print(accuracy_score(y_test, final_y_pred))"
   ]
  },
  {
   "cell_type": "markdown",
   "metadata": {
    "papermill": {
     "duration": 0.012541,
     "end_time": "2021-01-04T02:29:45.682393",
     "exception": false,
     "start_time": "2021-01-04T02:29:45.669852",
     "status": "completed"
    },
    "tags": []
   },
   "source": [
    "To better understand this accuracy, I also used scikit-learn's built in K-Nearest Neighbor Classifier with k = 3 to predict the test set. The output is as follows:"
   ]
  },
  {
   "cell_type": "code",
   "execution_count": 9,
   "metadata": {
    "execution": {
     "iopub.execute_input": "2021-01-04T02:29:45.715393Z",
     "iopub.status.busy": "2021-01-04T02:29:45.714629Z",
     "iopub.status.idle": "2021-01-04T02:29:45.891090Z",
     "shell.execute_reply": "2021-01-04T02:29:45.891602Z"
    },
    "papermill": {
     "duration": 0.196022,
     "end_time": "2021-01-04T02:29:45.891816",
     "exception": false,
     "start_time": "2021-01-04T02:29:45.695794",
     "status": "completed"
    },
    "tags": []
   },
   "outputs": [
    {
     "name": "stdout",
     "output_type": "stream",
     "text": [
      "0.972027972027972\n"
     ]
    }
   ],
   "source": [
    "from sklearn.neighbors import KNeighborsClassifier\n",
    "\n",
    "neigh = KNeighborsClassifier(n_neighbors=3)\n",
    "neigh.fit(X_train, y_train)\n",
    "y_pred = neigh.predict(X_test)\n",
    "print(accuracy_score(y_test, y_pred))"
   ]
  },
  {
   "cell_type": "markdown",
   "metadata": {
    "papermill": {
     "duration": 0.012982,
     "end_time": "2021-01-04T02:29:45.919223",
     "exception": false,
     "start_time": "2021-01-04T02:29:45.906241",
     "status": "completed"
    },
    "tags": []
   },
   "source": [
    "The accuracy of scikit-learn's model is identical to our model, which thus shows our implementation is successful."
   ]
  }
 ],
 "metadata": {
  "kernelspec": {
   "display_name": "Python 3",
   "language": "python",
   "name": "python3"
  },
  "language_info": {
   "codemirror_mode": {
    "name": "ipython",
    "version": 3
   },
   "file_extension": ".py",
   "mimetype": "text/x-python",
   "name": "python",
   "nbconvert_exporter": "python",
   "pygments_lexer": "ipython3",
   "version": "3.7.6"
  },
  "papermill": {
   "duration": 7.020736,
   "end_time": "2021-01-04T02:29:46.039579",
   "environment_variables": {},
   "exception": null,
   "input_path": "__notebook__.ipynb",
   "output_path": "__notebook__.ipynb",
   "parameters": {},
   "start_time": "2021-01-04T02:29:39.018843",
   "version": "2.1.0"
  }
 },
 "nbformat": 4,
 "nbformat_minor": 4
}
